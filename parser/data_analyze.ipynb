{
 "cells": [
  {
   "attachments": {},
   "cell_type": "markdown",
   "metadata": {},
   "source": [
    "## onsite数据分析程序"
   ]
  },
  {
   "attachments": {},
   "cell_type": "markdown",
   "metadata": {},
   "source": [
    "### 配置文件\n",
    "全局参数设置 **（必须执行）**"
   ]
  },
  {
   "cell_type": "code",
   "execution_count": 12,
   "metadata": {},
   "outputs": [],
   "source": [
    "import sys\n",
    "sys.path.append('../tester')\n",
    "from connector import Connector\n",
    "\n",
    "COMPETITIONS = ['2023031405', '2023031901', '2023031902', '2023031903']\n",
    "\n",
    "# 数据库连接实例\n",
    "database = Connector()"
   ]
  },
  {
   "attachments": {},
   "cell_type": "markdown",
   "metadata": {},
   "source": [
    "### 竞赛报名情况"
   ]
  },
  {
   "attachments": {},
   "cell_type": "markdown",
   "metadata": {},
   "source": [
    "#### 参与高校及团队文本数据"
   ]
  },
  {
   "cell_type": "code",
   "execution_count": 13,
   "metadata": {},
   "outputs": [
    {
     "name": "stdout",
     "output_type": "stream",
     "text": [
      "参赛高校数：40个\n",
      "参赛团队数：101支\n",
      "  第一届OnSite自动驾驶算法挑战赛（综合赛）：42队\n",
      "  第一届OnSite自动驾驶算法挑战赛（高速路基本段专项赛）：63队\n",
      "  第一届OnSite自动驾驶算法挑战赛（高速路汇入汇出区专项赛）：39队\n",
      "  第一届OnSite自动驾驶算法挑战赛（交叉口专项赛）：40队\n",
      "参赛人数：1104人次\n"
     ]
    }
   ],
   "source": [
    "import pandas as pd\n",
    "\n",
    "users = []\n",
    "user_columns = database._get_col_name('user')\n",
    "\n",
    "script = f\"SELECT participantId, competitionId FROM entry WHERE competitionId in ({','.join(COMPETITIONS)})\"\n",
    "for participantId, competitionId in database._db_fetch(script):\n",
    "    user = database._get_value(table='user', field='*', logic='AND', userId=participantId)\n",
    "    user = dict(zip(user_columns, user[0]))\n",
    "    user['competitionId'] = competitionId\n",
    "    users.append(user)\n",
    "\n",
    "part_info = pd.DataFrame(users)\n",
    "\n",
    "# 高校数\n",
    "print(f\"参赛高校数：{len(set(part_info['school']))-2}个\") # 去除3个测试项(tj, 1-IDM, 2-Lattice)\n",
    "# 团队数\n",
    "print(f\"参赛团队数：{len(set(part_info['supervisorName']))-2}支\") # 去除2个测试项(1-IDM, 2-Lattice)\n",
    "# 参赛人数(按每个团队6人计算)\n",
    "group_info = {}\n",
    "for competitionId, rows in part_info.groupby('competitionId'):\n",
    "    competition_name = database._get_value(table='competition', field='competitionName', logic='AND', competitionId=competitionId)[0][0]\n",
    "    for index, row in rows.iterrows():\n",
    "        group_info.setdefault(competition_name, [])\n",
    "        group_info[competition_name].append(row.supervisorName)\n",
    "for k, v in group_info.items():\n",
    "    group_info[k] = len(set(v)) - 2\n",
    "    print(f\"  {k}：{group_info[k]}队\")\n",
    "print(f\"参赛人数：{sum(list(group_info.values()))*6}人次\")"
   ]
  },
  {
   "attachments": {},
   "cell_type": "markdown",
   "metadata": {},
   "source": [
    "#### 高校报名分布情况\n",
    "> 输出文件：`高校报名分布情况.html`"
   ]
  },
  {
   "cell_type": "code",
   "execution_count": 11,
   "metadata": {},
   "outputs": [
    {
     "data": {
      "application/vnd.plotly.v1+json": {
       "config": {
        "plotlyServerURL": "https://plot.ly"
       },
       "data": [
        {
         "name": "综合赛",
         "text": [
          "",
          "袁腾飞",
          "",
          "赵靖",
          "Adam",
          "庄伟超,李大韦",
          "",
          "黄玮",
          "王震坡",
          "",
          "王章宇,鲁光泉",
          "赵克刚",
          "张良,黄鹤",
          "陈永恒",
          "涂辉招,秦国阳,梁皓阳,杭鹏,孙剑,吴志周,田野,吴光强,倪颖,冷搏,靳文瑞",
          "Melvin Wong",
          "赵",
          "",
          "",
          "王鹏伟",
          "戢晓峰,沈世全",
          "裴晓飞",
          "王海",
          "",
          "单肖年",
          "",
          "李深,许庆,李克强,李浩然",
          "秦晓辉",
          "",
          "李梦林",
          "",
          "",
          "",
          "",
          "",
          "",
          "",
          "杨澜,蔡锷,汤宏博",
          "",
          "马骏"
         ],
         "textfont": {
          "color": "white",
          "size": 8
         },
         "textposition": "inside",
         "texttemplate": [
          "0",
          "1",
          "0",
          "1",
          "1",
          "2",
          "0",
          "1",
          "1",
          "0",
          "2",
          "1",
          "2",
          "1",
          "11",
          "1",
          "1",
          "0",
          "0",
          "1",
          "2",
          "1",
          "1",
          "0",
          "1",
          "0",
          "4",
          "1",
          "0",
          "1",
          "0",
          "0",
          "0",
          "0",
          "0",
          "0",
          "0",
          "3",
          "0",
          "1"
         ],
         "type": "bar",
         "x": [
          "上海交通大学",
          "上海大学",
          "上海海事大学",
          "上海理工大学",
          "不列颠哥伦比亚大学",
          "东南大学",
          "中国农业大学",
          "中山大学",
          "北京理工大学",
          "北京科技大学",
          "北京航空航天大学",
          "华南理工大学",
          "合肥工业大学",
          "吉林大学",
          "同济大学",
          "埃因霍温理工大学",
          "大连理工大学",
          "威斯康星大学麦迪逊分校",
          "宁波理工学院 ",
          "山东理工大学",
          "昆明理工大学",
          "武汉理工大学",
          "江苏大学",
          "河北工业大学",
          "河海大学",
          "浙江大学",
          "清华大学",
          "湖南大学",
          "澳门科技大学",
          "燕山大学",
          "苏州大学",
          "西华大学",
          "西南交通大学",
          "西安建筑科技大学",
          "西安科技大学",
          "重庆大学",
          "重庆理工大学",
          "长安大学",
          "长春工业大学",
          "香港科技大学(广州)"
         ],
         "y": [
          0,
          1,
          0,
          1,
          1,
          2,
          0,
          1,
          1,
          0,
          2,
          1,
          2,
          1,
          11,
          1,
          1,
          0,
          0,
          1,
          2,
          1,
          1,
          0,
          1,
          0,
          4,
          1,
          0,
          1,
          0,
          0,
          0,
          0,
          0,
          0,
          0,
          3,
          0,
          1
         ]
        },
        {
         "name": "高速路基本段专项赛",
         "text": [
          "胡川",
          "",
          "陈信强",
          "章程,陈浩",
          "Adam",
          "曲栩,沈永俊",
          "",
          "黄玮",
          "王震坡,王伟达,吕超",
          "顾青",
          "",
          "赵克刚",
          "张良,袁凯",
          "韩嘉懿,陈志成",
          "涂辉招,岳李圣飒,秦国阳,杭鹏,田野,孙剑,吴志周,吴光强,倪颖,方守恩,冷搏,骆晓,熊璐,黄岩军",
          "",
          "赵",
          "冉斌",
          "",
          "",
          "秦雅琴",
          "贺宜,宋力",
          "唐斌",
          "武春龙,刘晓昂,王刚",
          "",
          "",
          "李克强,曹东璞",
          "秦晓辉",
          "",
          "",
          "王翔",
          "邓鹏毅,黎青松",
          "郑芳芳,蒋阳升,姚志洪",
          "李晓伟",
          "赵栓峰",
          "李国法",
          "胡博,宋洁",
          "马峻岩,王润民,杨澜,李良敏,闵海根,辛琪,房建武,汤宏博",
          "李绍松",
          ""
         ],
         "textfont": {
          "color": "white",
          "size": 8
         },
         "textposition": "inside",
         "texttemplate": [
          "1",
          "0",
          "1",
          "2",
          "1",
          "2",
          "0",
          "1",
          "3",
          "1",
          "0",
          "1",
          "2",
          "2",
          "14",
          "0",
          "1",
          "1",
          "0",
          "0",
          "1",
          "2",
          "1",
          "3",
          "0",
          "0",
          "2",
          "1",
          "0",
          "0",
          "1",
          "2",
          "3",
          "1",
          "1",
          "1",
          "2",
          "8",
          "1",
          "0"
         ],
         "type": "bar",
         "x": [
          "上海交通大学",
          "上海大学",
          "上海海事大学",
          "上海理工大学",
          "不列颠哥伦比亚大学",
          "东南大学",
          "中国农业大学",
          "中山大学",
          "北京理工大学",
          "北京科技大学",
          "北京航空航天大学",
          "华南理工大学",
          "合肥工业大学",
          "吉林大学",
          "同济大学",
          "埃因霍温理工大学",
          "大连理工大学",
          "威斯康星大学麦迪逊分校",
          "宁波理工学院 ",
          "山东理工大学",
          "昆明理工大学",
          "武汉理工大学",
          "江苏大学",
          "河北工业大学",
          "河海大学",
          "浙江大学",
          "清华大学",
          "湖南大学",
          "澳门科技大学",
          "燕山大学",
          "苏州大学",
          "西华大学",
          "西南交通大学",
          "西安建筑科技大学",
          "西安科技大学",
          "重庆大学",
          "重庆理工大学",
          "长安大学",
          "长春工业大学",
          "香港科技大学(广州)"
         ],
         "y": [
          1,
          0,
          1,
          2,
          1,
          2,
          0,
          1,
          3,
          1,
          0,
          1,
          2,
          2,
          14,
          0,
          1,
          1,
          0,
          0,
          1,
          2,
          1,
          3,
          0,
          0,
          2,
          1,
          0,
          0,
          1,
          2,
          3,
          1,
          1,
          1,
          2,
          8,
          1,
          0
         ]
        },
        {
         "name": "高速路汇入汇出区专项赛",
         "text": [
          "胡川",
          "",
          "陈信强,翁金贤",
          "章程",
          "",
          "李大韦",
          "孔伟伟",
          "黄玮",
          "",
          "顾青",
          "",
          "裴明阳",
          "",
          "韩嘉懿,陈志成",
          "岳李圣飒,秦国阳,杭鹏,孙剑,田野,倪颖,柴晨,黄岩军,涂辉招",
          "",
          "姚宝珍",
          "",
          "周继彪",
          "",
          "秦雅琴",
          "贺宜",
          "",
          "",
          "",
          "李道飞",
          "李浩然",
          "刘晨辉",
          "",
          "",
          "王翔",
          "",
          "郑芳芳,姚志洪",
          "",
          "",
          "李国法,刘丛志",
          "",
          "马峻岩,韩毅,蔡锷,赵祥模,闵海根,辛琪,景首才",
          "",
          ""
         ],
         "textfont": {
          "color": "white",
          "size": 8
         },
         "textposition": "inside",
         "texttemplate": [
          "1",
          "0",
          "2",
          "1",
          "0",
          "1",
          "1",
          "1",
          "0",
          "1",
          "0",
          "1",
          "0",
          "2",
          "9",
          "0",
          "1",
          "0",
          "1",
          "0",
          "1",
          "1",
          "0",
          "0",
          "0",
          "1",
          "1",
          "1",
          "0",
          "0",
          "1",
          "0",
          "2",
          "0",
          "0",
          "2",
          "0",
          "7",
          "0",
          "0"
         ],
         "type": "bar",
         "x": [
          "上海交通大学",
          "上海大学",
          "上海海事大学",
          "上海理工大学",
          "不列颠哥伦比亚大学",
          "东南大学",
          "中国农业大学",
          "中山大学",
          "北京理工大学",
          "北京科技大学",
          "北京航空航天大学",
          "华南理工大学",
          "合肥工业大学",
          "吉林大学",
          "同济大学",
          "埃因霍温理工大学",
          "大连理工大学",
          "威斯康星大学麦迪逊分校",
          "宁波理工学院 ",
          "山东理工大学",
          "昆明理工大学",
          "武汉理工大学",
          "江苏大学",
          "河北工业大学",
          "河海大学",
          "浙江大学",
          "清华大学",
          "湖南大学",
          "澳门科技大学",
          "燕山大学",
          "苏州大学",
          "西华大学",
          "西南交通大学",
          "西安建筑科技大学",
          "西安科技大学",
          "重庆大学",
          "重庆理工大学",
          "长安大学",
          "长春工业大学",
          "香港科技大学(广州)"
         ],
         "y": [
          1,
          0,
          2,
          1,
          0,
          1,
          1,
          1,
          0,
          1,
          0,
          1,
          0,
          2,
          9,
          0,
          1,
          0,
          1,
          0,
          1,
          1,
          0,
          0,
          0,
          1,
          1,
          1,
          0,
          0,
          1,
          0,
          2,
          0,
          0,
          2,
          0,
          7,
          0,
          0
         ]
        },
        {
         "name": "交叉口专项赛",
         "text": [
          "",
          "袁腾飞",
          "",
          "赵靖",
          "",
          "庄伟超,沈永俊",
          "",
          "黄玮",
          "吕超",
          "",
          "王章宇,鲁光泉",
          "",
          "",
          "",
          "秦国阳,梁皓阳,杭鹏,田野,孙剑,倪颖,骆晓,熊璐",
          "Melvin Wong",
          "姚宝珍",
          "",
          "周继彪",
          "王老师",
          "",
          "裴晓飞",
          "王海",
          "",
          "",
          "李道飞",
          "李深,许庆",
          "刘晨辉",
          "王飞跃",
          "刘丛志",
          "金辉",
          "",
          "姚志洪",
          "李晓伟",
          "赵栓峰",
          "",
          "胡博,宋洁",
          "王润民,韩毅,李良敏,辛琪",
          "李绍松",
          "马骏"
         ],
         "textfont": {
          "color": "white",
          "size": 8
         },
         "textposition": "inside",
         "texttemplate": [
          "0",
          "1",
          "0",
          "1",
          "0",
          "2",
          "0",
          "1",
          "1",
          "0",
          "2",
          "0",
          "0",
          "0",
          "8",
          "1",
          "1",
          "0",
          "1",
          "1",
          "0",
          "1",
          "1",
          "0",
          "0",
          "1",
          "2",
          "1",
          "1",
          "1",
          "1",
          "0",
          "1",
          "1",
          "1",
          "0",
          "2",
          "4",
          "1",
          "1"
         ],
         "type": "bar",
         "x": [
          "上海交通大学",
          "上海大学",
          "上海海事大学",
          "上海理工大学",
          "不列颠哥伦比亚大学",
          "东南大学",
          "中国农业大学",
          "中山大学",
          "北京理工大学",
          "北京科技大学",
          "北京航空航天大学",
          "华南理工大学",
          "合肥工业大学",
          "吉林大学",
          "同济大学",
          "埃因霍温理工大学",
          "大连理工大学",
          "威斯康星大学麦迪逊分校",
          "宁波理工学院 ",
          "山东理工大学",
          "昆明理工大学",
          "武汉理工大学",
          "江苏大学",
          "河北工业大学",
          "河海大学",
          "浙江大学",
          "清华大学",
          "湖南大学",
          "澳门科技大学",
          "燕山大学",
          "苏州大学",
          "西华大学",
          "西南交通大学",
          "西安建筑科技大学",
          "西安科技大学",
          "重庆大学",
          "重庆理工大学",
          "长安大学",
          "长春工业大学",
          "香港科技大学(广州)"
         ],
         "y": [
          0,
          1,
          0,
          1,
          0,
          2,
          0,
          1,
          1,
          0,
          2,
          0,
          0,
          0,
          8,
          1,
          1,
          0,
          1,
          1,
          0,
          1,
          1,
          0,
          0,
          1,
          2,
          1,
          1,
          1,
          1,
          0,
          1,
          1,
          1,
          0,
          2,
          4,
          1,
          1
         ]
        },
        {
         "name": "队伍数量",
         "text": [
          "胡川",
          "袁腾飞",
          "陈信强,翁金贤",
          "章程,赵靖,陈浩",
          "Adam",
          "庄伟超,曲栩,李大韦,沈永俊",
          "孔伟伟",
          "黄玮",
          "王震坡,王伟达,吕超",
          "顾青",
          "王章宇,鲁光泉",
          "赵克刚,裴明阳",
          "张良,袁凯,黄鹤",
          "陈永恒,韩嘉懿,陈志成",
          "涂辉招,岳李圣飒,秦国阳,梁皓阳,杭鹏,田野,孙剑,吴志周,吴光强,倪颖,方守恩,柴晨,冷搏,靳文瑞,骆晓,熊璐,黄岩军",
          "Melvin Wong",
          "赵,姚宝珍",
          "冉斌",
          "周继彪",
          "王鹏伟,王老师",
          "戢晓峰,沈世全,秦雅琴",
          "裴晓飞,贺宜,宋力",
          "唐斌,王海",
          "武春龙,刘晓昂,王刚",
          "单肖年",
          "李道飞",
          "李深,许庆,李克强,曹东璞,李浩然",
          "刘晨辉,秦晓辉",
          "王飞跃",
          "李梦林,刘丛志",
          "王翔,金辉",
          "邓鹏毅,黎青松",
          "郑芳芳,蒋阳升,姚志洪",
          "李晓伟",
          "赵栓峰",
          "李国法,刘丛志",
          "胡博,宋洁",
          "马峻岩,王润民,杨澜,韩毅,蔡锷,李良敏,赵祥模,闵海根,辛琪,房建武,景首才,汤宏博",
          "李绍松",
          "马骏"
         ],
         "textfont": {
          "color": "white",
          "size": 8
         },
         "textposition": "inside",
         "texttemplate": [
          "1",
          "1",
          "2",
          "3",
          "1",
          "4",
          "1",
          "1",
          "3",
          "1",
          "2",
          "2",
          "3",
          "3",
          "17",
          "1",
          "2",
          "1",
          "1",
          "2",
          "3",
          "3",
          "2",
          "3",
          "1",
          "1",
          "5",
          "2",
          "1",
          "2",
          "2",
          "2",
          "3",
          "1",
          "1",
          "2",
          "2",
          "12",
          "1",
          "1"
         ],
         "type": "bar",
         "x": [
          "上海交通大学",
          "上海大学",
          "上海海事大学",
          "上海理工大学",
          "不列颠哥伦比亚大学",
          "东南大学",
          "中国农业大学",
          "中山大学",
          "北京理工大学",
          "北京科技大学",
          "北京航空航天大学",
          "华南理工大学",
          "合肥工业大学",
          "吉林大学",
          "同济大学",
          "埃因霍温理工大学",
          "大连理工大学",
          "威斯康星大学麦迪逊分校",
          "宁波理工学院 ",
          "山东理工大学",
          "昆明理工大学",
          "武汉理工大学",
          "江苏大学",
          "河北工业大学",
          "河海大学",
          "浙江大学",
          "清华大学",
          "湖南大学",
          "澳门科技大学",
          "燕山大学",
          "苏州大学",
          "西华大学",
          "西南交通大学",
          "西安建筑科技大学",
          "西安科技大学",
          "重庆大学",
          "重庆理工大学",
          "长安大学",
          "长春工业大学",
          "香港科技大学(广州)"
         ],
         "y": [
          -1,
          -1,
          -2,
          -3,
          -1,
          -4,
          -1,
          -1,
          -3,
          -1,
          -2,
          -2,
          -3,
          -3,
          -17,
          -1,
          -2,
          -1,
          -1,
          -2,
          -3,
          -3,
          -2,
          -3,
          -1,
          -1,
          -5,
          -2,
          -1,
          -2,
          -2,
          -2,
          -3,
          -1,
          -1,
          -2,
          -2,
          -12,
          -1,
          -1
         ]
        }
       ],
       "layout": {
        "barmode": "relative",
        "legend": {
         "bgcolor": "rgba(255, 255, 255, 0)",
         "bordercolor": "rgba(255, 255, 255, 0)",
         "x": 0.85,
         "y": 0.95
        },
        "margin": {
         "b": 120,
         "l": 80,
         "r": 120,
         "t": 30
        },
        "plot_bgcolor": "rgba(0,0,0,0)",
        "template": {
         "data": {
          "bar": [
           {
            "error_x": {
             "color": "#2a3f5f"
            },
            "error_y": {
             "color": "#2a3f5f"
            },
            "marker": {
             "line": {
              "color": "#E5ECF6",
              "width": 0.5
             },
             "pattern": {
              "fillmode": "overlay",
              "size": 10,
              "solidity": 0.2
             }
            },
            "type": "bar"
           }
          ],
          "barpolar": [
           {
            "marker": {
             "line": {
              "color": "#E5ECF6",
              "width": 0.5
             },
             "pattern": {
              "fillmode": "overlay",
              "size": 10,
              "solidity": 0.2
             }
            },
            "type": "barpolar"
           }
          ],
          "carpet": [
           {
            "aaxis": {
             "endlinecolor": "#2a3f5f",
             "gridcolor": "white",
             "linecolor": "white",
             "minorgridcolor": "white",
             "startlinecolor": "#2a3f5f"
            },
            "baxis": {
             "endlinecolor": "#2a3f5f",
             "gridcolor": "white",
             "linecolor": "white",
             "minorgridcolor": "white",
             "startlinecolor": "#2a3f5f"
            },
            "type": "carpet"
           }
          ],
          "choropleth": [
           {
            "colorbar": {
             "outlinewidth": 0,
             "ticks": ""
            },
            "type": "choropleth"
           }
          ],
          "contour": [
           {
            "colorbar": {
             "outlinewidth": 0,
             "ticks": ""
            },
            "colorscale": [
             [
              0,
              "#0d0887"
             ],
             [
              0.1111111111111111,
              "#46039f"
             ],
             [
              0.2222222222222222,
              "#7201a8"
             ],
             [
              0.3333333333333333,
              "#9c179e"
             ],
             [
              0.4444444444444444,
              "#bd3786"
             ],
             [
              0.5555555555555556,
              "#d8576b"
             ],
             [
              0.6666666666666666,
              "#ed7953"
             ],
             [
              0.7777777777777778,
              "#fb9f3a"
             ],
             [
              0.8888888888888888,
              "#fdca26"
             ],
             [
              1,
              "#f0f921"
             ]
            ],
            "type": "contour"
           }
          ],
          "contourcarpet": [
           {
            "colorbar": {
             "outlinewidth": 0,
             "ticks": ""
            },
            "type": "contourcarpet"
           }
          ],
          "heatmap": [
           {
            "colorbar": {
             "outlinewidth": 0,
             "ticks": ""
            },
            "colorscale": [
             [
              0,
              "#0d0887"
             ],
             [
              0.1111111111111111,
              "#46039f"
             ],
             [
              0.2222222222222222,
              "#7201a8"
             ],
             [
              0.3333333333333333,
              "#9c179e"
             ],
             [
              0.4444444444444444,
              "#bd3786"
             ],
             [
              0.5555555555555556,
              "#d8576b"
             ],
             [
              0.6666666666666666,
              "#ed7953"
             ],
             [
              0.7777777777777778,
              "#fb9f3a"
             ],
             [
              0.8888888888888888,
              "#fdca26"
             ],
             [
              1,
              "#f0f921"
             ]
            ],
            "type": "heatmap"
           }
          ],
          "heatmapgl": [
           {
            "colorbar": {
             "outlinewidth": 0,
             "ticks": ""
            },
            "colorscale": [
             [
              0,
              "#0d0887"
             ],
             [
              0.1111111111111111,
              "#46039f"
             ],
             [
              0.2222222222222222,
              "#7201a8"
             ],
             [
              0.3333333333333333,
              "#9c179e"
             ],
             [
              0.4444444444444444,
              "#bd3786"
             ],
             [
              0.5555555555555556,
              "#d8576b"
             ],
             [
              0.6666666666666666,
              "#ed7953"
             ],
             [
              0.7777777777777778,
              "#fb9f3a"
             ],
             [
              0.8888888888888888,
              "#fdca26"
             ],
             [
              1,
              "#f0f921"
             ]
            ],
            "type": "heatmapgl"
           }
          ],
          "histogram": [
           {
            "marker": {
             "pattern": {
              "fillmode": "overlay",
              "size": 10,
              "solidity": 0.2
             }
            },
            "type": "histogram"
           }
          ],
          "histogram2d": [
           {
            "colorbar": {
             "outlinewidth": 0,
             "ticks": ""
            },
            "colorscale": [
             [
              0,
              "#0d0887"
             ],
             [
              0.1111111111111111,
              "#46039f"
             ],
             [
              0.2222222222222222,
              "#7201a8"
             ],
             [
              0.3333333333333333,
              "#9c179e"
             ],
             [
              0.4444444444444444,
              "#bd3786"
             ],
             [
              0.5555555555555556,
              "#d8576b"
             ],
             [
              0.6666666666666666,
              "#ed7953"
             ],
             [
              0.7777777777777778,
              "#fb9f3a"
             ],
             [
              0.8888888888888888,
              "#fdca26"
             ],
             [
              1,
              "#f0f921"
             ]
            ],
            "type": "histogram2d"
           }
          ],
          "histogram2dcontour": [
           {
            "colorbar": {
             "outlinewidth": 0,
             "ticks": ""
            },
            "colorscale": [
             [
              0,
              "#0d0887"
             ],
             [
              0.1111111111111111,
              "#46039f"
             ],
             [
              0.2222222222222222,
              "#7201a8"
             ],
             [
              0.3333333333333333,
              "#9c179e"
             ],
             [
              0.4444444444444444,
              "#bd3786"
             ],
             [
              0.5555555555555556,
              "#d8576b"
             ],
             [
              0.6666666666666666,
              "#ed7953"
             ],
             [
              0.7777777777777778,
              "#fb9f3a"
             ],
             [
              0.8888888888888888,
              "#fdca26"
             ],
             [
              1,
              "#f0f921"
             ]
            ],
            "type": "histogram2dcontour"
           }
          ],
          "mesh3d": [
           {
            "colorbar": {
             "outlinewidth": 0,
             "ticks": ""
            },
            "type": "mesh3d"
           }
          ],
          "parcoords": [
           {
            "line": {
             "colorbar": {
              "outlinewidth": 0,
              "ticks": ""
             }
            },
            "type": "parcoords"
           }
          ],
          "pie": [
           {
            "automargin": true,
            "type": "pie"
           }
          ],
          "scatter": [
           {
            "fillpattern": {
             "fillmode": "overlay",
             "size": 10,
             "solidity": 0.2
            },
            "type": "scatter"
           }
          ],
          "scatter3d": [
           {
            "line": {
             "colorbar": {
              "outlinewidth": 0,
              "ticks": ""
             }
            },
            "marker": {
             "colorbar": {
              "outlinewidth": 0,
              "ticks": ""
             }
            },
            "type": "scatter3d"
           }
          ],
          "scattercarpet": [
           {
            "marker": {
             "colorbar": {
              "outlinewidth": 0,
              "ticks": ""
             }
            },
            "type": "scattercarpet"
           }
          ],
          "scattergeo": [
           {
            "marker": {
             "colorbar": {
              "outlinewidth": 0,
              "ticks": ""
             }
            },
            "type": "scattergeo"
           }
          ],
          "scattergl": [
           {
            "marker": {
             "colorbar": {
              "outlinewidth": 0,
              "ticks": ""
             }
            },
            "type": "scattergl"
           }
          ],
          "scattermapbox": [
           {
            "marker": {
             "colorbar": {
              "outlinewidth": 0,
              "ticks": ""
             }
            },
            "type": "scattermapbox"
           }
          ],
          "scatterpolar": [
           {
            "marker": {
             "colorbar": {
              "outlinewidth": 0,
              "ticks": ""
             }
            },
            "type": "scatterpolar"
           }
          ],
          "scatterpolargl": [
           {
            "marker": {
             "colorbar": {
              "outlinewidth": 0,
              "ticks": ""
             }
            },
            "type": "scatterpolargl"
           }
          ],
          "scatterternary": [
           {
            "marker": {
             "colorbar": {
              "outlinewidth": 0,
              "ticks": ""
             }
            },
            "type": "scatterternary"
           }
          ],
          "surface": [
           {
            "colorbar": {
             "outlinewidth": 0,
             "ticks": ""
            },
            "colorscale": [
             [
              0,
              "#0d0887"
             ],
             [
              0.1111111111111111,
              "#46039f"
             ],
             [
              0.2222222222222222,
              "#7201a8"
             ],
             [
              0.3333333333333333,
              "#9c179e"
             ],
             [
              0.4444444444444444,
              "#bd3786"
             ],
             [
              0.5555555555555556,
              "#d8576b"
             ],
             [
              0.6666666666666666,
              "#ed7953"
             ],
             [
              0.7777777777777778,
              "#fb9f3a"
             ],
             [
              0.8888888888888888,
              "#fdca26"
             ],
             [
              1,
              "#f0f921"
             ]
            ],
            "type": "surface"
           }
          ],
          "table": [
           {
            "cells": {
             "fill": {
              "color": "#EBF0F8"
             },
             "line": {
              "color": "white"
             }
            },
            "header": {
             "fill": {
              "color": "#C8D4E3"
             },
             "line": {
              "color": "white"
             }
            },
            "type": "table"
           }
          ]
         },
         "layout": {
          "annotationdefaults": {
           "arrowcolor": "#2a3f5f",
           "arrowhead": 0,
           "arrowwidth": 1
          },
          "autotypenumbers": "strict",
          "coloraxis": {
           "colorbar": {
            "outlinewidth": 0,
            "ticks": ""
           }
          },
          "colorscale": {
           "diverging": [
            [
             0,
             "#8e0152"
            ],
            [
             0.1,
             "#c51b7d"
            ],
            [
             0.2,
             "#de77ae"
            ],
            [
             0.3,
             "#f1b6da"
            ],
            [
             0.4,
             "#fde0ef"
            ],
            [
             0.5,
             "#f7f7f7"
            ],
            [
             0.6,
             "#e6f5d0"
            ],
            [
             0.7,
             "#b8e186"
            ],
            [
             0.8,
             "#7fbc41"
            ],
            [
             0.9,
             "#4d9221"
            ],
            [
             1,
             "#276419"
            ]
           ],
           "sequential": [
            [
             0,
             "#0d0887"
            ],
            [
             0.1111111111111111,
             "#46039f"
            ],
            [
             0.2222222222222222,
             "#7201a8"
            ],
            [
             0.3333333333333333,
             "#9c179e"
            ],
            [
             0.4444444444444444,
             "#bd3786"
            ],
            [
             0.5555555555555556,
             "#d8576b"
            ],
            [
             0.6666666666666666,
             "#ed7953"
            ],
            [
             0.7777777777777778,
             "#fb9f3a"
            ],
            [
             0.8888888888888888,
             "#fdca26"
            ],
            [
             1,
             "#f0f921"
            ]
           ],
           "sequentialminus": [
            [
             0,
             "#0d0887"
            ],
            [
             0.1111111111111111,
             "#46039f"
            ],
            [
             0.2222222222222222,
             "#7201a8"
            ],
            [
             0.3333333333333333,
             "#9c179e"
            ],
            [
             0.4444444444444444,
             "#bd3786"
            ],
            [
             0.5555555555555556,
             "#d8576b"
            ],
            [
             0.6666666666666666,
             "#ed7953"
            ],
            [
             0.7777777777777778,
             "#fb9f3a"
            ],
            [
             0.8888888888888888,
             "#fdca26"
            ],
            [
             1,
             "#f0f921"
            ]
           ]
          },
          "colorway": [
           "#636efa",
           "#EF553B",
           "#00cc96",
           "#ab63fa",
           "#FFA15A",
           "#19d3f3",
           "#FF6692",
           "#B6E880",
           "#FF97FF",
           "#FECB52"
          ],
          "font": {
           "color": "#2a3f5f"
          },
          "geo": {
           "bgcolor": "white",
           "lakecolor": "white",
           "landcolor": "#E5ECF6",
           "showlakes": true,
           "showland": true,
           "subunitcolor": "white"
          },
          "hoverlabel": {
           "align": "left"
          },
          "hovermode": "closest",
          "mapbox": {
           "style": "light"
          },
          "paper_bgcolor": "white",
          "plot_bgcolor": "#E5ECF6",
          "polar": {
           "angularaxis": {
            "gridcolor": "white",
            "linecolor": "white",
            "ticks": ""
           },
           "bgcolor": "#E5ECF6",
           "radialaxis": {
            "gridcolor": "white",
            "linecolor": "white",
            "ticks": ""
           }
          },
          "scene": {
           "xaxis": {
            "backgroundcolor": "#E5ECF6",
            "gridcolor": "white",
            "gridwidth": 2,
            "linecolor": "white",
            "showbackground": true,
            "ticks": "",
            "zerolinecolor": "white"
           },
           "yaxis": {
            "backgroundcolor": "#E5ECF6",
            "gridcolor": "white",
            "gridwidth": 2,
            "linecolor": "white",
            "showbackground": true,
            "ticks": "",
            "zerolinecolor": "white"
           },
           "zaxis": {
            "backgroundcolor": "#E5ECF6",
            "gridcolor": "white",
            "gridwidth": 2,
            "linecolor": "white",
            "showbackground": true,
            "ticks": "",
            "zerolinecolor": "white"
           }
          },
          "shapedefaults": {
           "line": {
            "color": "#2a3f5f"
           }
          },
          "ternary": {
           "aaxis": {
            "gridcolor": "white",
            "linecolor": "white",
            "ticks": ""
           },
           "baxis": {
            "gridcolor": "white",
            "linecolor": "white",
            "ticks": ""
           },
           "bgcolor": "#E5ECF6",
           "caxis": {
            "gridcolor": "white",
            "linecolor": "white",
            "ticks": ""
           }
          },
          "title": {
           "x": 0.05
          },
          "xaxis": {
           "automargin": true,
           "gridcolor": "white",
           "linecolor": "white",
           "ticks": "",
           "title": {
            "standoff": 15
           },
           "zerolinecolor": "white",
           "zerolinewidth": 2
          },
          "yaxis": {
           "automargin": true,
           "gridcolor": "white",
           "linecolor": "white",
           "ticks": "",
           "title": {
            "standoff": 15
           },
           "zerolinecolor": "white",
           "zerolinewidth": 2
          }
         }
        },
        "xaxis": {
         "categoryorder": "min ascending",
         "showgrid": true,
         "tickangle": 45
        }
       }
      },
      "text/html": [
       "<div>                            <div id=\"48f3d063-1d3a-42a9-81ec-48f2e575d44f\" class=\"plotly-graph-div\" style=\"height:525px; width:100%;\"></div>            <script type=\"text/javascript\">                require([\"plotly\"], function(Plotly) {                    window.PLOTLYENV=window.PLOTLYENV || {};                                    if (document.getElementById(\"48f3d063-1d3a-42a9-81ec-48f2e575d44f\")) {                    Plotly.newPlot(                        \"48f3d063-1d3a-42a9-81ec-48f2e575d44f\",                        [{\"name\":\"\\u7efc\\u5408\\u8d5b\",\"text\":[\"\",\"\\u8881\\u817e\\u98de\",\"\",\"\\u8d75\\u9756\",\"Adam\",\"\\u5e84\\u4f1f\\u8d85,\\u674e\\u5927\\u97e6\",\"\",\"\\u9ec4\\u73ae\",\"\\u738b\\u9707\\u5761\",\"\",\"\\u738b\\u7ae0\\u5b87,\\u9c81\\u5149\\u6cc9\",\"\\u8d75\\u514b\\u521a\",\"\\u5f20\\u826f,\\u9ec4\\u9e64\",\"\\u9648\\u6c38\\u6052\",\"\\u6d82\\u8f89\\u62db,\\u79e6\\u56fd\\u9633,\\u6881\\u7693\\u9633,\\u676d\\u9e4f,\\u5b59\\u5251,\\u5434\\u5fd7\\u5468,\\u7530\\u91ce,\\u5434\\u5149\\u5f3a,\\u502a\\u9896,\\u51b7\\u640f,\\u9773\\u6587\\u745e\",\"Melvin Wong\",\"\\u8d75\",\"\",\"\",\"\\u738b\\u9e4f\\u4f1f\",\"\\u6222\\u6653\\u5cf0,\\u6c88\\u4e16\\u5168\",\"\\u88f4\\u6653\\u98de\",\"\\u738b\\u6d77\",\"\",\"\\u5355\\u8096\\u5e74\",\"\",\"\\u674e\\u6df1,\\u8bb8\\u5e86,\\u674e\\u514b\\u5f3a,\\u674e\\u6d69\\u7136\",\"\\u79e6\\u6653\\u8f89\",\"\",\"\\u674e\\u68a6\\u6797\",\"\",\"\",\"\",\"\",\"\",\"\",\"\",\"\\u6768\\u6f9c,\\u8521\\u9537,\\u6c64\\u5b8f\\u535a\",\"\",\"\\u9a6c\\u9a8f\"],\"textfont\":{\"color\":\"white\",\"size\":8},\"textposition\":\"inside\",\"texttemplate\":[\"0\",\"1\",\"0\",\"1\",\"1\",\"2\",\"0\",\"1\",\"1\",\"0\",\"2\",\"1\",\"2\",\"1\",\"11\",\"1\",\"1\",\"0\",\"0\",\"1\",\"2\",\"1\",\"1\",\"0\",\"1\",\"0\",\"4\",\"1\",\"0\",\"1\",\"0\",\"0\",\"0\",\"0\",\"0\",\"0\",\"0\",\"3\",\"0\",\"1\"],\"x\":[\"\\u4e0a\\u6d77\\u4ea4\\u901a\\u5927\\u5b66\",\"\\u4e0a\\u6d77\\u5927\\u5b66\",\"\\u4e0a\\u6d77\\u6d77\\u4e8b\\u5927\\u5b66\",\"\\u4e0a\\u6d77\\u7406\\u5de5\\u5927\\u5b66\",\"\\u4e0d\\u5217\\u98a0\\u54e5\\u4f26\\u6bd4\\u4e9a\\u5927\\u5b66\",\"\\u4e1c\\u5357\\u5927\\u5b66\",\"\\u4e2d\\u56fd\\u519c\\u4e1a\\u5927\\u5b66\",\"\\u4e2d\\u5c71\\u5927\\u5b66\",\"\\u5317\\u4eac\\u7406\\u5de5\\u5927\\u5b66\",\"\\u5317\\u4eac\\u79d1\\u6280\\u5927\\u5b66\",\"\\u5317\\u4eac\\u822a\\u7a7a\\u822a\\u5929\\u5927\\u5b66\",\"\\u534e\\u5357\\u7406\\u5de5\\u5927\\u5b66\",\"\\u5408\\u80a5\\u5de5\\u4e1a\\u5927\\u5b66\",\"\\u5409\\u6797\\u5927\\u5b66\",\"\\u540c\\u6d4e\\u5927\\u5b66\",\"\\u57c3\\u56e0\\u970d\\u6e29\\u7406\\u5de5\\u5927\\u5b66\",\"\\u5927\\u8fde\\u7406\\u5de5\\u5927\\u5b66\",\"\\u5a01\\u65af\\u5eb7\\u661f\\u5927\\u5b66\\u9ea6\\u8fea\\u900a\\u5206\\u6821\",\"\\u5b81\\u6ce2\\u7406\\u5de5\\u5b66\\u9662 \",\"\\u5c71\\u4e1c\\u7406\\u5de5\\u5927\\u5b66\",\"\\u6606\\u660e\\u7406\\u5de5\\u5927\\u5b66\",\"\\u6b66\\u6c49\\u7406\\u5de5\\u5927\\u5b66\",\"\\u6c5f\\u82cf\\u5927\\u5b66\",\"\\u6cb3\\u5317\\u5de5\\u4e1a\\u5927\\u5b66\",\"\\u6cb3\\u6d77\\u5927\\u5b66\",\"\\u6d59\\u6c5f\\u5927\\u5b66\",\"\\u6e05\\u534e\\u5927\\u5b66\",\"\\u6e56\\u5357\\u5927\\u5b66\",\"\\u6fb3\\u95e8\\u79d1\\u6280\\u5927\\u5b66\",\"\\u71d5\\u5c71\\u5927\\u5b66\",\"\\u82cf\\u5dde\\u5927\\u5b66\",\"\\u897f\\u534e\\u5927\\u5b66\",\"\\u897f\\u5357\\u4ea4\\u901a\\u5927\\u5b66\",\"\\u897f\\u5b89\\u5efa\\u7b51\\u79d1\\u6280\\u5927\\u5b66\",\"\\u897f\\u5b89\\u79d1\\u6280\\u5927\\u5b66\",\"\\u91cd\\u5e86\\u5927\\u5b66\",\"\\u91cd\\u5e86\\u7406\\u5de5\\u5927\\u5b66\",\"\\u957f\\u5b89\\u5927\\u5b66\",\"\\u957f\\u6625\\u5de5\\u4e1a\\u5927\\u5b66\",\"\\u9999\\u6e2f\\u79d1\\u6280\\u5927\\u5b66(\\u5e7f\\u5dde)\"],\"y\":[0,1,0,1,1,2,0,1,1,0,2,1,2,1,11,1,1,0,0,1,2,1,1,0,1,0,4,1,0,1,0,0,0,0,0,0,0,3,0,1],\"type\":\"bar\"},{\"name\":\"\\u9ad8\\u901f\\u8def\\u57fa\\u672c\\u6bb5\\u4e13\\u9879\\u8d5b\",\"text\":[\"\\u80e1\\u5ddd\",\"\",\"\\u9648\\u4fe1\\u5f3a\",\"\\u7ae0\\u7a0b,\\u9648\\u6d69\",\"Adam\",\"\\u66f2\\u6829,\\u6c88\\u6c38\\u4fca\",\"\",\"\\u9ec4\\u73ae\",\"\\u738b\\u9707\\u5761,\\u738b\\u4f1f\\u8fbe,\\u5415\\u8d85\",\"\\u987e\\u9752\",\"\",\"\\u8d75\\u514b\\u521a\",\"\\u5f20\\u826f,\\u8881\\u51ef\",\"\\u97e9\\u5609\\u61ff,\\u9648\\u5fd7\\u6210\",\"\\u6d82\\u8f89\\u62db,\\u5cb3\\u674e\\u5723\\u98d2,\\u79e6\\u56fd\\u9633,\\u676d\\u9e4f,\\u7530\\u91ce,\\u5b59\\u5251,\\u5434\\u5fd7\\u5468,\\u5434\\u5149\\u5f3a,\\u502a\\u9896,\\u65b9\\u5b88\\u6069,\\u51b7\\u640f,\\u9a86\\u6653,\\u718a\\u7490,\\u9ec4\\u5ca9\\u519b\",\"\",\"\\u8d75\",\"\\u5189\\u658c\",\"\",\"\",\"\\u79e6\\u96c5\\u7434\",\"\\u8d3a\\u5b9c,\\u5b8b\\u529b\",\"\\u5510\\u658c\",\"\\u6b66\\u6625\\u9f99,\\u5218\\u6653\\u6602,\\u738b\\u521a\",\"\",\"\",\"\\u674e\\u514b\\u5f3a,\\u66f9\\u4e1c\\u749e\",\"\\u79e6\\u6653\\u8f89\",\"\",\"\",\"\\u738b\\u7fd4\",\"\\u9093\\u9e4f\\u6bc5,\\u9ece\\u9752\\u677e\",\"\\u90d1\\u82b3\\u82b3,\\u848b\\u9633\\u5347,\\u59da\\u5fd7\\u6d2a\",\"\\u674e\\u6653\\u4f1f\",\"\\u8d75\\u6813\\u5cf0\",\"\\u674e\\u56fd\\u6cd5\",\"\\u80e1\\u535a,\\u5b8b\\u6d01\",\"\\u9a6c\\u5cfb\\u5ca9,\\u738b\\u6da6\\u6c11,\\u6768\\u6f9c,\\u674e\\u826f\\u654f,\\u95f5\\u6d77\\u6839,\\u8f9b\\u742a,\\u623f\\u5efa\\u6b66,\\u6c64\\u5b8f\\u535a\",\"\\u674e\\u7ecd\\u677e\",\"\"],\"textfont\":{\"color\":\"white\",\"size\":8},\"textposition\":\"inside\",\"texttemplate\":[\"1\",\"0\",\"1\",\"2\",\"1\",\"2\",\"0\",\"1\",\"3\",\"1\",\"0\",\"1\",\"2\",\"2\",\"14\",\"0\",\"1\",\"1\",\"0\",\"0\",\"1\",\"2\",\"1\",\"3\",\"0\",\"0\",\"2\",\"1\",\"0\",\"0\",\"1\",\"2\",\"3\",\"1\",\"1\",\"1\",\"2\",\"8\",\"1\",\"0\"],\"x\":[\"\\u4e0a\\u6d77\\u4ea4\\u901a\\u5927\\u5b66\",\"\\u4e0a\\u6d77\\u5927\\u5b66\",\"\\u4e0a\\u6d77\\u6d77\\u4e8b\\u5927\\u5b66\",\"\\u4e0a\\u6d77\\u7406\\u5de5\\u5927\\u5b66\",\"\\u4e0d\\u5217\\u98a0\\u54e5\\u4f26\\u6bd4\\u4e9a\\u5927\\u5b66\",\"\\u4e1c\\u5357\\u5927\\u5b66\",\"\\u4e2d\\u56fd\\u519c\\u4e1a\\u5927\\u5b66\",\"\\u4e2d\\u5c71\\u5927\\u5b66\",\"\\u5317\\u4eac\\u7406\\u5de5\\u5927\\u5b66\",\"\\u5317\\u4eac\\u79d1\\u6280\\u5927\\u5b66\",\"\\u5317\\u4eac\\u822a\\u7a7a\\u822a\\u5929\\u5927\\u5b66\",\"\\u534e\\u5357\\u7406\\u5de5\\u5927\\u5b66\",\"\\u5408\\u80a5\\u5de5\\u4e1a\\u5927\\u5b66\",\"\\u5409\\u6797\\u5927\\u5b66\",\"\\u540c\\u6d4e\\u5927\\u5b66\",\"\\u57c3\\u56e0\\u970d\\u6e29\\u7406\\u5de5\\u5927\\u5b66\",\"\\u5927\\u8fde\\u7406\\u5de5\\u5927\\u5b66\",\"\\u5a01\\u65af\\u5eb7\\u661f\\u5927\\u5b66\\u9ea6\\u8fea\\u900a\\u5206\\u6821\",\"\\u5b81\\u6ce2\\u7406\\u5de5\\u5b66\\u9662 \",\"\\u5c71\\u4e1c\\u7406\\u5de5\\u5927\\u5b66\",\"\\u6606\\u660e\\u7406\\u5de5\\u5927\\u5b66\",\"\\u6b66\\u6c49\\u7406\\u5de5\\u5927\\u5b66\",\"\\u6c5f\\u82cf\\u5927\\u5b66\",\"\\u6cb3\\u5317\\u5de5\\u4e1a\\u5927\\u5b66\",\"\\u6cb3\\u6d77\\u5927\\u5b66\",\"\\u6d59\\u6c5f\\u5927\\u5b66\",\"\\u6e05\\u534e\\u5927\\u5b66\",\"\\u6e56\\u5357\\u5927\\u5b66\",\"\\u6fb3\\u95e8\\u79d1\\u6280\\u5927\\u5b66\",\"\\u71d5\\u5c71\\u5927\\u5b66\",\"\\u82cf\\u5dde\\u5927\\u5b66\",\"\\u897f\\u534e\\u5927\\u5b66\",\"\\u897f\\u5357\\u4ea4\\u901a\\u5927\\u5b66\",\"\\u897f\\u5b89\\u5efa\\u7b51\\u79d1\\u6280\\u5927\\u5b66\",\"\\u897f\\u5b89\\u79d1\\u6280\\u5927\\u5b66\",\"\\u91cd\\u5e86\\u5927\\u5b66\",\"\\u91cd\\u5e86\\u7406\\u5de5\\u5927\\u5b66\",\"\\u957f\\u5b89\\u5927\\u5b66\",\"\\u957f\\u6625\\u5de5\\u4e1a\\u5927\\u5b66\",\"\\u9999\\u6e2f\\u79d1\\u6280\\u5927\\u5b66(\\u5e7f\\u5dde)\"],\"y\":[1,0,1,2,1,2,0,1,3,1,0,1,2,2,14,0,1,1,0,0,1,2,1,3,0,0,2,1,0,0,1,2,3,1,1,1,2,8,1,0],\"type\":\"bar\"},{\"name\":\"\\u9ad8\\u901f\\u8def\\u6c47\\u5165\\u6c47\\u51fa\\u533a\\u4e13\\u9879\\u8d5b\",\"text\":[\"\\u80e1\\u5ddd\",\"\",\"\\u9648\\u4fe1\\u5f3a,\\u7fc1\\u91d1\\u8d24\",\"\\u7ae0\\u7a0b\",\"\",\"\\u674e\\u5927\\u97e6\",\"\\u5b54\\u4f1f\\u4f1f\",\"\\u9ec4\\u73ae\",\"\",\"\\u987e\\u9752\",\"\",\"\\u88f4\\u660e\\u9633\",\"\",\"\\u97e9\\u5609\\u61ff,\\u9648\\u5fd7\\u6210\",\"\\u5cb3\\u674e\\u5723\\u98d2,\\u79e6\\u56fd\\u9633,\\u676d\\u9e4f,\\u5b59\\u5251,\\u7530\\u91ce,\\u502a\\u9896,\\u67f4\\u6668,\\u9ec4\\u5ca9\\u519b,\\u6d82\\u8f89\\u62db\",\"\",\"\\u59da\\u5b9d\\u73cd\",\"\",\"\\u5468\\u7ee7\\u5f6a\",\"\",\"\\u79e6\\u96c5\\u7434\",\"\\u8d3a\\u5b9c\",\"\",\"\",\"\",\"\\u674e\\u9053\\u98de\",\"\\u674e\\u6d69\\u7136\",\"\\u5218\\u6668\\u8f89\",\"\",\"\",\"\\u738b\\u7fd4\",\"\",\"\\u90d1\\u82b3\\u82b3,\\u59da\\u5fd7\\u6d2a\",\"\",\"\",\"\\u674e\\u56fd\\u6cd5,\\u5218\\u4e1b\\u5fd7\",\"\",\"\\u9a6c\\u5cfb\\u5ca9,\\u97e9\\u6bc5,\\u8521\\u9537,\\u8d75\\u7965\\u6a21,\\u95f5\\u6d77\\u6839,\\u8f9b\\u742a,\\u666f\\u9996\\u624d\",\"\",\"\"],\"textfont\":{\"color\":\"white\",\"size\":8},\"textposition\":\"inside\",\"texttemplate\":[\"1\",\"0\",\"2\",\"1\",\"0\",\"1\",\"1\",\"1\",\"0\",\"1\",\"0\",\"1\",\"0\",\"2\",\"9\",\"0\",\"1\",\"0\",\"1\",\"0\",\"1\",\"1\",\"0\",\"0\",\"0\",\"1\",\"1\",\"1\",\"0\",\"0\",\"1\",\"0\",\"2\",\"0\",\"0\",\"2\",\"0\",\"7\",\"0\",\"0\"],\"x\":[\"\\u4e0a\\u6d77\\u4ea4\\u901a\\u5927\\u5b66\",\"\\u4e0a\\u6d77\\u5927\\u5b66\",\"\\u4e0a\\u6d77\\u6d77\\u4e8b\\u5927\\u5b66\",\"\\u4e0a\\u6d77\\u7406\\u5de5\\u5927\\u5b66\",\"\\u4e0d\\u5217\\u98a0\\u54e5\\u4f26\\u6bd4\\u4e9a\\u5927\\u5b66\",\"\\u4e1c\\u5357\\u5927\\u5b66\",\"\\u4e2d\\u56fd\\u519c\\u4e1a\\u5927\\u5b66\",\"\\u4e2d\\u5c71\\u5927\\u5b66\",\"\\u5317\\u4eac\\u7406\\u5de5\\u5927\\u5b66\",\"\\u5317\\u4eac\\u79d1\\u6280\\u5927\\u5b66\",\"\\u5317\\u4eac\\u822a\\u7a7a\\u822a\\u5929\\u5927\\u5b66\",\"\\u534e\\u5357\\u7406\\u5de5\\u5927\\u5b66\",\"\\u5408\\u80a5\\u5de5\\u4e1a\\u5927\\u5b66\",\"\\u5409\\u6797\\u5927\\u5b66\",\"\\u540c\\u6d4e\\u5927\\u5b66\",\"\\u57c3\\u56e0\\u970d\\u6e29\\u7406\\u5de5\\u5927\\u5b66\",\"\\u5927\\u8fde\\u7406\\u5de5\\u5927\\u5b66\",\"\\u5a01\\u65af\\u5eb7\\u661f\\u5927\\u5b66\\u9ea6\\u8fea\\u900a\\u5206\\u6821\",\"\\u5b81\\u6ce2\\u7406\\u5de5\\u5b66\\u9662 \",\"\\u5c71\\u4e1c\\u7406\\u5de5\\u5927\\u5b66\",\"\\u6606\\u660e\\u7406\\u5de5\\u5927\\u5b66\",\"\\u6b66\\u6c49\\u7406\\u5de5\\u5927\\u5b66\",\"\\u6c5f\\u82cf\\u5927\\u5b66\",\"\\u6cb3\\u5317\\u5de5\\u4e1a\\u5927\\u5b66\",\"\\u6cb3\\u6d77\\u5927\\u5b66\",\"\\u6d59\\u6c5f\\u5927\\u5b66\",\"\\u6e05\\u534e\\u5927\\u5b66\",\"\\u6e56\\u5357\\u5927\\u5b66\",\"\\u6fb3\\u95e8\\u79d1\\u6280\\u5927\\u5b66\",\"\\u71d5\\u5c71\\u5927\\u5b66\",\"\\u82cf\\u5dde\\u5927\\u5b66\",\"\\u897f\\u534e\\u5927\\u5b66\",\"\\u897f\\u5357\\u4ea4\\u901a\\u5927\\u5b66\",\"\\u897f\\u5b89\\u5efa\\u7b51\\u79d1\\u6280\\u5927\\u5b66\",\"\\u897f\\u5b89\\u79d1\\u6280\\u5927\\u5b66\",\"\\u91cd\\u5e86\\u5927\\u5b66\",\"\\u91cd\\u5e86\\u7406\\u5de5\\u5927\\u5b66\",\"\\u957f\\u5b89\\u5927\\u5b66\",\"\\u957f\\u6625\\u5de5\\u4e1a\\u5927\\u5b66\",\"\\u9999\\u6e2f\\u79d1\\u6280\\u5927\\u5b66(\\u5e7f\\u5dde)\"],\"y\":[1,0,2,1,0,1,1,1,0,1,0,1,0,2,9,0,1,0,1,0,1,1,0,0,0,1,1,1,0,0,1,0,2,0,0,2,0,7,0,0],\"type\":\"bar\"},{\"name\":\"\\u4ea4\\u53c9\\u53e3\\u4e13\\u9879\\u8d5b\",\"text\":[\"\",\"\\u8881\\u817e\\u98de\",\"\",\"\\u8d75\\u9756\",\"\",\"\\u5e84\\u4f1f\\u8d85,\\u6c88\\u6c38\\u4fca\",\"\",\"\\u9ec4\\u73ae\",\"\\u5415\\u8d85\",\"\",\"\\u738b\\u7ae0\\u5b87,\\u9c81\\u5149\\u6cc9\",\"\",\"\",\"\",\"\\u79e6\\u56fd\\u9633,\\u6881\\u7693\\u9633,\\u676d\\u9e4f,\\u7530\\u91ce,\\u5b59\\u5251,\\u502a\\u9896,\\u9a86\\u6653,\\u718a\\u7490\",\"Melvin Wong\",\"\\u59da\\u5b9d\\u73cd\",\"\",\"\\u5468\\u7ee7\\u5f6a\",\"\\u738b\\u8001\\u5e08\",\"\",\"\\u88f4\\u6653\\u98de\",\"\\u738b\\u6d77\",\"\",\"\",\"\\u674e\\u9053\\u98de\",\"\\u674e\\u6df1,\\u8bb8\\u5e86\",\"\\u5218\\u6668\\u8f89\",\"\\u738b\\u98de\\u8dc3\",\"\\u5218\\u4e1b\\u5fd7\",\"\\u91d1\\u8f89\",\"\",\"\\u59da\\u5fd7\\u6d2a\",\"\\u674e\\u6653\\u4f1f\",\"\\u8d75\\u6813\\u5cf0\",\"\",\"\\u80e1\\u535a,\\u5b8b\\u6d01\",\"\\u738b\\u6da6\\u6c11,\\u97e9\\u6bc5,\\u674e\\u826f\\u654f,\\u8f9b\\u742a\",\"\\u674e\\u7ecd\\u677e\",\"\\u9a6c\\u9a8f\"],\"textfont\":{\"color\":\"white\",\"size\":8},\"textposition\":\"inside\",\"texttemplate\":[\"0\",\"1\",\"0\",\"1\",\"0\",\"2\",\"0\",\"1\",\"1\",\"0\",\"2\",\"0\",\"0\",\"0\",\"8\",\"1\",\"1\",\"0\",\"1\",\"1\",\"0\",\"1\",\"1\",\"0\",\"0\",\"1\",\"2\",\"1\",\"1\",\"1\",\"1\",\"0\",\"1\",\"1\",\"1\",\"0\",\"2\",\"4\",\"1\",\"1\"],\"x\":[\"\\u4e0a\\u6d77\\u4ea4\\u901a\\u5927\\u5b66\",\"\\u4e0a\\u6d77\\u5927\\u5b66\",\"\\u4e0a\\u6d77\\u6d77\\u4e8b\\u5927\\u5b66\",\"\\u4e0a\\u6d77\\u7406\\u5de5\\u5927\\u5b66\",\"\\u4e0d\\u5217\\u98a0\\u54e5\\u4f26\\u6bd4\\u4e9a\\u5927\\u5b66\",\"\\u4e1c\\u5357\\u5927\\u5b66\",\"\\u4e2d\\u56fd\\u519c\\u4e1a\\u5927\\u5b66\",\"\\u4e2d\\u5c71\\u5927\\u5b66\",\"\\u5317\\u4eac\\u7406\\u5de5\\u5927\\u5b66\",\"\\u5317\\u4eac\\u79d1\\u6280\\u5927\\u5b66\",\"\\u5317\\u4eac\\u822a\\u7a7a\\u822a\\u5929\\u5927\\u5b66\",\"\\u534e\\u5357\\u7406\\u5de5\\u5927\\u5b66\",\"\\u5408\\u80a5\\u5de5\\u4e1a\\u5927\\u5b66\",\"\\u5409\\u6797\\u5927\\u5b66\",\"\\u540c\\u6d4e\\u5927\\u5b66\",\"\\u57c3\\u56e0\\u970d\\u6e29\\u7406\\u5de5\\u5927\\u5b66\",\"\\u5927\\u8fde\\u7406\\u5de5\\u5927\\u5b66\",\"\\u5a01\\u65af\\u5eb7\\u661f\\u5927\\u5b66\\u9ea6\\u8fea\\u900a\\u5206\\u6821\",\"\\u5b81\\u6ce2\\u7406\\u5de5\\u5b66\\u9662 \",\"\\u5c71\\u4e1c\\u7406\\u5de5\\u5927\\u5b66\",\"\\u6606\\u660e\\u7406\\u5de5\\u5927\\u5b66\",\"\\u6b66\\u6c49\\u7406\\u5de5\\u5927\\u5b66\",\"\\u6c5f\\u82cf\\u5927\\u5b66\",\"\\u6cb3\\u5317\\u5de5\\u4e1a\\u5927\\u5b66\",\"\\u6cb3\\u6d77\\u5927\\u5b66\",\"\\u6d59\\u6c5f\\u5927\\u5b66\",\"\\u6e05\\u534e\\u5927\\u5b66\",\"\\u6e56\\u5357\\u5927\\u5b66\",\"\\u6fb3\\u95e8\\u79d1\\u6280\\u5927\\u5b66\",\"\\u71d5\\u5c71\\u5927\\u5b66\",\"\\u82cf\\u5dde\\u5927\\u5b66\",\"\\u897f\\u534e\\u5927\\u5b66\",\"\\u897f\\u5357\\u4ea4\\u901a\\u5927\\u5b66\",\"\\u897f\\u5b89\\u5efa\\u7b51\\u79d1\\u6280\\u5927\\u5b66\",\"\\u897f\\u5b89\\u79d1\\u6280\\u5927\\u5b66\",\"\\u91cd\\u5e86\\u5927\\u5b66\",\"\\u91cd\\u5e86\\u7406\\u5de5\\u5927\\u5b66\",\"\\u957f\\u5b89\\u5927\\u5b66\",\"\\u957f\\u6625\\u5de5\\u4e1a\\u5927\\u5b66\",\"\\u9999\\u6e2f\\u79d1\\u6280\\u5927\\u5b66(\\u5e7f\\u5dde)\"],\"y\":[0,1,0,1,0,2,0,1,1,0,2,0,0,0,8,1,1,0,1,1,0,1,1,0,0,1,2,1,1,1,1,0,1,1,1,0,2,4,1,1],\"type\":\"bar\"},{\"name\":\"\\u961f\\u4f0d\\u6570\\u91cf\",\"text\":[\"\\u80e1\\u5ddd\",\"\\u8881\\u817e\\u98de\",\"\\u9648\\u4fe1\\u5f3a,\\u7fc1\\u91d1\\u8d24\",\"\\u7ae0\\u7a0b,\\u8d75\\u9756,\\u9648\\u6d69\",\"Adam\",\"\\u5e84\\u4f1f\\u8d85,\\u66f2\\u6829,\\u674e\\u5927\\u97e6,\\u6c88\\u6c38\\u4fca\",\"\\u5b54\\u4f1f\\u4f1f\",\"\\u9ec4\\u73ae\",\"\\u738b\\u9707\\u5761,\\u738b\\u4f1f\\u8fbe,\\u5415\\u8d85\",\"\\u987e\\u9752\",\"\\u738b\\u7ae0\\u5b87,\\u9c81\\u5149\\u6cc9\",\"\\u8d75\\u514b\\u521a,\\u88f4\\u660e\\u9633\",\"\\u5f20\\u826f,\\u8881\\u51ef,\\u9ec4\\u9e64\",\"\\u9648\\u6c38\\u6052,\\u97e9\\u5609\\u61ff,\\u9648\\u5fd7\\u6210\",\"\\u6d82\\u8f89\\u62db,\\u5cb3\\u674e\\u5723\\u98d2,\\u79e6\\u56fd\\u9633,\\u6881\\u7693\\u9633,\\u676d\\u9e4f,\\u7530\\u91ce,\\u5b59\\u5251,\\u5434\\u5fd7\\u5468,\\u5434\\u5149\\u5f3a,\\u502a\\u9896,\\u65b9\\u5b88\\u6069,\\u67f4\\u6668,\\u51b7\\u640f,\\u9773\\u6587\\u745e,\\u9a86\\u6653,\\u718a\\u7490,\\u9ec4\\u5ca9\\u519b\",\"Melvin Wong\",\"\\u8d75,\\u59da\\u5b9d\\u73cd\",\"\\u5189\\u658c\",\"\\u5468\\u7ee7\\u5f6a\",\"\\u738b\\u9e4f\\u4f1f,\\u738b\\u8001\\u5e08\",\"\\u6222\\u6653\\u5cf0,\\u6c88\\u4e16\\u5168,\\u79e6\\u96c5\\u7434\",\"\\u88f4\\u6653\\u98de,\\u8d3a\\u5b9c,\\u5b8b\\u529b\",\"\\u5510\\u658c,\\u738b\\u6d77\",\"\\u6b66\\u6625\\u9f99,\\u5218\\u6653\\u6602,\\u738b\\u521a\",\"\\u5355\\u8096\\u5e74\",\"\\u674e\\u9053\\u98de\",\"\\u674e\\u6df1,\\u8bb8\\u5e86,\\u674e\\u514b\\u5f3a,\\u66f9\\u4e1c\\u749e,\\u674e\\u6d69\\u7136\",\"\\u5218\\u6668\\u8f89,\\u79e6\\u6653\\u8f89\",\"\\u738b\\u98de\\u8dc3\",\"\\u674e\\u68a6\\u6797,\\u5218\\u4e1b\\u5fd7\",\"\\u738b\\u7fd4,\\u91d1\\u8f89\",\"\\u9093\\u9e4f\\u6bc5,\\u9ece\\u9752\\u677e\",\"\\u90d1\\u82b3\\u82b3,\\u848b\\u9633\\u5347,\\u59da\\u5fd7\\u6d2a\",\"\\u674e\\u6653\\u4f1f\",\"\\u8d75\\u6813\\u5cf0\",\"\\u674e\\u56fd\\u6cd5,\\u5218\\u4e1b\\u5fd7\",\"\\u80e1\\u535a,\\u5b8b\\u6d01\",\"\\u9a6c\\u5cfb\\u5ca9,\\u738b\\u6da6\\u6c11,\\u6768\\u6f9c,\\u97e9\\u6bc5,\\u8521\\u9537,\\u674e\\u826f\\u654f,\\u8d75\\u7965\\u6a21,\\u95f5\\u6d77\\u6839,\\u8f9b\\u742a,\\u623f\\u5efa\\u6b66,\\u666f\\u9996\\u624d,\\u6c64\\u5b8f\\u535a\",\"\\u674e\\u7ecd\\u677e\",\"\\u9a6c\\u9a8f\"],\"textfont\":{\"color\":\"white\",\"size\":8},\"textposition\":\"inside\",\"texttemplate\":[\"1\",\"1\",\"2\",\"3\",\"1\",\"4\",\"1\",\"1\",\"3\",\"1\",\"2\",\"2\",\"3\",\"3\",\"17\",\"1\",\"2\",\"1\",\"1\",\"2\",\"3\",\"3\",\"2\",\"3\",\"1\",\"1\",\"5\",\"2\",\"1\",\"2\",\"2\",\"2\",\"3\",\"1\",\"1\",\"2\",\"2\",\"12\",\"1\",\"1\"],\"x\":[\"\\u4e0a\\u6d77\\u4ea4\\u901a\\u5927\\u5b66\",\"\\u4e0a\\u6d77\\u5927\\u5b66\",\"\\u4e0a\\u6d77\\u6d77\\u4e8b\\u5927\\u5b66\",\"\\u4e0a\\u6d77\\u7406\\u5de5\\u5927\\u5b66\",\"\\u4e0d\\u5217\\u98a0\\u54e5\\u4f26\\u6bd4\\u4e9a\\u5927\\u5b66\",\"\\u4e1c\\u5357\\u5927\\u5b66\",\"\\u4e2d\\u56fd\\u519c\\u4e1a\\u5927\\u5b66\",\"\\u4e2d\\u5c71\\u5927\\u5b66\",\"\\u5317\\u4eac\\u7406\\u5de5\\u5927\\u5b66\",\"\\u5317\\u4eac\\u79d1\\u6280\\u5927\\u5b66\",\"\\u5317\\u4eac\\u822a\\u7a7a\\u822a\\u5929\\u5927\\u5b66\",\"\\u534e\\u5357\\u7406\\u5de5\\u5927\\u5b66\",\"\\u5408\\u80a5\\u5de5\\u4e1a\\u5927\\u5b66\",\"\\u5409\\u6797\\u5927\\u5b66\",\"\\u540c\\u6d4e\\u5927\\u5b66\",\"\\u57c3\\u56e0\\u970d\\u6e29\\u7406\\u5de5\\u5927\\u5b66\",\"\\u5927\\u8fde\\u7406\\u5de5\\u5927\\u5b66\",\"\\u5a01\\u65af\\u5eb7\\u661f\\u5927\\u5b66\\u9ea6\\u8fea\\u900a\\u5206\\u6821\",\"\\u5b81\\u6ce2\\u7406\\u5de5\\u5b66\\u9662 \",\"\\u5c71\\u4e1c\\u7406\\u5de5\\u5927\\u5b66\",\"\\u6606\\u660e\\u7406\\u5de5\\u5927\\u5b66\",\"\\u6b66\\u6c49\\u7406\\u5de5\\u5927\\u5b66\",\"\\u6c5f\\u82cf\\u5927\\u5b66\",\"\\u6cb3\\u5317\\u5de5\\u4e1a\\u5927\\u5b66\",\"\\u6cb3\\u6d77\\u5927\\u5b66\",\"\\u6d59\\u6c5f\\u5927\\u5b66\",\"\\u6e05\\u534e\\u5927\\u5b66\",\"\\u6e56\\u5357\\u5927\\u5b66\",\"\\u6fb3\\u95e8\\u79d1\\u6280\\u5927\\u5b66\",\"\\u71d5\\u5c71\\u5927\\u5b66\",\"\\u82cf\\u5dde\\u5927\\u5b66\",\"\\u897f\\u534e\\u5927\\u5b66\",\"\\u897f\\u5357\\u4ea4\\u901a\\u5927\\u5b66\",\"\\u897f\\u5b89\\u5efa\\u7b51\\u79d1\\u6280\\u5927\\u5b66\",\"\\u897f\\u5b89\\u79d1\\u6280\\u5927\\u5b66\",\"\\u91cd\\u5e86\\u5927\\u5b66\",\"\\u91cd\\u5e86\\u7406\\u5de5\\u5927\\u5b66\",\"\\u957f\\u5b89\\u5927\\u5b66\",\"\\u957f\\u6625\\u5de5\\u4e1a\\u5927\\u5b66\",\"\\u9999\\u6e2f\\u79d1\\u6280\\u5927\\u5b66(\\u5e7f\\u5dde)\"],\"y\":[-1,-1,-2,-3,-1,-4,-1,-1,-3,-1,-2,-2,-3,-3,-17,-1,-2,-1,-1,-2,-3,-3,-2,-3,-1,-1,-5,-2,-1,-2,-2,-2,-3,-1,-1,-2,-2,-12,-1,-1],\"type\":\"bar\"}],                        {\"template\":{\"data\":{\"histogram2dcontour\":[{\"type\":\"histogram2dcontour\",\"colorbar\":{\"outlinewidth\":0,\"ticks\":\"\"},\"colorscale\":[[0.0,\"#0d0887\"],[0.1111111111111111,\"#46039f\"],[0.2222222222222222,\"#7201a8\"],[0.3333333333333333,\"#9c179e\"],[0.4444444444444444,\"#bd3786\"],[0.5555555555555556,\"#d8576b\"],[0.6666666666666666,\"#ed7953\"],[0.7777777777777778,\"#fb9f3a\"],[0.8888888888888888,\"#fdca26\"],[1.0,\"#f0f921\"]]}],\"choropleth\":[{\"type\":\"choropleth\",\"colorbar\":{\"outlinewidth\":0,\"ticks\":\"\"}}],\"histogram2d\":[{\"type\":\"histogram2d\",\"colorbar\":{\"outlinewidth\":0,\"ticks\":\"\"},\"colorscale\":[[0.0,\"#0d0887\"],[0.1111111111111111,\"#46039f\"],[0.2222222222222222,\"#7201a8\"],[0.3333333333333333,\"#9c179e\"],[0.4444444444444444,\"#bd3786\"],[0.5555555555555556,\"#d8576b\"],[0.6666666666666666,\"#ed7953\"],[0.7777777777777778,\"#fb9f3a\"],[0.8888888888888888,\"#fdca26\"],[1.0,\"#f0f921\"]]}],\"heatmap\":[{\"type\":\"heatmap\",\"colorbar\":{\"outlinewidth\":0,\"ticks\":\"\"},\"colorscale\":[[0.0,\"#0d0887\"],[0.1111111111111111,\"#46039f\"],[0.2222222222222222,\"#7201a8\"],[0.3333333333333333,\"#9c179e\"],[0.4444444444444444,\"#bd3786\"],[0.5555555555555556,\"#d8576b\"],[0.6666666666666666,\"#ed7953\"],[0.7777777777777778,\"#fb9f3a\"],[0.8888888888888888,\"#fdca26\"],[1.0,\"#f0f921\"]]}],\"heatmapgl\":[{\"type\":\"heatmapgl\",\"colorbar\":{\"outlinewidth\":0,\"ticks\":\"\"},\"colorscale\":[[0.0,\"#0d0887\"],[0.1111111111111111,\"#46039f\"],[0.2222222222222222,\"#7201a8\"],[0.3333333333333333,\"#9c179e\"],[0.4444444444444444,\"#bd3786\"],[0.5555555555555556,\"#d8576b\"],[0.6666666666666666,\"#ed7953\"],[0.7777777777777778,\"#fb9f3a\"],[0.8888888888888888,\"#fdca26\"],[1.0,\"#f0f921\"]]}],\"contourcarpet\":[{\"type\":\"contourcarpet\",\"colorbar\":{\"outlinewidth\":0,\"ticks\":\"\"}}],\"contour\":[{\"type\":\"contour\",\"colorbar\":{\"outlinewidth\":0,\"ticks\":\"\"},\"colorscale\":[[0.0,\"#0d0887\"],[0.1111111111111111,\"#46039f\"],[0.2222222222222222,\"#7201a8\"],[0.3333333333333333,\"#9c179e\"],[0.4444444444444444,\"#bd3786\"],[0.5555555555555556,\"#d8576b\"],[0.6666666666666666,\"#ed7953\"],[0.7777777777777778,\"#fb9f3a\"],[0.8888888888888888,\"#fdca26\"],[1.0,\"#f0f921\"]]}],\"surface\":[{\"type\":\"surface\",\"colorbar\":{\"outlinewidth\":0,\"ticks\":\"\"},\"colorscale\":[[0.0,\"#0d0887\"],[0.1111111111111111,\"#46039f\"],[0.2222222222222222,\"#7201a8\"],[0.3333333333333333,\"#9c179e\"],[0.4444444444444444,\"#bd3786\"],[0.5555555555555556,\"#d8576b\"],[0.6666666666666666,\"#ed7953\"],[0.7777777777777778,\"#fb9f3a\"],[0.8888888888888888,\"#fdca26\"],[1.0,\"#f0f921\"]]}],\"mesh3d\":[{\"type\":\"mesh3d\",\"colorbar\":{\"outlinewidth\":0,\"ticks\":\"\"}}],\"scatter\":[{\"fillpattern\":{\"fillmode\":\"overlay\",\"size\":10,\"solidity\":0.2},\"type\":\"scatter\"}],\"parcoords\":[{\"type\":\"parcoords\",\"line\":{\"colorbar\":{\"outlinewidth\":0,\"ticks\":\"\"}}}],\"scatterpolargl\":[{\"type\":\"scatterpolargl\",\"marker\":{\"colorbar\":{\"outlinewidth\":0,\"ticks\":\"\"}}}],\"bar\":[{\"error_x\":{\"color\":\"#2a3f5f\"},\"error_y\":{\"color\":\"#2a3f5f\"},\"marker\":{\"line\":{\"color\":\"#E5ECF6\",\"width\":0.5},\"pattern\":{\"fillmode\":\"overlay\",\"size\":10,\"solidity\":0.2}},\"type\":\"bar\"}],\"scattergeo\":[{\"type\":\"scattergeo\",\"marker\":{\"colorbar\":{\"outlinewidth\":0,\"ticks\":\"\"}}}],\"scatterpolar\":[{\"type\":\"scatterpolar\",\"marker\":{\"colorbar\":{\"outlinewidth\":0,\"ticks\":\"\"}}}],\"histogram\":[{\"marker\":{\"pattern\":{\"fillmode\":\"overlay\",\"size\":10,\"solidity\":0.2}},\"type\":\"histogram\"}],\"scattergl\":[{\"type\":\"scattergl\",\"marker\":{\"colorbar\":{\"outlinewidth\":0,\"ticks\":\"\"}}}],\"scatter3d\":[{\"type\":\"scatter3d\",\"line\":{\"colorbar\":{\"outlinewidth\":0,\"ticks\":\"\"}},\"marker\":{\"colorbar\":{\"outlinewidth\":0,\"ticks\":\"\"}}}],\"scattermapbox\":[{\"type\":\"scattermapbox\",\"marker\":{\"colorbar\":{\"outlinewidth\":0,\"ticks\":\"\"}}}],\"scatterternary\":[{\"type\":\"scatterternary\",\"marker\":{\"colorbar\":{\"outlinewidth\":0,\"ticks\":\"\"}}}],\"scattercarpet\":[{\"type\":\"scattercarpet\",\"marker\":{\"colorbar\":{\"outlinewidth\":0,\"ticks\":\"\"}}}],\"carpet\":[{\"aaxis\":{\"endlinecolor\":\"#2a3f5f\",\"gridcolor\":\"white\",\"linecolor\":\"white\",\"minorgridcolor\":\"white\",\"startlinecolor\":\"#2a3f5f\"},\"baxis\":{\"endlinecolor\":\"#2a3f5f\",\"gridcolor\":\"white\",\"linecolor\":\"white\",\"minorgridcolor\":\"white\",\"startlinecolor\":\"#2a3f5f\"},\"type\":\"carpet\"}],\"table\":[{\"cells\":{\"fill\":{\"color\":\"#EBF0F8\"},\"line\":{\"color\":\"white\"}},\"header\":{\"fill\":{\"color\":\"#C8D4E3\"},\"line\":{\"color\":\"white\"}},\"type\":\"table\"}],\"barpolar\":[{\"marker\":{\"line\":{\"color\":\"#E5ECF6\",\"width\":0.5},\"pattern\":{\"fillmode\":\"overlay\",\"size\":10,\"solidity\":0.2}},\"type\":\"barpolar\"}],\"pie\":[{\"automargin\":true,\"type\":\"pie\"}]},\"layout\":{\"autotypenumbers\":\"strict\",\"colorway\":[\"#636efa\",\"#EF553B\",\"#00cc96\",\"#ab63fa\",\"#FFA15A\",\"#19d3f3\",\"#FF6692\",\"#B6E880\",\"#FF97FF\",\"#FECB52\"],\"font\":{\"color\":\"#2a3f5f\"},\"hovermode\":\"closest\",\"hoverlabel\":{\"align\":\"left\"},\"paper_bgcolor\":\"white\",\"plot_bgcolor\":\"#E5ECF6\",\"polar\":{\"bgcolor\":\"#E5ECF6\",\"angularaxis\":{\"gridcolor\":\"white\",\"linecolor\":\"white\",\"ticks\":\"\"},\"radialaxis\":{\"gridcolor\":\"white\",\"linecolor\":\"white\",\"ticks\":\"\"}},\"ternary\":{\"bgcolor\":\"#E5ECF6\",\"aaxis\":{\"gridcolor\":\"white\",\"linecolor\":\"white\",\"ticks\":\"\"},\"baxis\":{\"gridcolor\":\"white\",\"linecolor\":\"white\",\"ticks\":\"\"},\"caxis\":{\"gridcolor\":\"white\",\"linecolor\":\"white\",\"ticks\":\"\"}},\"coloraxis\":{\"colorbar\":{\"outlinewidth\":0,\"ticks\":\"\"}},\"colorscale\":{\"sequential\":[[0.0,\"#0d0887\"],[0.1111111111111111,\"#46039f\"],[0.2222222222222222,\"#7201a8\"],[0.3333333333333333,\"#9c179e\"],[0.4444444444444444,\"#bd3786\"],[0.5555555555555556,\"#d8576b\"],[0.6666666666666666,\"#ed7953\"],[0.7777777777777778,\"#fb9f3a\"],[0.8888888888888888,\"#fdca26\"],[1.0,\"#f0f921\"]],\"sequentialminus\":[[0.0,\"#0d0887\"],[0.1111111111111111,\"#46039f\"],[0.2222222222222222,\"#7201a8\"],[0.3333333333333333,\"#9c179e\"],[0.4444444444444444,\"#bd3786\"],[0.5555555555555556,\"#d8576b\"],[0.6666666666666666,\"#ed7953\"],[0.7777777777777778,\"#fb9f3a\"],[0.8888888888888888,\"#fdca26\"],[1.0,\"#f0f921\"]],\"diverging\":[[0,\"#8e0152\"],[0.1,\"#c51b7d\"],[0.2,\"#de77ae\"],[0.3,\"#f1b6da\"],[0.4,\"#fde0ef\"],[0.5,\"#f7f7f7\"],[0.6,\"#e6f5d0\"],[0.7,\"#b8e186\"],[0.8,\"#7fbc41\"],[0.9,\"#4d9221\"],[1,\"#276419\"]]},\"xaxis\":{\"gridcolor\":\"white\",\"linecolor\":\"white\",\"ticks\":\"\",\"title\":{\"standoff\":15},\"zerolinecolor\":\"white\",\"automargin\":true,\"zerolinewidth\":2},\"yaxis\":{\"gridcolor\":\"white\",\"linecolor\":\"white\",\"ticks\":\"\",\"title\":{\"standoff\":15},\"zerolinecolor\":\"white\",\"automargin\":true,\"zerolinewidth\":2},\"scene\":{\"xaxis\":{\"backgroundcolor\":\"#E5ECF6\",\"gridcolor\":\"white\",\"linecolor\":\"white\",\"showbackground\":true,\"ticks\":\"\",\"zerolinecolor\":\"white\",\"gridwidth\":2},\"yaxis\":{\"backgroundcolor\":\"#E5ECF6\",\"gridcolor\":\"white\",\"linecolor\":\"white\",\"showbackground\":true,\"ticks\":\"\",\"zerolinecolor\":\"white\",\"gridwidth\":2},\"zaxis\":{\"backgroundcolor\":\"#E5ECF6\",\"gridcolor\":\"white\",\"linecolor\":\"white\",\"showbackground\":true,\"ticks\":\"\",\"zerolinecolor\":\"white\",\"gridwidth\":2}},\"shapedefaults\":{\"line\":{\"color\":\"#2a3f5f\"}},\"annotationdefaults\":{\"arrowcolor\":\"#2a3f5f\",\"arrowhead\":0,\"arrowwidth\":1},\"geo\":{\"bgcolor\":\"white\",\"landcolor\":\"#E5ECF6\",\"subunitcolor\":\"white\",\"showland\":true,\"showlakes\":true,\"lakecolor\":\"white\"},\"title\":{\"x\":0.05},\"mapbox\":{\"style\":\"light\"}}},\"xaxis\":{\"categoryorder\":\"min ascending\",\"tickangle\":45,\"showgrid\":true},\"legend\":{\"x\":0.85,\"y\":0.95,\"bgcolor\":\"rgba(255, 255, 255, 0)\",\"bordercolor\":\"rgba(255, 255, 255, 0)\"},\"margin\":{\"l\":80,\"r\":120,\"t\":30,\"b\":120},\"barmode\":\"relative\",\"plot_bgcolor\":\"rgba(0,0,0,0)\"},                        {\"responsive\": true}                    ).then(function(){\n",
       "                            \n",
       "var gd = document.getElementById('48f3d063-1d3a-42a9-81ec-48f2e575d44f');\n",
       "var x = new MutationObserver(function (mutations, observer) {{\n",
       "        var display = window.getComputedStyle(gd).display;\n",
       "        if (!display || display === 'none') {{\n",
       "            console.log([gd, 'removed!']);\n",
       "            Plotly.purge(gd);\n",
       "            observer.disconnect();\n",
       "        }}\n",
       "}});\n",
       "\n",
       "// Listen for the removal of the full notebook cells\n",
       "var notebookContainer = gd.closest('#notebook-container');\n",
       "if (notebookContainer) {{\n",
       "    x.observe(notebookContainer, {childList: true});\n",
       "}}\n",
       "\n",
       "// Listen for the clearing of the current output cell\n",
       "var outputEl = gd.closest('.output');\n",
       "if (outputEl) {{\n",
       "    x.observe(outputEl, {childList: true});\n",
       "}}\n",
       "\n",
       "                        })                };                });            </script>        </div>"
      ]
     },
     "metadata": {},
     "output_type": "display_data"
    },
    {
     "data": {
      "text/plain": [
       "'./result/html/高校报名分布情况.html'"
      ]
     },
     "execution_count": 11,
     "metadata": {},
     "output_type": "execute_result"
    }
   ],
   "source": [
    "import plotly\n",
    "import plotly.graph_objects as go\n",
    "import pandas as pd\n",
    "\n",
    "users = []\n",
    "user_columns = database._get_col_name('user')\n",
    "script = f\"SELECT participantId, competitionId FROM entry WHERE competitionId in ({','.join(COMPETITIONS)})\"\n",
    "for participantId, competitionId in database._db_fetch(script):\n",
    "    user = database._get_value(table='user', field='*', logic='AND', userId=participantId)\n",
    "    user = dict(zip(user_columns, user[0]))\n",
    "    user['competitionId'] = competitionId\n",
    "    users.append(user)\n",
    "part_info = pd.DataFrame(users)\n",
    "\n",
    "competition_map = dict(zip(COMPETITIONS, [database._get_value(table='competition', field='competitionName', logic='AND', competitionId=competitionId)[0][0] for competitionId in COMPETITIONS]))\n",
    "school_info = {}\n",
    "for school, school_rows in part_info.groupby('school'):\n",
    "    if school not in ['1-IDM', '2-Lattice']:\n",
    "        school_info[school] = dict(zip(competition_map.values(), [[]]*len(COMPETITIONS)))\n",
    "        school_info[school]['全赛道'] = school_rows['supervisorName'].unique().tolist()\n",
    "        for competitionId, competition_rows in school_rows.groupby('competitionId'):\n",
    "            school_info[school][competition_map[competitionId]] = competition_rows['supervisorName'].unique().tolist()\n",
    "\n",
    "fig = go.Figure()\n",
    "school_names = list(school_info.keys())\n",
    "competition_names = list(school_info[school_names[0]].keys())\n",
    "for name in competition_names:\n",
    "    y = []\n",
    "    text = []\n",
    "    if name != '全赛道':\n",
    "        for k, v in school_info.items():\n",
    "            y.append(len(v[name]))\n",
    "            text.append(','.join(v[name]))\n",
    "        fig.add_trace(go.Bar(x=school_names, y=y, name=name[19:-1], text=text, \n",
    "                                texttemplate=y,\n",
    "                                textposition=\"inside\",\n",
    "                                textfont_color=\"white\",\n",
    "                                textfont_size=8,\n",
    "                                ))\n",
    "    else:\n",
    "        for k, v in school_info.items():\n",
    "            y.append(-len(v[name]))\n",
    "            text.append(','.join(v[name]))\n",
    "        fig.add_trace(go.Bar(x=school_names, y=y, name='队伍数量', text=text, \n",
    "                                texttemplate=[-i for i in y],\n",
    "                                textposition=\"inside\",\n",
    "                                textfont_color=\"white\",\n",
    "                                textfont_size=8,\n",
    "                            ))   \n",
    "fig.update_layout(barmode='relative', \n",
    "                xaxis={'categoryorder':'min ascending', 'tickangle':45, 'showgrid':True},\n",
    "                legend=dict(\n",
    "                                x=0.85,\n",
    "                                y=0.95,\n",
    "                                bgcolor='rgba(255, 255, 255, 0)',\n",
    "                                bordercolor='rgba(255, 255, 255, 0)',\n",
    "                                # font=dict(size=16), \n",
    "                            ),\n",
    "                plot_bgcolor='rgba(0,0,0,0)',\n",
    "                # width=2000,\n",
    "                # height=1400,\n",
    "                margin=dict(l=80, r=120, t=30, b=120)\n",
    "                )\n",
    "fig.show()\n",
    "# fig.write_image(\"./analyze_result/school_info.svg\", engine=\"kaleido\")\n",
    "plotly.offline.plot(fig, filename='./result/html/高校报名分布情况.html')"
   ]
  },
  {
   "attachments": {},
   "cell_type": "markdown",
   "metadata": {},
   "source": [
    "### 提交情况"
   ]
  },
  {
   "attachments": {},
   "cell_type": "markdown",
   "metadata": {},
   "source": [
    "#### 提交次数及规控器数量\n",
    "包含A、B卷全部提交数据"
   ]
  },
  {
   "cell_type": "code",
   "execution_count": 23,
   "metadata": {},
   "outputs": [
    {
     "name": "stdout",
     "output_type": "stream",
     "text": [
      "共收到提交693次\n",
      "  第一届OnSite自动驾驶算法挑战赛（综合赛）：121次\n",
      "  第一届OnSite自动驾驶算法挑战赛（高速路基本段专项赛）：339次\n",
      "  第一届OnSite自动驾驶算法挑战赛（高速路汇入汇出区专项赛）：87次\n",
      "  第一届OnSite自动驾驶算法挑战赛（交叉口专项赛）：146次\n",
      "其中包含不同提交内容350种\n"
     ]
    }
   ],
   "source": [
    "import pandas as pd\n",
    "\n",
    "script = f\"SELECT * FROM submit WHERE competitionId in ({','.join(COMPETITIONS)})\"\n",
    "submits = database._db_fetch(script)\n",
    "submits_df = pd.DataFrame(submits, columns=database._get_col_name('submit'))\n",
    "\n",
    "print(f\"共收到提交{len(submits_df)}次\")\n",
    "for competitionId, rows in submits_df.groupby('competitionId'):\n",
    "    competition_name = database._get_value(table='competition', field='competitionName', logic='AND', competitionId=competitionId)[0][0]\n",
    "    print(f\"  {competition_name}：{len(rows)}次\")\n",
    "\n",
    "print(f\"其中包含不同提交内容{len(set(submits_df[submits_df['status'] == 'SUCCESS']['dockerId'].to_list()))}种\")"
   ]
  },
  {
   "attachments": {},
   "cell_type": "markdown",
   "metadata": {},
   "source": [
    "#### B卷提交累加曲线\n",
    "> 输出文件：`提交累加曲线.html`"
   ]
  },
  {
   "cell_type": "code",
   "execution_count": 22,
   "metadata": {},
   "outputs": [
    {
     "data": {
      "application/vnd.plotly.v1+json": {
       "config": {
        "plotlyServerURL": "https://plot.ly"
       },
       "data": [
        {
         "mode": "lines+markers",
         "name": "综合赛",
         "type": "scatter",
         "x": [
          "第1周",
          "第2周",
          "第3周",
          "第4周",
          "第5周",
          "第6周",
          "第7周",
          "第8周",
          "第9周",
          "第10周",
          "第11周"
         ],
         "y": [
          2,
          6,
          6,
          6,
          6,
          13,
          18,
          34,
          68,
          96,
          121
         ]
        },
        {
         "mode": "lines+markers",
         "name": "高速路基本段专项赛",
         "type": "scatter",
         "x": [
          "第1周",
          "第2周",
          "第3周",
          "第4周",
          "第5周",
          "第6周",
          "第7周",
          "第8周",
          "第9周",
          "第10周",
          "第11周"
         ],
         "y": [
          2,
          5,
          14,
          16,
          17,
          36,
          51,
          86,
          166,
          269,
          339
         ]
        },
        {
         "mode": "lines+markers",
         "name": "高速路汇入汇出区专项赛",
         "type": "scatter",
         "x": [
          "第1周",
          "第2周",
          "第3周",
          "第4周",
          "第5周",
          "第6周",
          "第7周",
          "第8周",
          "第9周",
          "第10周",
          "第11周"
         ],
         "y": [
          2,
          8,
          8,
          8,
          8,
          9,
          9,
          16,
          24,
          50,
          87
         ]
        },
        {
         "mode": "lines+markers",
         "name": "交叉口专项赛",
         "type": "scatter",
         "x": [
          "第1周",
          "第2周",
          "第3周",
          "第4周",
          "第5周",
          "第6周",
          "第7周",
          "第8周",
          "第9周",
          "第10周",
          "第11周"
         ],
         "y": [
          10,
          13,
          13,
          16,
          16,
          28,
          28,
          36,
          60,
          103,
          146
         ]
        }
       ],
       "layout": {
        "legend": {
         "bgcolor": "rgba(255, 255, 255, 0)",
         "bordercolor": "rgba(255, 255, 255, 0)",
         "x": 0.02,
         "y": 0.98
        },
        "template": {
         "data": {
          "bar": [
           {
            "error_x": {
             "color": "#2a3f5f"
            },
            "error_y": {
             "color": "#2a3f5f"
            },
            "marker": {
             "line": {
              "color": "#E5ECF6",
              "width": 0.5
             },
             "pattern": {
              "fillmode": "overlay",
              "size": 10,
              "solidity": 0.2
             }
            },
            "type": "bar"
           }
          ],
          "barpolar": [
           {
            "marker": {
             "line": {
              "color": "#E5ECF6",
              "width": 0.5
             },
             "pattern": {
              "fillmode": "overlay",
              "size": 10,
              "solidity": 0.2
             }
            },
            "type": "barpolar"
           }
          ],
          "carpet": [
           {
            "aaxis": {
             "endlinecolor": "#2a3f5f",
             "gridcolor": "white",
             "linecolor": "white",
             "minorgridcolor": "white",
             "startlinecolor": "#2a3f5f"
            },
            "baxis": {
             "endlinecolor": "#2a3f5f",
             "gridcolor": "white",
             "linecolor": "white",
             "minorgridcolor": "white",
             "startlinecolor": "#2a3f5f"
            },
            "type": "carpet"
           }
          ],
          "choropleth": [
           {
            "colorbar": {
             "outlinewidth": 0,
             "ticks": ""
            },
            "type": "choropleth"
           }
          ],
          "contour": [
           {
            "colorbar": {
             "outlinewidth": 0,
             "ticks": ""
            },
            "colorscale": [
             [
              0,
              "#0d0887"
             ],
             [
              0.1111111111111111,
              "#46039f"
             ],
             [
              0.2222222222222222,
              "#7201a8"
             ],
             [
              0.3333333333333333,
              "#9c179e"
             ],
             [
              0.4444444444444444,
              "#bd3786"
             ],
             [
              0.5555555555555556,
              "#d8576b"
             ],
             [
              0.6666666666666666,
              "#ed7953"
             ],
             [
              0.7777777777777778,
              "#fb9f3a"
             ],
             [
              0.8888888888888888,
              "#fdca26"
             ],
             [
              1,
              "#f0f921"
             ]
            ],
            "type": "contour"
           }
          ],
          "contourcarpet": [
           {
            "colorbar": {
             "outlinewidth": 0,
             "ticks": ""
            },
            "type": "contourcarpet"
           }
          ],
          "heatmap": [
           {
            "colorbar": {
             "outlinewidth": 0,
             "ticks": ""
            },
            "colorscale": [
             [
              0,
              "#0d0887"
             ],
             [
              0.1111111111111111,
              "#46039f"
             ],
             [
              0.2222222222222222,
              "#7201a8"
             ],
             [
              0.3333333333333333,
              "#9c179e"
             ],
             [
              0.4444444444444444,
              "#bd3786"
             ],
             [
              0.5555555555555556,
              "#d8576b"
             ],
             [
              0.6666666666666666,
              "#ed7953"
             ],
             [
              0.7777777777777778,
              "#fb9f3a"
             ],
             [
              0.8888888888888888,
              "#fdca26"
             ],
             [
              1,
              "#f0f921"
             ]
            ],
            "type": "heatmap"
           }
          ],
          "heatmapgl": [
           {
            "colorbar": {
             "outlinewidth": 0,
             "ticks": ""
            },
            "colorscale": [
             [
              0,
              "#0d0887"
             ],
             [
              0.1111111111111111,
              "#46039f"
             ],
             [
              0.2222222222222222,
              "#7201a8"
             ],
             [
              0.3333333333333333,
              "#9c179e"
             ],
             [
              0.4444444444444444,
              "#bd3786"
             ],
             [
              0.5555555555555556,
              "#d8576b"
             ],
             [
              0.6666666666666666,
              "#ed7953"
             ],
             [
              0.7777777777777778,
              "#fb9f3a"
             ],
             [
              0.8888888888888888,
              "#fdca26"
             ],
             [
              1,
              "#f0f921"
             ]
            ],
            "type": "heatmapgl"
           }
          ],
          "histogram": [
           {
            "marker": {
             "pattern": {
              "fillmode": "overlay",
              "size": 10,
              "solidity": 0.2
             }
            },
            "type": "histogram"
           }
          ],
          "histogram2d": [
           {
            "colorbar": {
             "outlinewidth": 0,
             "ticks": ""
            },
            "colorscale": [
             [
              0,
              "#0d0887"
             ],
             [
              0.1111111111111111,
              "#46039f"
             ],
             [
              0.2222222222222222,
              "#7201a8"
             ],
             [
              0.3333333333333333,
              "#9c179e"
             ],
             [
              0.4444444444444444,
              "#bd3786"
             ],
             [
              0.5555555555555556,
              "#d8576b"
             ],
             [
              0.6666666666666666,
              "#ed7953"
             ],
             [
              0.7777777777777778,
              "#fb9f3a"
             ],
             [
              0.8888888888888888,
              "#fdca26"
             ],
             [
              1,
              "#f0f921"
             ]
            ],
            "type": "histogram2d"
           }
          ],
          "histogram2dcontour": [
           {
            "colorbar": {
             "outlinewidth": 0,
             "ticks": ""
            },
            "colorscale": [
             [
              0,
              "#0d0887"
             ],
             [
              0.1111111111111111,
              "#46039f"
             ],
             [
              0.2222222222222222,
              "#7201a8"
             ],
             [
              0.3333333333333333,
              "#9c179e"
             ],
             [
              0.4444444444444444,
              "#bd3786"
             ],
             [
              0.5555555555555556,
              "#d8576b"
             ],
             [
              0.6666666666666666,
              "#ed7953"
             ],
             [
              0.7777777777777778,
              "#fb9f3a"
             ],
             [
              0.8888888888888888,
              "#fdca26"
             ],
             [
              1,
              "#f0f921"
             ]
            ],
            "type": "histogram2dcontour"
           }
          ],
          "mesh3d": [
           {
            "colorbar": {
             "outlinewidth": 0,
             "ticks": ""
            },
            "type": "mesh3d"
           }
          ],
          "parcoords": [
           {
            "line": {
             "colorbar": {
              "outlinewidth": 0,
              "ticks": ""
             }
            },
            "type": "parcoords"
           }
          ],
          "pie": [
           {
            "automargin": true,
            "type": "pie"
           }
          ],
          "scatter": [
           {
            "fillpattern": {
             "fillmode": "overlay",
             "size": 10,
             "solidity": 0.2
            },
            "type": "scatter"
           }
          ],
          "scatter3d": [
           {
            "line": {
             "colorbar": {
              "outlinewidth": 0,
              "ticks": ""
             }
            },
            "marker": {
             "colorbar": {
              "outlinewidth": 0,
              "ticks": ""
             }
            },
            "type": "scatter3d"
           }
          ],
          "scattercarpet": [
           {
            "marker": {
             "colorbar": {
              "outlinewidth": 0,
              "ticks": ""
             }
            },
            "type": "scattercarpet"
           }
          ],
          "scattergeo": [
           {
            "marker": {
             "colorbar": {
              "outlinewidth": 0,
              "ticks": ""
             }
            },
            "type": "scattergeo"
           }
          ],
          "scattergl": [
           {
            "marker": {
             "colorbar": {
              "outlinewidth": 0,
              "ticks": ""
             }
            },
            "type": "scattergl"
           }
          ],
          "scattermapbox": [
           {
            "marker": {
             "colorbar": {
              "outlinewidth": 0,
              "ticks": ""
             }
            },
            "type": "scattermapbox"
           }
          ],
          "scatterpolar": [
           {
            "marker": {
             "colorbar": {
              "outlinewidth": 0,
              "ticks": ""
             }
            },
            "type": "scatterpolar"
           }
          ],
          "scatterpolargl": [
           {
            "marker": {
             "colorbar": {
              "outlinewidth": 0,
              "ticks": ""
             }
            },
            "type": "scatterpolargl"
           }
          ],
          "scatterternary": [
           {
            "marker": {
             "colorbar": {
              "outlinewidth": 0,
              "ticks": ""
             }
            },
            "type": "scatterternary"
           }
          ],
          "surface": [
           {
            "colorbar": {
             "outlinewidth": 0,
             "ticks": ""
            },
            "colorscale": [
             [
              0,
              "#0d0887"
             ],
             [
              0.1111111111111111,
              "#46039f"
             ],
             [
              0.2222222222222222,
              "#7201a8"
             ],
             [
              0.3333333333333333,
              "#9c179e"
             ],
             [
              0.4444444444444444,
              "#bd3786"
             ],
             [
              0.5555555555555556,
              "#d8576b"
             ],
             [
              0.6666666666666666,
              "#ed7953"
             ],
             [
              0.7777777777777778,
              "#fb9f3a"
             ],
             [
              0.8888888888888888,
              "#fdca26"
             ],
             [
              1,
              "#f0f921"
             ]
            ],
            "type": "surface"
           }
          ],
          "table": [
           {
            "cells": {
             "fill": {
              "color": "#EBF0F8"
             },
             "line": {
              "color": "white"
             }
            },
            "header": {
             "fill": {
              "color": "#C8D4E3"
             },
             "line": {
              "color": "white"
             }
            },
            "type": "table"
           }
          ]
         },
         "layout": {
          "annotationdefaults": {
           "arrowcolor": "#2a3f5f",
           "arrowhead": 0,
           "arrowwidth": 1
          },
          "autotypenumbers": "strict",
          "coloraxis": {
           "colorbar": {
            "outlinewidth": 0,
            "ticks": ""
           }
          },
          "colorscale": {
           "diverging": [
            [
             0,
             "#8e0152"
            ],
            [
             0.1,
             "#c51b7d"
            ],
            [
             0.2,
             "#de77ae"
            ],
            [
             0.3,
             "#f1b6da"
            ],
            [
             0.4,
             "#fde0ef"
            ],
            [
             0.5,
             "#f7f7f7"
            ],
            [
             0.6,
             "#e6f5d0"
            ],
            [
             0.7,
             "#b8e186"
            ],
            [
             0.8,
             "#7fbc41"
            ],
            [
             0.9,
             "#4d9221"
            ],
            [
             1,
             "#276419"
            ]
           ],
           "sequential": [
            [
             0,
             "#0d0887"
            ],
            [
             0.1111111111111111,
             "#46039f"
            ],
            [
             0.2222222222222222,
             "#7201a8"
            ],
            [
             0.3333333333333333,
             "#9c179e"
            ],
            [
             0.4444444444444444,
             "#bd3786"
            ],
            [
             0.5555555555555556,
             "#d8576b"
            ],
            [
             0.6666666666666666,
             "#ed7953"
            ],
            [
             0.7777777777777778,
             "#fb9f3a"
            ],
            [
             0.8888888888888888,
             "#fdca26"
            ],
            [
             1,
             "#f0f921"
            ]
           ],
           "sequentialminus": [
            [
             0,
             "#0d0887"
            ],
            [
             0.1111111111111111,
             "#46039f"
            ],
            [
             0.2222222222222222,
             "#7201a8"
            ],
            [
             0.3333333333333333,
             "#9c179e"
            ],
            [
             0.4444444444444444,
             "#bd3786"
            ],
            [
             0.5555555555555556,
             "#d8576b"
            ],
            [
             0.6666666666666666,
             "#ed7953"
            ],
            [
             0.7777777777777778,
             "#fb9f3a"
            ],
            [
             0.8888888888888888,
             "#fdca26"
            ],
            [
             1,
             "#f0f921"
            ]
           ]
          },
          "colorway": [
           "#636efa",
           "#EF553B",
           "#00cc96",
           "#ab63fa",
           "#FFA15A",
           "#19d3f3",
           "#FF6692",
           "#B6E880",
           "#FF97FF",
           "#FECB52"
          ],
          "font": {
           "color": "#2a3f5f"
          },
          "geo": {
           "bgcolor": "white",
           "lakecolor": "white",
           "landcolor": "#E5ECF6",
           "showlakes": true,
           "showland": true,
           "subunitcolor": "white"
          },
          "hoverlabel": {
           "align": "left"
          },
          "hovermode": "closest",
          "mapbox": {
           "style": "light"
          },
          "paper_bgcolor": "white",
          "plot_bgcolor": "#E5ECF6",
          "polar": {
           "angularaxis": {
            "gridcolor": "white",
            "linecolor": "white",
            "ticks": ""
           },
           "bgcolor": "#E5ECF6",
           "radialaxis": {
            "gridcolor": "white",
            "linecolor": "white",
            "ticks": ""
           }
          },
          "scene": {
           "xaxis": {
            "backgroundcolor": "#E5ECF6",
            "gridcolor": "white",
            "gridwidth": 2,
            "linecolor": "white",
            "showbackground": true,
            "ticks": "",
            "zerolinecolor": "white"
           },
           "yaxis": {
            "backgroundcolor": "#E5ECF6",
            "gridcolor": "white",
            "gridwidth": 2,
            "linecolor": "white",
            "showbackground": true,
            "ticks": "",
            "zerolinecolor": "white"
           },
           "zaxis": {
            "backgroundcolor": "#E5ECF6",
            "gridcolor": "white",
            "gridwidth": 2,
            "linecolor": "white",
            "showbackground": true,
            "ticks": "",
            "zerolinecolor": "white"
           }
          },
          "shapedefaults": {
           "line": {
            "color": "#2a3f5f"
           }
          },
          "ternary": {
           "aaxis": {
            "gridcolor": "white",
            "linecolor": "white",
            "ticks": ""
           },
           "baxis": {
            "gridcolor": "white",
            "linecolor": "white",
            "ticks": ""
           },
           "bgcolor": "#E5ECF6",
           "caxis": {
            "gridcolor": "white",
            "linecolor": "white",
            "ticks": ""
           }
          },
          "title": {
           "x": 0.05
          },
          "xaxis": {
           "automargin": true,
           "gridcolor": "white",
           "linecolor": "white",
           "ticks": "",
           "title": {
            "standoff": 15
           },
           "zerolinecolor": "white",
           "zerolinewidth": 2
          },
          "yaxis": {
           "automargin": true,
           "gridcolor": "white",
           "linecolor": "white",
           "ticks": "",
           "title": {
            "standoff": 15
           },
           "zerolinecolor": "white",
           "zerolinewidth": 2
          }
         }
        }
       }
      },
      "text/html": [
       "<div>                            <div id=\"aec8eba9-4fad-4aa7-996f-c2aca5a5891d\" class=\"plotly-graph-div\" style=\"height:525px; width:100%;\"></div>            <script type=\"text/javascript\">                require([\"plotly\"], function(Plotly) {                    window.PLOTLYENV=window.PLOTLYENV || {};                                    if (document.getElementById(\"aec8eba9-4fad-4aa7-996f-c2aca5a5891d\")) {                    Plotly.newPlot(                        \"aec8eba9-4fad-4aa7-996f-c2aca5a5891d\",                        [{\"mode\":\"lines+markers\",\"name\":\"\\u7efc\\u5408\\u8d5b\",\"x\":[\"\\u7b2c1\\u5468\",\"\\u7b2c2\\u5468\",\"\\u7b2c3\\u5468\",\"\\u7b2c4\\u5468\",\"\\u7b2c5\\u5468\",\"\\u7b2c6\\u5468\",\"\\u7b2c7\\u5468\",\"\\u7b2c8\\u5468\",\"\\u7b2c9\\u5468\",\"\\u7b2c10\\u5468\",\"\\u7b2c11\\u5468\"],\"y\":[2,6,6,6,6,13,18,34,68,96,121],\"type\":\"scatter\"},{\"mode\":\"lines+markers\",\"name\":\"\\u9ad8\\u901f\\u8def\\u57fa\\u672c\\u6bb5\\u4e13\\u9879\\u8d5b\",\"x\":[\"\\u7b2c1\\u5468\",\"\\u7b2c2\\u5468\",\"\\u7b2c3\\u5468\",\"\\u7b2c4\\u5468\",\"\\u7b2c5\\u5468\",\"\\u7b2c6\\u5468\",\"\\u7b2c7\\u5468\",\"\\u7b2c8\\u5468\",\"\\u7b2c9\\u5468\",\"\\u7b2c10\\u5468\",\"\\u7b2c11\\u5468\"],\"y\":[2,5,14,16,17,36,51,86,166,269,339],\"type\":\"scatter\"},{\"mode\":\"lines+markers\",\"name\":\"\\u9ad8\\u901f\\u8def\\u6c47\\u5165\\u6c47\\u51fa\\u533a\\u4e13\\u9879\\u8d5b\",\"x\":[\"\\u7b2c1\\u5468\",\"\\u7b2c2\\u5468\",\"\\u7b2c3\\u5468\",\"\\u7b2c4\\u5468\",\"\\u7b2c5\\u5468\",\"\\u7b2c6\\u5468\",\"\\u7b2c7\\u5468\",\"\\u7b2c8\\u5468\",\"\\u7b2c9\\u5468\",\"\\u7b2c10\\u5468\",\"\\u7b2c11\\u5468\"],\"y\":[2,8,8,8,8,9,9,16,24,50,87],\"type\":\"scatter\"},{\"mode\":\"lines+markers\",\"name\":\"\\u4ea4\\u53c9\\u53e3\\u4e13\\u9879\\u8d5b\",\"x\":[\"\\u7b2c1\\u5468\",\"\\u7b2c2\\u5468\",\"\\u7b2c3\\u5468\",\"\\u7b2c4\\u5468\",\"\\u7b2c5\\u5468\",\"\\u7b2c6\\u5468\",\"\\u7b2c7\\u5468\",\"\\u7b2c8\\u5468\",\"\\u7b2c9\\u5468\",\"\\u7b2c10\\u5468\",\"\\u7b2c11\\u5468\"],\"y\":[10,13,13,16,16,28,28,36,60,103,146],\"type\":\"scatter\"}],                        {\"template\":{\"data\":{\"histogram2dcontour\":[{\"type\":\"histogram2dcontour\",\"colorbar\":{\"outlinewidth\":0,\"ticks\":\"\"},\"colorscale\":[[0.0,\"#0d0887\"],[0.1111111111111111,\"#46039f\"],[0.2222222222222222,\"#7201a8\"],[0.3333333333333333,\"#9c179e\"],[0.4444444444444444,\"#bd3786\"],[0.5555555555555556,\"#d8576b\"],[0.6666666666666666,\"#ed7953\"],[0.7777777777777778,\"#fb9f3a\"],[0.8888888888888888,\"#fdca26\"],[1.0,\"#f0f921\"]]}],\"choropleth\":[{\"type\":\"choropleth\",\"colorbar\":{\"outlinewidth\":0,\"ticks\":\"\"}}],\"histogram2d\":[{\"type\":\"histogram2d\",\"colorbar\":{\"outlinewidth\":0,\"ticks\":\"\"},\"colorscale\":[[0.0,\"#0d0887\"],[0.1111111111111111,\"#46039f\"],[0.2222222222222222,\"#7201a8\"],[0.3333333333333333,\"#9c179e\"],[0.4444444444444444,\"#bd3786\"],[0.5555555555555556,\"#d8576b\"],[0.6666666666666666,\"#ed7953\"],[0.7777777777777778,\"#fb9f3a\"],[0.8888888888888888,\"#fdca26\"],[1.0,\"#f0f921\"]]}],\"heatmap\":[{\"type\":\"heatmap\",\"colorbar\":{\"outlinewidth\":0,\"ticks\":\"\"},\"colorscale\":[[0.0,\"#0d0887\"],[0.1111111111111111,\"#46039f\"],[0.2222222222222222,\"#7201a8\"],[0.3333333333333333,\"#9c179e\"],[0.4444444444444444,\"#bd3786\"],[0.5555555555555556,\"#d8576b\"],[0.6666666666666666,\"#ed7953\"],[0.7777777777777778,\"#fb9f3a\"],[0.8888888888888888,\"#fdca26\"],[1.0,\"#f0f921\"]]}],\"heatmapgl\":[{\"type\":\"heatmapgl\",\"colorbar\":{\"outlinewidth\":0,\"ticks\":\"\"},\"colorscale\":[[0.0,\"#0d0887\"],[0.1111111111111111,\"#46039f\"],[0.2222222222222222,\"#7201a8\"],[0.3333333333333333,\"#9c179e\"],[0.4444444444444444,\"#bd3786\"],[0.5555555555555556,\"#d8576b\"],[0.6666666666666666,\"#ed7953\"],[0.7777777777777778,\"#fb9f3a\"],[0.8888888888888888,\"#fdca26\"],[1.0,\"#f0f921\"]]}],\"contourcarpet\":[{\"type\":\"contourcarpet\",\"colorbar\":{\"outlinewidth\":0,\"ticks\":\"\"}}],\"contour\":[{\"type\":\"contour\",\"colorbar\":{\"outlinewidth\":0,\"ticks\":\"\"},\"colorscale\":[[0.0,\"#0d0887\"],[0.1111111111111111,\"#46039f\"],[0.2222222222222222,\"#7201a8\"],[0.3333333333333333,\"#9c179e\"],[0.4444444444444444,\"#bd3786\"],[0.5555555555555556,\"#d8576b\"],[0.6666666666666666,\"#ed7953\"],[0.7777777777777778,\"#fb9f3a\"],[0.8888888888888888,\"#fdca26\"],[1.0,\"#f0f921\"]]}],\"surface\":[{\"type\":\"surface\",\"colorbar\":{\"outlinewidth\":0,\"ticks\":\"\"},\"colorscale\":[[0.0,\"#0d0887\"],[0.1111111111111111,\"#46039f\"],[0.2222222222222222,\"#7201a8\"],[0.3333333333333333,\"#9c179e\"],[0.4444444444444444,\"#bd3786\"],[0.5555555555555556,\"#d8576b\"],[0.6666666666666666,\"#ed7953\"],[0.7777777777777778,\"#fb9f3a\"],[0.8888888888888888,\"#fdca26\"],[1.0,\"#f0f921\"]]}],\"mesh3d\":[{\"type\":\"mesh3d\",\"colorbar\":{\"outlinewidth\":0,\"ticks\":\"\"}}],\"scatter\":[{\"fillpattern\":{\"fillmode\":\"overlay\",\"size\":10,\"solidity\":0.2},\"type\":\"scatter\"}],\"parcoords\":[{\"type\":\"parcoords\",\"line\":{\"colorbar\":{\"outlinewidth\":0,\"ticks\":\"\"}}}],\"scatterpolargl\":[{\"type\":\"scatterpolargl\",\"marker\":{\"colorbar\":{\"outlinewidth\":0,\"ticks\":\"\"}}}],\"bar\":[{\"error_x\":{\"color\":\"#2a3f5f\"},\"error_y\":{\"color\":\"#2a3f5f\"},\"marker\":{\"line\":{\"color\":\"#E5ECF6\",\"width\":0.5},\"pattern\":{\"fillmode\":\"overlay\",\"size\":10,\"solidity\":0.2}},\"type\":\"bar\"}],\"scattergeo\":[{\"type\":\"scattergeo\",\"marker\":{\"colorbar\":{\"outlinewidth\":0,\"ticks\":\"\"}}}],\"scatterpolar\":[{\"type\":\"scatterpolar\",\"marker\":{\"colorbar\":{\"outlinewidth\":0,\"ticks\":\"\"}}}],\"histogram\":[{\"marker\":{\"pattern\":{\"fillmode\":\"overlay\",\"size\":10,\"solidity\":0.2}},\"type\":\"histogram\"}],\"scattergl\":[{\"type\":\"scattergl\",\"marker\":{\"colorbar\":{\"outlinewidth\":0,\"ticks\":\"\"}}}],\"scatter3d\":[{\"type\":\"scatter3d\",\"line\":{\"colorbar\":{\"outlinewidth\":0,\"ticks\":\"\"}},\"marker\":{\"colorbar\":{\"outlinewidth\":0,\"ticks\":\"\"}}}],\"scattermapbox\":[{\"type\":\"scattermapbox\",\"marker\":{\"colorbar\":{\"outlinewidth\":0,\"ticks\":\"\"}}}],\"scatterternary\":[{\"type\":\"scatterternary\",\"marker\":{\"colorbar\":{\"outlinewidth\":0,\"ticks\":\"\"}}}],\"scattercarpet\":[{\"type\":\"scattercarpet\",\"marker\":{\"colorbar\":{\"outlinewidth\":0,\"ticks\":\"\"}}}],\"carpet\":[{\"aaxis\":{\"endlinecolor\":\"#2a3f5f\",\"gridcolor\":\"white\",\"linecolor\":\"white\",\"minorgridcolor\":\"white\",\"startlinecolor\":\"#2a3f5f\"},\"baxis\":{\"endlinecolor\":\"#2a3f5f\",\"gridcolor\":\"white\",\"linecolor\":\"white\",\"minorgridcolor\":\"white\",\"startlinecolor\":\"#2a3f5f\"},\"type\":\"carpet\"}],\"table\":[{\"cells\":{\"fill\":{\"color\":\"#EBF0F8\"},\"line\":{\"color\":\"white\"}},\"header\":{\"fill\":{\"color\":\"#C8D4E3\"},\"line\":{\"color\":\"white\"}},\"type\":\"table\"}],\"barpolar\":[{\"marker\":{\"line\":{\"color\":\"#E5ECF6\",\"width\":0.5},\"pattern\":{\"fillmode\":\"overlay\",\"size\":10,\"solidity\":0.2}},\"type\":\"barpolar\"}],\"pie\":[{\"automargin\":true,\"type\":\"pie\"}]},\"layout\":{\"autotypenumbers\":\"strict\",\"colorway\":[\"#636efa\",\"#EF553B\",\"#00cc96\",\"#ab63fa\",\"#FFA15A\",\"#19d3f3\",\"#FF6692\",\"#B6E880\",\"#FF97FF\",\"#FECB52\"],\"font\":{\"color\":\"#2a3f5f\"},\"hovermode\":\"closest\",\"hoverlabel\":{\"align\":\"left\"},\"paper_bgcolor\":\"white\",\"plot_bgcolor\":\"#E5ECF6\",\"polar\":{\"bgcolor\":\"#E5ECF6\",\"angularaxis\":{\"gridcolor\":\"white\",\"linecolor\":\"white\",\"ticks\":\"\"},\"radialaxis\":{\"gridcolor\":\"white\",\"linecolor\":\"white\",\"ticks\":\"\"}},\"ternary\":{\"bgcolor\":\"#E5ECF6\",\"aaxis\":{\"gridcolor\":\"white\",\"linecolor\":\"white\",\"ticks\":\"\"},\"baxis\":{\"gridcolor\":\"white\",\"linecolor\":\"white\",\"ticks\":\"\"},\"caxis\":{\"gridcolor\":\"white\",\"linecolor\":\"white\",\"ticks\":\"\"}},\"coloraxis\":{\"colorbar\":{\"outlinewidth\":0,\"ticks\":\"\"}},\"colorscale\":{\"sequential\":[[0.0,\"#0d0887\"],[0.1111111111111111,\"#46039f\"],[0.2222222222222222,\"#7201a8\"],[0.3333333333333333,\"#9c179e\"],[0.4444444444444444,\"#bd3786\"],[0.5555555555555556,\"#d8576b\"],[0.6666666666666666,\"#ed7953\"],[0.7777777777777778,\"#fb9f3a\"],[0.8888888888888888,\"#fdca26\"],[1.0,\"#f0f921\"]],\"sequentialminus\":[[0.0,\"#0d0887\"],[0.1111111111111111,\"#46039f\"],[0.2222222222222222,\"#7201a8\"],[0.3333333333333333,\"#9c179e\"],[0.4444444444444444,\"#bd3786\"],[0.5555555555555556,\"#d8576b\"],[0.6666666666666666,\"#ed7953\"],[0.7777777777777778,\"#fb9f3a\"],[0.8888888888888888,\"#fdca26\"],[1.0,\"#f0f921\"]],\"diverging\":[[0,\"#8e0152\"],[0.1,\"#c51b7d\"],[0.2,\"#de77ae\"],[0.3,\"#f1b6da\"],[0.4,\"#fde0ef\"],[0.5,\"#f7f7f7\"],[0.6,\"#e6f5d0\"],[0.7,\"#b8e186\"],[0.8,\"#7fbc41\"],[0.9,\"#4d9221\"],[1,\"#276419\"]]},\"xaxis\":{\"gridcolor\":\"white\",\"linecolor\":\"white\",\"ticks\":\"\",\"title\":{\"standoff\":15},\"zerolinecolor\":\"white\",\"automargin\":true,\"zerolinewidth\":2},\"yaxis\":{\"gridcolor\":\"white\",\"linecolor\":\"white\",\"ticks\":\"\",\"title\":{\"standoff\":15},\"zerolinecolor\":\"white\",\"automargin\":true,\"zerolinewidth\":2},\"scene\":{\"xaxis\":{\"backgroundcolor\":\"#E5ECF6\",\"gridcolor\":\"white\",\"linecolor\":\"white\",\"showbackground\":true,\"ticks\":\"\",\"zerolinecolor\":\"white\",\"gridwidth\":2},\"yaxis\":{\"backgroundcolor\":\"#E5ECF6\",\"gridcolor\":\"white\",\"linecolor\":\"white\",\"showbackground\":true,\"ticks\":\"\",\"zerolinecolor\":\"white\",\"gridwidth\":2},\"zaxis\":{\"backgroundcolor\":\"#E5ECF6\",\"gridcolor\":\"white\",\"linecolor\":\"white\",\"showbackground\":true,\"ticks\":\"\",\"zerolinecolor\":\"white\",\"gridwidth\":2}},\"shapedefaults\":{\"line\":{\"color\":\"#2a3f5f\"}},\"annotationdefaults\":{\"arrowcolor\":\"#2a3f5f\",\"arrowhead\":0,\"arrowwidth\":1},\"geo\":{\"bgcolor\":\"white\",\"landcolor\":\"#E5ECF6\",\"subunitcolor\":\"white\",\"showland\":true,\"showlakes\":true,\"lakecolor\":\"white\"},\"title\":{\"x\":0.05},\"mapbox\":{\"style\":\"light\"}}},\"legend\":{\"x\":0.02,\"y\":0.98,\"bgcolor\":\"rgba(255, 255, 255, 0)\",\"bordercolor\":\"rgba(255, 255, 255, 0)\"}},                        {\"responsive\": true}                    ).then(function(){\n",
       "                            \n",
       "var gd = document.getElementById('aec8eba9-4fad-4aa7-996f-c2aca5a5891d');\n",
       "var x = new MutationObserver(function (mutations, observer) {{\n",
       "        var display = window.getComputedStyle(gd).display;\n",
       "        if (!display || display === 'none') {{\n",
       "            console.log([gd, 'removed!']);\n",
       "            Plotly.purge(gd);\n",
       "            observer.disconnect();\n",
       "        }}\n",
       "}});\n",
       "\n",
       "// Listen for the removal of the full notebook cells\n",
       "var notebookContainer = gd.closest('#notebook-container');\n",
       "if (notebookContainer) {{\n",
       "    x.observe(notebookContainer, {childList: true});\n",
       "}}\n",
       "\n",
       "// Listen for the clearing of the current output cell\n",
       "var outputEl = gd.closest('.output');\n",
       "if (outputEl) {{\n",
       "    x.observe(outputEl, {childList: true});\n",
       "}}\n",
       "\n",
       "                        })                };                });            </script>        </div>"
      ]
     },
     "metadata": {},
     "output_type": "display_data"
    },
    {
     "data": {
      "text/plain": [
       "'./result/html/提交累加曲线.html'"
      ]
     },
     "execution_count": 22,
     "metadata": {},
     "output_type": "execute_result"
    }
   ],
   "source": [
    "import plotly\n",
    "import plotly.graph_objects as go\n",
    "import pandas as pd\n",
    "import datetime\n",
    "\n",
    "week_num = 11\n",
    "\n",
    "script = f\"SELECT * FROM submit WHERE competitionId in ({','.join(COMPETITIONS)})\"\n",
    "submits = database._db_fetch(script)\n",
    "submits_df = pd.DataFrame(submits, columns=database._get_col_name('submit'))\n",
    "\n",
    "group_submit_date = dict(zip(COMPETITIONS, [[0]*week_num, [0]*week_num, [0]*week_num, [0]*week_num]))\n",
    "for competitionId, rows in submits_df.groupby('competitionId'):\n",
    "    for index, row in rows.iterrows():\n",
    "        try:\n",
    "            group_submit_date[competitionId][row.submitTime.isocalendar()[1]-12] += 1\n",
    "        except Exception as e:\n",
    "            print(name, row.submitTime.isocalendar())\n",
    "            \n",
    "fig = go.Figure()\n",
    "for k, v in group_submit_date.items():\n",
    "    for i in range(1, len(v)):\n",
    "        v[i] += v[i-1]\n",
    "    fig.add_trace(go.Scatter(x=[f'第{i+1}周'for i in range(week_num)], y=v,\n",
    "                mode='lines+markers',\n",
    "                name=database._get_value(table='competition', field='competitionName', logic='AND', competitionId=k)[0][0][19:-1],))\n",
    "\n",
    "fig.update_layout(legend=dict(\n",
    "                                x=0.02,\n",
    "                                y=0.98,\n",
    "                                bgcolor='rgba(255, 255, 255, 0)',\n",
    "                                bordercolor='rgba(255, 255, 255, 0)'\n",
    "                            ),\n",
    "                )\n",
    "      \n",
    "fig.show()\n",
    "plotly.offline.plot(fig, filename='./result/html/提交累加曲线.html')"
   ]
  },
  {
   "attachments": {},
   "cell_type": "markdown",
   "metadata": {},
   "source": [
    "### 测试情况"
   ]
  },
  {
   "attachments": {},
   "cell_type": "markdown",
   "metadata": {},
   "source": [
    "#### 各赛道有效测试数据\n",
    "*有效测试数据*：B卷测试成功的提交"
   ]
  },
  {
   "cell_type": "code",
   "execution_count": 19,
   "metadata": {},
   "outputs": [
    {
     "name": "stdout",
     "output_type": "stream",
     "text": [
      "第一届OnSite自动驾驶算法挑战赛（综合赛）\n",
      "  有效测试数：72\n",
      "  测试最高分：93.61\n",
      "  测试平均分：63.24\n",
      "  平均测试时长：19:20:06\n",
      "  最长测试时长：68:03:05\n",
      "第一届OnSite自动驾驶算法挑战赛（高速路基本段专项赛）\n",
      "  有效测试数：203\n",
      "  测试最高分：93.42\n",
      "  测试平均分：77.16\n",
      "  平均测试时长：06:59:43\n",
      "  最长测试时长：41:22:16\n",
      "第一届OnSite自动驾驶算法挑战赛（高速路汇入汇出区专项赛）\n",
      "  有效测试数：65\n",
      "  测试最高分：96.70\n",
      "  测试平均分：79.94\n",
      "  平均测试时长：07:21:33\n",
      "  最长测试时长：49:51:30\n",
      "第一届OnSite自动驾驶算法挑战赛（交叉口专项赛）\n",
      "  有效测试数：93\n",
      "  测试最高分：94.61\n",
      "  测试平均分：70.52\n",
      "  平均测试时长：01:48:51\n",
      "  最长测试时长：41:19:07\n"
     ]
    }
   ],
   "source": [
    "import pandas as pd\n",
    "import json\n",
    "\n",
    "def convert_time(time_str):\n",
    "    # time_str: '00:00:00' 转换为秒\n",
    "    h, m, s = time_str.split(':')\n",
    "    return int(h) * 3600 + int(m) * 60 + int(s)\n",
    "\n",
    "def cal_avg_time(time_list):\n",
    "    avg = sum(time_list) / len(time_list)\n",
    "    h = int(avg / 3600)\n",
    "    m = int((avg - h * 3600) / 60)\n",
    "    s = int(avg - h * 3600 - m * 60)\n",
    "    return f\"{h:02d}:{m:02d}:{s:02d}\"\n",
    "\n",
    "def get_max_time(time_list):\n",
    "    mt = max(time_list)\n",
    "    h = int(mt / 3600)\n",
    "    m = int((mt - h * 3600) / 60)\n",
    "    s = int(mt - h * 3600 - m * 60)\n",
    "    return f\"{h:02d}:{m:02d}:{s:02d}\"\n",
    "\n",
    "scirpt = f\"SELECT * FROM submit WHERE competitionId IN ({', '.join(COMPETITIONS)}) AND paperType='B' AND status='SUCCESS'\"\n",
    "tests = database._db_fetch(scirpt)\n",
    "tests_df = pd.DataFrame(tests, columns=database.columns)\n",
    "\n",
    "for competitionId, rows in tests_df.groupby('competitionId'):\n",
    "    costs = []\n",
    "    competition_name = database._get_value(table='competition', field='competitionName', logic='AND', competitionId=competitionId)[0][0]\n",
    "    print(competition_name)\n",
    "    print(f\"  有效测试数：{len(rows)}\")\n",
    "    print(f\"  测试最高分：{rows['score'].max():.2f}\")\n",
    "    print(f\"  测试平均分：{rows['score'].mean():.2f}\")\n",
    "    for index, row in rows.iterrows():\n",
    "        time_use = json.loads(row.testDetail)['test']['cost']\n",
    "        costs.append(float(time_use))\n",
    "    print(f\"  平均测试时长：{cal_avg_time(costs)}\")\n",
    "    print(f\"  最长测试时长：{get_max_time(costs)}\")"
   ]
  },
  {
   "attachments": {},
   "cell_type": "markdown",
   "metadata": {},
   "source": [
    "#### 各赛道测试得分分布\n",
    "\n",
    "> 输出文件：`测试得分分布.html`"
   ]
  },
  {
   "cell_type": "code",
   "execution_count": 32,
   "metadata": {},
   "outputs": [
    {
     "data": {
      "application/vnd.plotly.v1+json": {
       "config": {
        "plotlyServerURL": "https://plot.ly"
       },
       "data": [
        {
         "boxpoints": false,
         "name": "综合赛",
         "type": "box",
         "y": [
          22.0338,
          55.6075,
          null,
          null,
          56.8845,
          57.1617,
          13.7739,
          null,
          null,
          55.8656,
          null,
          null,
          null,
          null,
          65.8055,
          null,
          58.1167,
          27.8567,
          27.6309,
          54.1234,
          null,
          27.7246,
          28.3595,
          18.4711,
          52.7614,
          41.2241,
          50.3271,
          45.7303,
          79.4348,
          74.2703,
          35.8602,
          85.1766,
          44.3397,
          null,
          42.3272,
          74.863,
          76.8817,
          40.8004,
          21.2736,
          21.2621,
          76.9999,
          89.2957,
          null,
          null,
          79.1487,
          89.2523,
          61.1731,
          91.9109,
          91.9109,
          80.1828,
          null,
          62.8173,
          68.1016,
          79.3091,
          90.6458,
          58.6781,
          90.4898,
          82.4376,
          65.9963,
          92.6397,
          67.406,
          90.8333,
          79.3091,
          57.4534,
          93.6082,
          91.5508,
          58.4937,
          92.064,
          91.6875,
          81.497,
          91.9783,
          65.1097
         ]
        },
        {
         "boxpoints": false,
         "name": "高速路基本段专项赛",
         "type": "box",
         "y": [
          10.5422,
          64.6852,
          64.6852,
          64.6852,
          36.2223,
          48.2406,
          68.6437,
          74.1336,
          80.6478,
          68.0054,
          72.267,
          62.982,
          72.7555,
          84.0817,
          83.9415,
          68.4966,
          68.7261,
          8.48616,
          null,
          null,
          72.7864,
          61.2914,
          null,
          null,
          null,
          68.7261,
          73.0374,
          null,
          72.6484,
          null,
          null,
          72.409,
          88.8852,
          68.7261,
          87.7008,
          87.6178,
          77.7619,
          76.878,
          77.7883,
          77.7883,
          68.7261,
          68.7261,
          68.7261,
          90.2896,
          80.0044,
          75.7921,
          82.9652,
          84.6993,
          68.7261,
          68.7261,
          86.2223,
          68.7261,
          68.7261,
          86.6923,
          82.5808,
          87.332,
          86.3652,
          86.3229,
          90.7488,
          60.1423,
          84.0284,
          59.3823,
          87.624,
          60.684,
          62.1711,
          86.3741,
          86.7987,
          86.8904,
          68.6484,
          null,
          85.1163,
          74.8131,
          null,
          88.5487,
          62.7324,
          59.1501,
          85.2854,
          49.2786,
          90.3202,
          87.8485,
          86.751,
          91.0946,
          89.0118,
          84.6756,
          77.5369,
          42.9738,
          92.2751,
          77.0665,
          90.6531,
          90.1973,
          87.693,
          85.8427,
          55.3224,
          91.1907,
          0,
          77.0665,
          52.6562,
          85.7776,
          null,
          91.7959,
          77.6005,
          0,
          89.0223,
          90.7391,
          null,
          66.0721,
          86.2174,
          92.0403,
          null,
          91.0804,
          null,
          74.8067,
          84.1942,
          79.14,
          86.5052,
          91.0912,
          91.2136,
          88.0456,
          null,
          86.3334,
          74.7497,
          83.677,
          84.6758,
          91.3511,
          81.5464,
          null,
          65.9002,
          91.3511,
          92.756,
          81.4742,
          90.2745,
          89.1558,
          null,
          68.8327,
          88.6524,
          null,
          62.5704,
          89.2678,
          null,
          51.4701,
          77.6512,
          84.8234,
          75.4892,
          89.2902,
          71.0286,
          93.0358,
          80.8467,
          82.4152,
          93.0317,
          null,
          null,
          null,
          89.5346,
          91.8838,
          78.882,
          78.787,
          76.7321,
          84.2249,
          null,
          null,
          70.8486,
          89.0757,
          91.4265,
          92.7026,
          57.5959,
          84.4837,
          null,
          87.5,
          89.1989,
          93.0358,
          null,
          76.6421,
          null,
          85.4358,
          52.8292,
          88.6178,
          null,
          93.4214,
          89.5632,
          91.9348,
          49.805,
          92.5453,
          92.5453,
          86.513,
          89.2273,
          79.1237,
          86.6845,
          92.8649,
          60.8102,
          80.1235,
          83.827,
          58.2708,
          87.6998,
          93.4213,
          92.7021,
          78.864,
          84.8395,
          87.7718,
          91.5353,
          93.0008,
          93.0772,
          27.8522,
          33.5734
         ]
        },
        {
         "boxpoints": false,
         "name": "高速路汇入汇出区专项赛",
         "type": "box",
         "y": [
          28.4394,
          50.6046,
          45.7746,
          50.6046,
          15.4966,
          86.729,
          91.2207,
          50.6046,
          94.6713,
          84.9997,
          93.8281,
          94.3792,
          86.9458,
          94.776,
          84.8369,
          94.8119,
          88.3794,
          null,
          95.9111,
          93.9052,
          93.1075,
          94.8003,
          66.068,
          50.7572,
          96.6997,
          68.6381,
          78.6596,
          null,
          2.90466,
          46.1233,
          88.1445,
          null,
          91.8026,
          null,
          89.9398,
          null,
          89.986,
          90.05,
          90.9266,
          2.90466,
          null,
          90.2354,
          90.769,
          91.2412,
          95.1204,
          65.8435,
          82.7895,
          96.4773,
          95.1204,
          null,
          93.0834,
          96.3317,
          89.3097,
          94.6065,
          92.9556,
          76.6363,
          89.5469,
          96.1041,
          68.4014,
          95.9407,
          91.4289,
          91.7334,
          93.9218,
          94.5204,
          95.8529
         ]
        },
        {
         "boxpoints": false,
         "name": "交叉口专项赛",
         "type": "box",
         "y": [
          30.5105,
          48.8162,
          25.9868,
          52.1444,
          48.8162,
          48.8162,
          19.7157,
          71.8781,
          66.971,
          19.9075,
          48.8162,
          48.8162,
          71.4948,
          61.2035,
          75.9602,
          73.9712,
          53.3083,
          16.1859,
          14.5239,
          65.1826,
          75.9935,
          65.1826,
          80.3889,
          84.1342,
          62.547,
          85.6773,
          65.8543,
          68.8452,
          70.1543,
          70.1254,
          68.2775,
          68.6248,
          72.7198,
          55.0646,
          67.6252,
          71.4124,
          0,
          0,
          38.9009,
          89.504,
          83.783,
          73.8224,
          75.2295,
          80.8769,
          75.9935,
          80.1508,
          87.1177,
          91.2804,
          58.089,
          89.504,
          84.6319,
          null,
          72.657,
          85.2571,
          83.9798,
          74.7512,
          null,
          88.8234,
          86.7735,
          58.152,
          86.5613,
          88.713,
          86.5613,
          84.9418,
          0.910133,
          89.1566,
          88.1721,
          77.9461,
          null,
          93.3075,
          90.0154,
          90.1122,
          77.9461,
          47.3202,
          94.2887,
          92.8675,
          94.2887,
          82.8105,
          90.6778,
          77.9461,
          88.3246,
          94.6135,
          93.4244,
          61.132,
          92.9591,
          90.3707,
          94.5965,
          91.8702,
          85.2251,
          91.4478,
          90.255,
          90.255,
          92.9369
         ]
        }
       ],
       "layout": {
        "template": {
         "data": {
          "bar": [
           {
            "error_x": {
             "color": "#2a3f5f"
            },
            "error_y": {
             "color": "#2a3f5f"
            },
            "marker": {
             "line": {
              "color": "#E5ECF6",
              "width": 0.5
             },
             "pattern": {
              "fillmode": "overlay",
              "size": 10,
              "solidity": 0.2
             }
            },
            "type": "bar"
           }
          ],
          "barpolar": [
           {
            "marker": {
             "line": {
              "color": "#E5ECF6",
              "width": 0.5
             },
             "pattern": {
              "fillmode": "overlay",
              "size": 10,
              "solidity": 0.2
             }
            },
            "type": "barpolar"
           }
          ],
          "carpet": [
           {
            "aaxis": {
             "endlinecolor": "#2a3f5f",
             "gridcolor": "white",
             "linecolor": "white",
             "minorgridcolor": "white",
             "startlinecolor": "#2a3f5f"
            },
            "baxis": {
             "endlinecolor": "#2a3f5f",
             "gridcolor": "white",
             "linecolor": "white",
             "minorgridcolor": "white",
             "startlinecolor": "#2a3f5f"
            },
            "type": "carpet"
           }
          ],
          "choropleth": [
           {
            "colorbar": {
             "outlinewidth": 0,
             "ticks": ""
            },
            "type": "choropleth"
           }
          ],
          "contour": [
           {
            "colorbar": {
             "outlinewidth": 0,
             "ticks": ""
            },
            "colorscale": [
             [
              0,
              "#0d0887"
             ],
             [
              0.1111111111111111,
              "#46039f"
             ],
             [
              0.2222222222222222,
              "#7201a8"
             ],
             [
              0.3333333333333333,
              "#9c179e"
             ],
             [
              0.4444444444444444,
              "#bd3786"
             ],
             [
              0.5555555555555556,
              "#d8576b"
             ],
             [
              0.6666666666666666,
              "#ed7953"
             ],
             [
              0.7777777777777778,
              "#fb9f3a"
             ],
             [
              0.8888888888888888,
              "#fdca26"
             ],
             [
              1,
              "#f0f921"
             ]
            ],
            "type": "contour"
           }
          ],
          "contourcarpet": [
           {
            "colorbar": {
             "outlinewidth": 0,
             "ticks": ""
            },
            "type": "contourcarpet"
           }
          ],
          "heatmap": [
           {
            "colorbar": {
             "outlinewidth": 0,
             "ticks": ""
            },
            "colorscale": [
             [
              0,
              "#0d0887"
             ],
             [
              0.1111111111111111,
              "#46039f"
             ],
             [
              0.2222222222222222,
              "#7201a8"
             ],
             [
              0.3333333333333333,
              "#9c179e"
             ],
             [
              0.4444444444444444,
              "#bd3786"
             ],
             [
              0.5555555555555556,
              "#d8576b"
             ],
             [
              0.6666666666666666,
              "#ed7953"
             ],
             [
              0.7777777777777778,
              "#fb9f3a"
             ],
             [
              0.8888888888888888,
              "#fdca26"
             ],
             [
              1,
              "#f0f921"
             ]
            ],
            "type": "heatmap"
           }
          ],
          "heatmapgl": [
           {
            "colorbar": {
             "outlinewidth": 0,
             "ticks": ""
            },
            "colorscale": [
             [
              0,
              "#0d0887"
             ],
             [
              0.1111111111111111,
              "#46039f"
             ],
             [
              0.2222222222222222,
              "#7201a8"
             ],
             [
              0.3333333333333333,
              "#9c179e"
             ],
             [
              0.4444444444444444,
              "#bd3786"
             ],
             [
              0.5555555555555556,
              "#d8576b"
             ],
             [
              0.6666666666666666,
              "#ed7953"
             ],
             [
              0.7777777777777778,
              "#fb9f3a"
             ],
             [
              0.8888888888888888,
              "#fdca26"
             ],
             [
              1,
              "#f0f921"
             ]
            ],
            "type": "heatmapgl"
           }
          ],
          "histogram": [
           {
            "marker": {
             "pattern": {
              "fillmode": "overlay",
              "size": 10,
              "solidity": 0.2
             }
            },
            "type": "histogram"
           }
          ],
          "histogram2d": [
           {
            "colorbar": {
             "outlinewidth": 0,
             "ticks": ""
            },
            "colorscale": [
             [
              0,
              "#0d0887"
             ],
             [
              0.1111111111111111,
              "#46039f"
             ],
             [
              0.2222222222222222,
              "#7201a8"
             ],
             [
              0.3333333333333333,
              "#9c179e"
             ],
             [
              0.4444444444444444,
              "#bd3786"
             ],
             [
              0.5555555555555556,
              "#d8576b"
             ],
             [
              0.6666666666666666,
              "#ed7953"
             ],
             [
              0.7777777777777778,
              "#fb9f3a"
             ],
             [
              0.8888888888888888,
              "#fdca26"
             ],
             [
              1,
              "#f0f921"
             ]
            ],
            "type": "histogram2d"
           }
          ],
          "histogram2dcontour": [
           {
            "colorbar": {
             "outlinewidth": 0,
             "ticks": ""
            },
            "colorscale": [
             [
              0,
              "#0d0887"
             ],
             [
              0.1111111111111111,
              "#46039f"
             ],
             [
              0.2222222222222222,
              "#7201a8"
             ],
             [
              0.3333333333333333,
              "#9c179e"
             ],
             [
              0.4444444444444444,
              "#bd3786"
             ],
             [
              0.5555555555555556,
              "#d8576b"
             ],
             [
              0.6666666666666666,
              "#ed7953"
             ],
             [
              0.7777777777777778,
              "#fb9f3a"
             ],
             [
              0.8888888888888888,
              "#fdca26"
             ],
             [
              1,
              "#f0f921"
             ]
            ],
            "type": "histogram2dcontour"
           }
          ],
          "mesh3d": [
           {
            "colorbar": {
             "outlinewidth": 0,
             "ticks": ""
            },
            "type": "mesh3d"
           }
          ],
          "parcoords": [
           {
            "line": {
             "colorbar": {
              "outlinewidth": 0,
              "ticks": ""
             }
            },
            "type": "parcoords"
           }
          ],
          "pie": [
           {
            "automargin": true,
            "type": "pie"
           }
          ],
          "scatter": [
           {
            "fillpattern": {
             "fillmode": "overlay",
             "size": 10,
             "solidity": 0.2
            },
            "type": "scatter"
           }
          ],
          "scatter3d": [
           {
            "line": {
             "colorbar": {
              "outlinewidth": 0,
              "ticks": ""
             }
            },
            "marker": {
             "colorbar": {
              "outlinewidth": 0,
              "ticks": ""
             }
            },
            "type": "scatter3d"
           }
          ],
          "scattercarpet": [
           {
            "marker": {
             "colorbar": {
              "outlinewidth": 0,
              "ticks": ""
             }
            },
            "type": "scattercarpet"
           }
          ],
          "scattergeo": [
           {
            "marker": {
             "colorbar": {
              "outlinewidth": 0,
              "ticks": ""
             }
            },
            "type": "scattergeo"
           }
          ],
          "scattergl": [
           {
            "marker": {
             "colorbar": {
              "outlinewidth": 0,
              "ticks": ""
             }
            },
            "type": "scattergl"
           }
          ],
          "scattermapbox": [
           {
            "marker": {
             "colorbar": {
              "outlinewidth": 0,
              "ticks": ""
             }
            },
            "type": "scattermapbox"
           }
          ],
          "scatterpolar": [
           {
            "marker": {
             "colorbar": {
              "outlinewidth": 0,
              "ticks": ""
             }
            },
            "type": "scatterpolar"
           }
          ],
          "scatterpolargl": [
           {
            "marker": {
             "colorbar": {
              "outlinewidth": 0,
              "ticks": ""
             }
            },
            "type": "scatterpolargl"
           }
          ],
          "scatterternary": [
           {
            "marker": {
             "colorbar": {
              "outlinewidth": 0,
              "ticks": ""
             }
            },
            "type": "scatterternary"
           }
          ],
          "surface": [
           {
            "colorbar": {
             "outlinewidth": 0,
             "ticks": ""
            },
            "colorscale": [
             [
              0,
              "#0d0887"
             ],
             [
              0.1111111111111111,
              "#46039f"
             ],
             [
              0.2222222222222222,
              "#7201a8"
             ],
             [
              0.3333333333333333,
              "#9c179e"
             ],
             [
              0.4444444444444444,
              "#bd3786"
             ],
             [
              0.5555555555555556,
              "#d8576b"
             ],
             [
              0.6666666666666666,
              "#ed7953"
             ],
             [
              0.7777777777777778,
              "#fb9f3a"
             ],
             [
              0.8888888888888888,
              "#fdca26"
             ],
             [
              1,
              "#f0f921"
             ]
            ],
            "type": "surface"
           }
          ],
          "table": [
           {
            "cells": {
             "fill": {
              "color": "#EBF0F8"
             },
             "line": {
              "color": "white"
             }
            },
            "header": {
             "fill": {
              "color": "#C8D4E3"
             },
             "line": {
              "color": "white"
             }
            },
            "type": "table"
           }
          ]
         },
         "layout": {
          "annotationdefaults": {
           "arrowcolor": "#2a3f5f",
           "arrowhead": 0,
           "arrowwidth": 1
          },
          "autotypenumbers": "strict",
          "coloraxis": {
           "colorbar": {
            "outlinewidth": 0,
            "ticks": ""
           }
          },
          "colorscale": {
           "diverging": [
            [
             0,
             "#8e0152"
            ],
            [
             0.1,
             "#c51b7d"
            ],
            [
             0.2,
             "#de77ae"
            ],
            [
             0.3,
             "#f1b6da"
            ],
            [
             0.4,
             "#fde0ef"
            ],
            [
             0.5,
             "#f7f7f7"
            ],
            [
             0.6,
             "#e6f5d0"
            ],
            [
             0.7,
             "#b8e186"
            ],
            [
             0.8,
             "#7fbc41"
            ],
            [
             0.9,
             "#4d9221"
            ],
            [
             1,
             "#276419"
            ]
           ],
           "sequential": [
            [
             0,
             "#0d0887"
            ],
            [
             0.1111111111111111,
             "#46039f"
            ],
            [
             0.2222222222222222,
             "#7201a8"
            ],
            [
             0.3333333333333333,
             "#9c179e"
            ],
            [
             0.4444444444444444,
             "#bd3786"
            ],
            [
             0.5555555555555556,
             "#d8576b"
            ],
            [
             0.6666666666666666,
             "#ed7953"
            ],
            [
             0.7777777777777778,
             "#fb9f3a"
            ],
            [
             0.8888888888888888,
             "#fdca26"
            ],
            [
             1,
             "#f0f921"
            ]
           ],
           "sequentialminus": [
            [
             0,
             "#0d0887"
            ],
            [
             0.1111111111111111,
             "#46039f"
            ],
            [
             0.2222222222222222,
             "#7201a8"
            ],
            [
             0.3333333333333333,
             "#9c179e"
            ],
            [
             0.4444444444444444,
             "#bd3786"
            ],
            [
             0.5555555555555556,
             "#d8576b"
            ],
            [
             0.6666666666666666,
             "#ed7953"
            ],
            [
             0.7777777777777778,
             "#fb9f3a"
            ],
            [
             0.8888888888888888,
             "#fdca26"
            ],
            [
             1,
             "#f0f921"
            ]
           ]
          },
          "colorway": [
           "#636efa",
           "#EF553B",
           "#00cc96",
           "#ab63fa",
           "#FFA15A",
           "#19d3f3",
           "#FF6692",
           "#B6E880",
           "#FF97FF",
           "#FECB52"
          ],
          "font": {
           "color": "#2a3f5f"
          },
          "geo": {
           "bgcolor": "white",
           "lakecolor": "white",
           "landcolor": "#E5ECF6",
           "showlakes": true,
           "showland": true,
           "subunitcolor": "white"
          },
          "hoverlabel": {
           "align": "left"
          },
          "hovermode": "closest",
          "mapbox": {
           "style": "light"
          },
          "paper_bgcolor": "white",
          "plot_bgcolor": "#E5ECF6",
          "polar": {
           "angularaxis": {
            "gridcolor": "white",
            "linecolor": "white",
            "ticks": ""
           },
           "bgcolor": "#E5ECF6",
           "radialaxis": {
            "gridcolor": "white",
            "linecolor": "white",
            "ticks": ""
           }
          },
          "scene": {
           "xaxis": {
            "backgroundcolor": "#E5ECF6",
            "gridcolor": "white",
            "gridwidth": 2,
            "linecolor": "white",
            "showbackground": true,
            "ticks": "",
            "zerolinecolor": "white"
           },
           "yaxis": {
            "backgroundcolor": "#E5ECF6",
            "gridcolor": "white",
            "gridwidth": 2,
            "linecolor": "white",
            "showbackground": true,
            "ticks": "",
            "zerolinecolor": "white"
           },
           "zaxis": {
            "backgroundcolor": "#E5ECF6",
            "gridcolor": "white",
            "gridwidth": 2,
            "linecolor": "white",
            "showbackground": true,
            "ticks": "",
            "zerolinecolor": "white"
           }
          },
          "shapedefaults": {
           "line": {
            "color": "#2a3f5f"
           }
          },
          "ternary": {
           "aaxis": {
            "gridcolor": "white",
            "linecolor": "white",
            "ticks": ""
           },
           "baxis": {
            "gridcolor": "white",
            "linecolor": "white",
            "ticks": ""
           },
           "bgcolor": "#E5ECF6",
           "caxis": {
            "gridcolor": "white",
            "linecolor": "white",
            "ticks": ""
           }
          },
          "title": {
           "x": 0.05
          },
          "xaxis": {
           "automargin": true,
           "gridcolor": "white",
           "linecolor": "white",
           "ticks": "",
           "title": {
            "standoff": 15
           },
           "zerolinecolor": "white",
           "zerolinewidth": 2
          },
          "yaxis": {
           "automargin": true,
           "gridcolor": "white",
           "linecolor": "white",
           "ticks": "",
           "title": {
            "standoff": 15
           },
           "zerolinecolor": "white",
           "zerolinewidth": 2
          }
         }
        },
        "xaxis": {
         "tickfont": {
          "size": 22
         }
        },
        "yaxis": {
         "range": [
          0,
          100
         ],
         "tickfont": {
          "size": 16
         },
         "tickmode": "array",
         "tickvals": [
          0,
          10,
          20,
          30,
          40,
          50,
          60,
          70,
          80,
          90,
          100
         ]
        }
       }
      },
      "text/html": [
       "<div>                            <div id=\"1938a394-ef8e-4465-a4b8-e76c925a0dcb\" class=\"plotly-graph-div\" style=\"height:525px; width:100%;\"></div>            <script type=\"text/javascript\">                require([\"plotly\"], function(Plotly) {                    window.PLOTLYENV=window.PLOTLYENV || {};                                    if (document.getElementById(\"1938a394-ef8e-4465-a4b8-e76c925a0dcb\")) {                    Plotly.newPlot(                        \"1938a394-ef8e-4465-a4b8-e76c925a0dcb\",                        [{\"boxpoints\":false,\"name\":\"\\u7efc\\u5408\\u8d5b\",\"y\":[22.0338,55.6075,null,null,56.8845,57.1617,13.7739,null,null,55.8656,null,null,null,null,65.8055,null,58.1167,27.8567,27.6309,54.1234,null,27.7246,28.3595,18.4711,52.7614,41.2241,50.3271,45.7303,79.4348,74.2703,35.8602,85.1766,44.3397,null,42.3272,74.863,76.8817,40.8004,21.2736,21.2621,76.9999,89.2957,null,null,79.1487,89.2523,61.1731,91.9109,91.9109,80.1828,null,62.8173,68.1016,79.3091,90.6458,58.6781,90.4898,82.4376,65.9963,92.6397,67.406,90.8333,79.3091,57.4534,93.6082,91.5508,58.4937,92.064,91.6875,81.497,91.9783,65.1097],\"type\":\"box\"},{\"boxpoints\":false,\"name\":\"\\u9ad8\\u901f\\u8def\\u57fa\\u672c\\u6bb5\\u4e13\\u9879\\u8d5b\",\"y\":[10.5422,64.6852,64.6852,64.6852,36.2223,48.2406,68.6437,74.1336,80.6478,68.0054,72.267,62.982,72.7555,84.0817,83.9415,68.4966,68.7261,8.48616,null,null,72.7864,61.2914,null,null,null,68.7261,73.0374,null,72.6484,null,null,72.409,88.8852,68.7261,87.7008,87.6178,77.7619,76.878,77.7883,77.7883,68.7261,68.7261,68.7261,90.2896,80.0044,75.7921,82.9652,84.6993,68.7261,68.7261,86.2223,68.7261,68.7261,86.6923,82.5808,87.332,86.3652,86.3229,90.7488,60.1423,84.0284,59.3823,87.624,60.684,62.1711,86.3741,86.7987,86.8904,68.6484,null,85.1163,74.8131,null,88.5487,62.7324,59.1501,85.2854,49.2786,90.3202,87.8485,86.751,91.0946,89.0118,84.6756,77.5369,42.9738,92.2751,77.0665,90.6531,90.1973,87.693,85.8427,55.3224,91.1907,0.0,77.0665,52.6562,85.7776,null,91.7959,77.6005,0.0,89.0223,90.7391,null,66.0721,86.2174,92.0403,null,91.0804,null,74.8067,84.1942,79.14,86.5052,91.0912,91.2136,88.0456,null,86.3334,74.7497,83.677,84.6758,91.3511,81.5464,null,65.9002,91.3511,92.756,81.4742,90.2745,89.1558,null,68.8327,88.6524,null,62.5704,89.2678,null,51.4701,77.6512,84.8234,75.4892,89.2902,71.0286,93.0358,80.8467,82.4152,93.0317,null,null,null,89.5346,91.8838,78.882,78.787,76.7321,84.2249,null,null,70.8486,89.0757,91.4265,92.7026,57.5959,84.4837,null,87.5,89.1989,93.0358,null,76.6421,null,85.4358,52.8292,88.6178,null,93.4214,89.5632,91.9348,49.805,92.5453,92.5453,86.513,89.2273,79.1237,86.6845,92.8649,60.8102,80.1235,83.827,58.2708,87.6998,93.4213,92.7021,78.864,84.8395,87.7718,91.5353,93.0008,93.0772,27.8522,33.5734],\"type\":\"box\"},{\"boxpoints\":false,\"name\":\"\\u9ad8\\u901f\\u8def\\u6c47\\u5165\\u6c47\\u51fa\\u533a\\u4e13\\u9879\\u8d5b\",\"y\":[28.4394,50.6046,45.7746,50.6046,15.4966,86.729,91.2207,50.6046,94.6713,84.9997,93.8281,94.3792,86.9458,94.776,84.8369,94.8119,88.3794,null,95.9111,93.9052,93.1075,94.8003,66.068,50.7572,96.6997,68.6381,78.6596,null,2.90466,46.1233,88.1445,null,91.8026,null,89.9398,null,89.986,90.05,90.9266,2.90466,null,90.2354,90.769,91.2412,95.1204,65.8435,82.7895,96.4773,95.1204,null,93.0834,96.3317,89.3097,94.6065,92.9556,76.6363,89.5469,96.1041,68.4014,95.9407,91.4289,91.7334,93.9218,94.5204,95.8529],\"type\":\"box\"},{\"boxpoints\":false,\"name\":\"\\u4ea4\\u53c9\\u53e3\\u4e13\\u9879\\u8d5b\",\"y\":[30.5105,48.8162,25.9868,52.1444,48.8162,48.8162,19.7157,71.8781,66.971,19.9075,48.8162,48.8162,71.4948,61.2035,75.9602,73.9712,53.3083,16.1859,14.5239,65.1826,75.9935,65.1826,80.3889,84.1342,62.547,85.6773,65.8543,68.8452,70.1543,70.1254,68.2775,68.6248,72.7198,55.0646,67.6252,71.4124,0.0,0.0,38.9009,89.504,83.783,73.8224,75.2295,80.8769,75.9935,80.1508,87.1177,91.2804,58.089,89.504,84.6319,null,72.657,85.2571,83.9798,74.7512,null,88.8234,86.7735,58.152,86.5613,88.713,86.5613,84.9418,0.910133,89.1566,88.1721,77.9461,null,93.3075,90.0154,90.1122,77.9461,47.3202,94.2887,92.8675,94.2887,82.8105,90.6778,77.9461,88.3246,94.6135,93.4244,61.132,92.9591,90.3707,94.5965,91.8702,85.2251,91.4478,90.255,90.255,92.9369],\"type\":\"box\"}],                        {\"template\":{\"data\":{\"histogram2dcontour\":[{\"type\":\"histogram2dcontour\",\"colorbar\":{\"outlinewidth\":0,\"ticks\":\"\"},\"colorscale\":[[0.0,\"#0d0887\"],[0.1111111111111111,\"#46039f\"],[0.2222222222222222,\"#7201a8\"],[0.3333333333333333,\"#9c179e\"],[0.4444444444444444,\"#bd3786\"],[0.5555555555555556,\"#d8576b\"],[0.6666666666666666,\"#ed7953\"],[0.7777777777777778,\"#fb9f3a\"],[0.8888888888888888,\"#fdca26\"],[1.0,\"#f0f921\"]]}],\"choropleth\":[{\"type\":\"choropleth\",\"colorbar\":{\"outlinewidth\":0,\"ticks\":\"\"}}],\"histogram2d\":[{\"type\":\"histogram2d\",\"colorbar\":{\"outlinewidth\":0,\"ticks\":\"\"},\"colorscale\":[[0.0,\"#0d0887\"],[0.1111111111111111,\"#46039f\"],[0.2222222222222222,\"#7201a8\"],[0.3333333333333333,\"#9c179e\"],[0.4444444444444444,\"#bd3786\"],[0.5555555555555556,\"#d8576b\"],[0.6666666666666666,\"#ed7953\"],[0.7777777777777778,\"#fb9f3a\"],[0.8888888888888888,\"#fdca26\"],[1.0,\"#f0f921\"]]}],\"heatmap\":[{\"type\":\"heatmap\",\"colorbar\":{\"outlinewidth\":0,\"ticks\":\"\"},\"colorscale\":[[0.0,\"#0d0887\"],[0.1111111111111111,\"#46039f\"],[0.2222222222222222,\"#7201a8\"],[0.3333333333333333,\"#9c179e\"],[0.4444444444444444,\"#bd3786\"],[0.5555555555555556,\"#d8576b\"],[0.6666666666666666,\"#ed7953\"],[0.7777777777777778,\"#fb9f3a\"],[0.8888888888888888,\"#fdca26\"],[1.0,\"#f0f921\"]]}],\"heatmapgl\":[{\"type\":\"heatmapgl\",\"colorbar\":{\"outlinewidth\":0,\"ticks\":\"\"},\"colorscale\":[[0.0,\"#0d0887\"],[0.1111111111111111,\"#46039f\"],[0.2222222222222222,\"#7201a8\"],[0.3333333333333333,\"#9c179e\"],[0.4444444444444444,\"#bd3786\"],[0.5555555555555556,\"#d8576b\"],[0.6666666666666666,\"#ed7953\"],[0.7777777777777778,\"#fb9f3a\"],[0.8888888888888888,\"#fdca26\"],[1.0,\"#f0f921\"]]}],\"contourcarpet\":[{\"type\":\"contourcarpet\",\"colorbar\":{\"outlinewidth\":0,\"ticks\":\"\"}}],\"contour\":[{\"type\":\"contour\",\"colorbar\":{\"outlinewidth\":0,\"ticks\":\"\"},\"colorscale\":[[0.0,\"#0d0887\"],[0.1111111111111111,\"#46039f\"],[0.2222222222222222,\"#7201a8\"],[0.3333333333333333,\"#9c179e\"],[0.4444444444444444,\"#bd3786\"],[0.5555555555555556,\"#d8576b\"],[0.6666666666666666,\"#ed7953\"],[0.7777777777777778,\"#fb9f3a\"],[0.8888888888888888,\"#fdca26\"],[1.0,\"#f0f921\"]]}],\"surface\":[{\"type\":\"surface\",\"colorbar\":{\"outlinewidth\":0,\"ticks\":\"\"},\"colorscale\":[[0.0,\"#0d0887\"],[0.1111111111111111,\"#46039f\"],[0.2222222222222222,\"#7201a8\"],[0.3333333333333333,\"#9c179e\"],[0.4444444444444444,\"#bd3786\"],[0.5555555555555556,\"#d8576b\"],[0.6666666666666666,\"#ed7953\"],[0.7777777777777778,\"#fb9f3a\"],[0.8888888888888888,\"#fdca26\"],[1.0,\"#f0f921\"]]}],\"mesh3d\":[{\"type\":\"mesh3d\",\"colorbar\":{\"outlinewidth\":0,\"ticks\":\"\"}}],\"scatter\":[{\"fillpattern\":{\"fillmode\":\"overlay\",\"size\":10,\"solidity\":0.2},\"type\":\"scatter\"}],\"parcoords\":[{\"type\":\"parcoords\",\"line\":{\"colorbar\":{\"outlinewidth\":0,\"ticks\":\"\"}}}],\"scatterpolargl\":[{\"type\":\"scatterpolargl\",\"marker\":{\"colorbar\":{\"outlinewidth\":0,\"ticks\":\"\"}}}],\"bar\":[{\"error_x\":{\"color\":\"#2a3f5f\"},\"error_y\":{\"color\":\"#2a3f5f\"},\"marker\":{\"line\":{\"color\":\"#E5ECF6\",\"width\":0.5},\"pattern\":{\"fillmode\":\"overlay\",\"size\":10,\"solidity\":0.2}},\"type\":\"bar\"}],\"scattergeo\":[{\"type\":\"scattergeo\",\"marker\":{\"colorbar\":{\"outlinewidth\":0,\"ticks\":\"\"}}}],\"scatterpolar\":[{\"type\":\"scatterpolar\",\"marker\":{\"colorbar\":{\"outlinewidth\":0,\"ticks\":\"\"}}}],\"histogram\":[{\"marker\":{\"pattern\":{\"fillmode\":\"overlay\",\"size\":10,\"solidity\":0.2}},\"type\":\"histogram\"}],\"scattergl\":[{\"type\":\"scattergl\",\"marker\":{\"colorbar\":{\"outlinewidth\":0,\"ticks\":\"\"}}}],\"scatter3d\":[{\"type\":\"scatter3d\",\"line\":{\"colorbar\":{\"outlinewidth\":0,\"ticks\":\"\"}},\"marker\":{\"colorbar\":{\"outlinewidth\":0,\"ticks\":\"\"}}}],\"scattermapbox\":[{\"type\":\"scattermapbox\",\"marker\":{\"colorbar\":{\"outlinewidth\":0,\"ticks\":\"\"}}}],\"scatterternary\":[{\"type\":\"scatterternary\",\"marker\":{\"colorbar\":{\"outlinewidth\":0,\"ticks\":\"\"}}}],\"scattercarpet\":[{\"type\":\"scattercarpet\",\"marker\":{\"colorbar\":{\"outlinewidth\":0,\"ticks\":\"\"}}}],\"carpet\":[{\"aaxis\":{\"endlinecolor\":\"#2a3f5f\",\"gridcolor\":\"white\",\"linecolor\":\"white\",\"minorgridcolor\":\"white\",\"startlinecolor\":\"#2a3f5f\"},\"baxis\":{\"endlinecolor\":\"#2a3f5f\",\"gridcolor\":\"white\",\"linecolor\":\"white\",\"minorgridcolor\":\"white\",\"startlinecolor\":\"#2a3f5f\"},\"type\":\"carpet\"}],\"table\":[{\"cells\":{\"fill\":{\"color\":\"#EBF0F8\"},\"line\":{\"color\":\"white\"}},\"header\":{\"fill\":{\"color\":\"#C8D4E3\"},\"line\":{\"color\":\"white\"}},\"type\":\"table\"}],\"barpolar\":[{\"marker\":{\"line\":{\"color\":\"#E5ECF6\",\"width\":0.5},\"pattern\":{\"fillmode\":\"overlay\",\"size\":10,\"solidity\":0.2}},\"type\":\"barpolar\"}],\"pie\":[{\"automargin\":true,\"type\":\"pie\"}]},\"layout\":{\"autotypenumbers\":\"strict\",\"colorway\":[\"#636efa\",\"#EF553B\",\"#00cc96\",\"#ab63fa\",\"#FFA15A\",\"#19d3f3\",\"#FF6692\",\"#B6E880\",\"#FF97FF\",\"#FECB52\"],\"font\":{\"color\":\"#2a3f5f\"},\"hovermode\":\"closest\",\"hoverlabel\":{\"align\":\"left\"},\"paper_bgcolor\":\"white\",\"plot_bgcolor\":\"#E5ECF6\",\"polar\":{\"bgcolor\":\"#E5ECF6\",\"angularaxis\":{\"gridcolor\":\"white\",\"linecolor\":\"white\",\"ticks\":\"\"},\"radialaxis\":{\"gridcolor\":\"white\",\"linecolor\":\"white\",\"ticks\":\"\"}},\"ternary\":{\"bgcolor\":\"#E5ECF6\",\"aaxis\":{\"gridcolor\":\"white\",\"linecolor\":\"white\",\"ticks\":\"\"},\"baxis\":{\"gridcolor\":\"white\",\"linecolor\":\"white\",\"ticks\":\"\"},\"caxis\":{\"gridcolor\":\"white\",\"linecolor\":\"white\",\"ticks\":\"\"}},\"coloraxis\":{\"colorbar\":{\"outlinewidth\":0,\"ticks\":\"\"}},\"colorscale\":{\"sequential\":[[0.0,\"#0d0887\"],[0.1111111111111111,\"#46039f\"],[0.2222222222222222,\"#7201a8\"],[0.3333333333333333,\"#9c179e\"],[0.4444444444444444,\"#bd3786\"],[0.5555555555555556,\"#d8576b\"],[0.6666666666666666,\"#ed7953\"],[0.7777777777777778,\"#fb9f3a\"],[0.8888888888888888,\"#fdca26\"],[1.0,\"#f0f921\"]],\"sequentialminus\":[[0.0,\"#0d0887\"],[0.1111111111111111,\"#46039f\"],[0.2222222222222222,\"#7201a8\"],[0.3333333333333333,\"#9c179e\"],[0.4444444444444444,\"#bd3786\"],[0.5555555555555556,\"#d8576b\"],[0.6666666666666666,\"#ed7953\"],[0.7777777777777778,\"#fb9f3a\"],[0.8888888888888888,\"#fdca26\"],[1.0,\"#f0f921\"]],\"diverging\":[[0,\"#8e0152\"],[0.1,\"#c51b7d\"],[0.2,\"#de77ae\"],[0.3,\"#f1b6da\"],[0.4,\"#fde0ef\"],[0.5,\"#f7f7f7\"],[0.6,\"#e6f5d0\"],[0.7,\"#b8e186\"],[0.8,\"#7fbc41\"],[0.9,\"#4d9221\"],[1,\"#276419\"]]},\"xaxis\":{\"gridcolor\":\"white\",\"linecolor\":\"white\",\"ticks\":\"\",\"title\":{\"standoff\":15},\"zerolinecolor\":\"white\",\"automargin\":true,\"zerolinewidth\":2},\"yaxis\":{\"gridcolor\":\"white\",\"linecolor\":\"white\",\"ticks\":\"\",\"title\":{\"standoff\":15},\"zerolinecolor\":\"white\",\"automargin\":true,\"zerolinewidth\":2},\"scene\":{\"xaxis\":{\"backgroundcolor\":\"#E5ECF6\",\"gridcolor\":\"white\",\"linecolor\":\"white\",\"showbackground\":true,\"ticks\":\"\",\"zerolinecolor\":\"white\",\"gridwidth\":2},\"yaxis\":{\"backgroundcolor\":\"#E5ECF6\",\"gridcolor\":\"white\",\"linecolor\":\"white\",\"showbackground\":true,\"ticks\":\"\",\"zerolinecolor\":\"white\",\"gridwidth\":2},\"zaxis\":{\"backgroundcolor\":\"#E5ECF6\",\"gridcolor\":\"white\",\"linecolor\":\"white\",\"showbackground\":true,\"ticks\":\"\",\"zerolinecolor\":\"white\",\"gridwidth\":2}},\"shapedefaults\":{\"line\":{\"color\":\"#2a3f5f\"}},\"annotationdefaults\":{\"arrowcolor\":\"#2a3f5f\",\"arrowhead\":0,\"arrowwidth\":1},\"geo\":{\"bgcolor\":\"white\",\"landcolor\":\"#E5ECF6\",\"subunitcolor\":\"white\",\"showland\":true,\"showlakes\":true,\"lakecolor\":\"white\"},\"title\":{\"x\":0.05},\"mapbox\":{\"style\":\"light\"}}},\"yaxis\":{\"tickfont\":{\"size\":16},\"range\":[0,100],\"tickmode\":\"array\",\"tickvals\":[0,10,20,30,40,50,60,70,80,90,100]},\"xaxis\":{\"tickfont\":{\"size\":22}}},                        {\"responsive\": true}                    ).then(function(){\n",
       "                            \n",
       "var gd = document.getElementById('1938a394-ef8e-4465-a4b8-e76c925a0dcb');\n",
       "var x = new MutationObserver(function (mutations, observer) {{\n",
       "        var display = window.getComputedStyle(gd).display;\n",
       "        if (!display || display === 'none') {{\n",
       "            console.log([gd, 'removed!']);\n",
       "            Plotly.purge(gd);\n",
       "            observer.disconnect();\n",
       "        }}\n",
       "}});\n",
       "\n",
       "// Listen for the removal of the full notebook cells\n",
       "var notebookContainer = gd.closest('#notebook-container');\n",
       "if (notebookContainer) {{\n",
       "    x.observe(notebookContainer, {childList: true});\n",
       "}}\n",
       "\n",
       "// Listen for the clearing of the current output cell\n",
       "var outputEl = gd.closest('.output');\n",
       "if (outputEl) {{\n",
       "    x.observe(outputEl, {childList: true});\n",
       "}}\n",
       "\n",
       "                        })                };                });            </script>        </div>"
      ]
     },
     "metadata": {},
     "output_type": "display_data"
    },
    {
     "data": {
      "text/plain": [
       "'./result/html/测试得分分布.html'"
      ]
     },
     "execution_count": 32,
     "metadata": {},
     "output_type": "execute_result"
    }
   ],
   "source": [
    "import plotly\n",
    "import plotly.graph_objects as go\n",
    "import pandas as pd\n",
    "\n",
    "scirpt = f\"SELECT * FROM submit WHERE competitionId IN ({', '.join(COMPETITIONS)}) AND paperType='B' AND status='SUCCESS'\"\n",
    "tests = database._db_fetch(scirpt)\n",
    "tests_df = pd.DataFrame(tests, columns=database.columns)\n",
    "\n",
    "fig = go.Figure()\n",
    "for competitionId, rows in tests_df.groupby('competitionId'):\n",
    "    competition_name = database._get_value(table='competition', field='competitionName', logic='AND', competitionId=competitionId)[0][0]\n",
    "    fig.add_trace(go.Box(\n",
    "                    y=rows['score'].tolist(),\n",
    "                    name=competition_name[19:-1],\n",
    "                    boxpoints=False,\n",
    "                ))\n",
    "fig.update_layout(\n",
    "    yaxis=dict(\n",
    "        range=[0, 100],\n",
    "        tickmode='array',\n",
    "        tickvals=[i*10 for i in range(11)],\n",
    "        tickfont=dict(size=16),\n",
    "    ),\n",
    "    xaxis=dict(tickfont=dict(size=22)),\n",
    ")\n",
    "fig.show()\n",
    "plotly.offline.plot(fig, filename='./result/html/测试得分分布.html')"
   ]
  },
  {
   "attachments": {},
   "cell_type": "markdown",
   "metadata": {},
   "source": [
    "#### 各赛道测试时长分布\n",
    "> 输出文件：`测试时长分布.html`"
   ]
  },
  {
   "cell_type": "code",
   "execution_count": 28,
   "metadata": {},
   "outputs": [
    {
     "data": {
      "application/vnd.plotly.v1+json": {
       "config": {
        "plotlyServerURL": "https://plot.ly"
       },
       "data": [
        {
         "boxpoints": "all",
         "name": "综合赛",
         "type": "box",
         "x": [
          30309.41,
          20697.89,
          150979.41,
          153860.31,
          19401.04,
          20189.23,
          46540.62,
          160850.48,
          161795.29,
          30351.81,
          143858.71,
          121278.76,
          144338.52,
          120958.63,
          28052.99,
          140753.26,
          23456.54,
          27298.88,
          27237.39,
          35305.82,
          163312.15,
          27616,
          29081.87,
          43376.94,
          105760.59,
          31088.99,
          32117.56,
          26687.46,
          37986.3,
          31845.44,
          29239.61,
          51647.73,
          46757.54,
          134581.58,
          36763.14,
          30240.01,
          26796.33,
          71978.54,
          54518.89,
          66877.36,
          41772.83,
          77739.31,
          176212.2,
          244985.63,
          35596.84,
          53077.64,
          66272.34,
          103603.27,
          99644.55,
          35550.25,
          139685.88,
          34329.04,
          39274.9,
          95866.8,
          55252.03,
          106154.71,
          42456.82,
          37326.55,
          75645.05,
          98594.94,
          36098.5,
          55322.63,
          93492.98,
          81222.2,
          58234.19,
          51597.87,
          101167.13,
          36393.88,
          35821.1,
          65310.57,
          24385.89,
          27814.95
         ]
        },
        {
         "boxpoints": "all",
         "name": "高速路基本段专项赛",
         "type": "box",
         "x": [
          18816.96,
          11375.96,
          10026.28,
          10076.92,
          10868.9,
          12859.65,
          31284.23,
          10013.84,
          10490.25,
          11237.86,
          10438.01,
          9623.11,
          9874.16,
          10813.43,
          20121.12,
          9921.76,
          10875.58,
          24874.84,
          41448.15,
          41474.41,
          10961.48,
          10294.37,
          48544.73,
          48383.5,
          48377.65,
          10971.9,
          10020.13,
          59305.82,
          15387.87,
          59288.42,
          60120.04,
          15382.56,
          31200.42,
          9509.14,
          17298.3,
          10008.96,
          10082.24,
          9362.49,
          9528.1,
          9405.66,
          9548.88,
          9565.3,
          25365.48,
          18487.8,
          9570.71,
          29000.27,
          9720.96,
          9667.4,
          25249.4,
          25729.57,
          9747.65,
          9644.63,
          9716.82,
          9994.94,
          16260.77,
          9815.23,
          9788.69,
          9759.71,
          27418.3,
          22053,
          23265.04,
          23248.93,
          14873.64,
          24646.43,
          24557.87,
          14981.16,
          13142.99,
          12939.37,
          14056.71,
          143870.47,
          9832.8,
          15776.08,
          83957.59,
          10930.59,
          19520.31,
          19634.69,
          22932.56,
          18993.52,
          13257.94,
          20901.77,
          14678.7,
          12564.78,
          13039.87,
          13696.53,
          21955,
          16372.5,
          33929.1,
          17477.24,
          24052.87,
          15797.28,
          27417.57,
          16456.61,
          25006.28,
          31527.61,
          14082.42,
          22850.22,
          20890.06,
          14611.58,
          95322.5,
          20289.01,
          10475.88,
          11335.93,
          16792.5,
          10622.98,
          80625.02,
          10977.7,
          19115.86,
          26722.62,
          42119.84,
          13599.6,
          44288.82,
          15320.24,
          24283.86,
          24908.01,
          24799.48,
          16686.95,
          16468.75,
          16423,
          61905.91,
          23615.92,
          15644.17,
          23584.6,
          30451.84,
          19793.07,
          28058.4,
          54755.32,
          18202.62,
          17250.65,
          32169.72,
          33544.16,
          17206.02,
          25013.52,
          54435.99,
          16856.74,
          25968.53,
          148936.57,
          14440.21,
          27019.75,
          39820.16,
          15115.62,
          16288.87,
          16154,
          25291.14,
          29031.07,
          17442.22,
          17559.7,
          17300.59,
          17564.42,
          16779.25,
          114668.4,
          55701.94,
          58597.37,
          28394.92,
          31270.22,
          26736.55,
          17171.96,
          25319.67,
          17552.25,
          38474.59,
          38328.99,
          15687.71,
          28542,
          17970.99,
          32509.86,
          31269.61,
          16135.54,
          38336.38,
          16381.43,
          27193.18,
          23762.85,
          47557.15,
          24087.79,
          50741.1,
          16547.57,
          13279.32,
          31110.05,
          38912.12,
          32941.91,
          28707.57,
          30026.45,
          60933.78,
          24684.35,
          24725.91,
          16542.15,
          27533.48,
          24325.86,
          16541.32,
          33933.23,
          30330.77,
          24180.79,
          31706.61,
          34214.45,
          15949.47,
          32343.55,
          29865.59,
          24182.28,
          28764.99,
          15558.46,
          17743.41,
          21213.47,
          20843.42,
          20121.52,
          26018.46
         ]
        },
        {
         "boxpoints": "all",
         "name": "高速路汇入汇出区专项赛",
         "type": "box",
         "x": [
          12111.62,
          8892.88,
          13430.71,
          8461.08,
          17849.91,
          9956.4,
          14678.87,
          11808.63,
          9450.57,
          7688.17,
          10161.2,
          10966.39,
          10477.67,
          11408.92,
          19041.68,
          9261.25,
          18478.7,
          80183.45,
          15292.79,
          13223.46,
          12902.01,
          17968.68,
          30149.22,
          14302.52,
          28916.27,
          25562.14,
          29459.54,
          74497.02,
          2262.59,
          21626.1,
          27924.57,
          41469.77,
          29565.93,
          55221.98,
          31723.16,
          86215.84,
          29890.86,
          31726.84,
          14736.77,
          2169.76,
          66293.91,
          29981.01,
          30027.5,
          19237.47,
          16574.98,
          39386.94,
          29035.58,
          24406.54,
          16891.05,
          179490.03,
          19181.97,
          24781.53,
          56606.46,
          27809.01,
          15701.4,
          30155.19,
          28657.77,
          15420.88,
          14078.8,
          15186.22,
          28154.03,
          27933.26,
          19100.88,
          17798.68,
          9068.35
         ]
        },
        {
         "boxpoints": "all",
         "name": "交叉口专项赛",
         "type": "box",
         "x": [
          2007.18,
          1088.98,
          2830.77,
          2713.37,
          980.34,
          994.56,
          3303.26,
          3202.43,
          3179.8,
          1236.82,
          841.97,
          845.07,
          2556.48,
          2669.09,
          3408.3,
          2666.04,
          1004.87,
          2584.49,
          2285.99,
          2356.55,
          3021.79,
          3503.98,
          1329.52,
          3402.52,
          1397.11,
          3639.45,
          4529.86,
          6182.96,
          4941.23,
          1737.23,
          2751.56,
          2647,
          2551.21,
          3132.25,
          3106.35,
          1437.57,
          465.65,
          523.68,
          917.44,
          7088.9,
          1845.12,
          1701.91,
          1056.85,
          32875.44,
          9026.01,
          1903.71,
          1645.23,
          2298.96,
          1534.32,
          6961.62,
          1971.25,
          148747.98,
          9627.24,
          1797.49,
          2282.88,
          14799.68,
          49422.77,
          2007.11,
          2388.42,
          1408.23,
          1893.72,
          2739.1,
          1832.88,
          2626.67,
          662.16,
          1583.53,
          2403.76,
          3378.86,
          77725.27,
          6833.43,
          6474.61,
          1740.73,
          5389.53,
          1551.56,
          2163.65,
          2476.97,
          2141.88,
          5089.11,
          12035.91,
          5298.73,
          4044.63,
          2214.74,
          8167.73,
          3689.19,
          2437.85,
          2464.15,
          6964.27,
          1820.44,
          11248,
          16948.73,
          1711.14,
          1742.3,
          1595.84
         ]
        }
       ],
       "layout": {
        "template": {
         "data": {
          "bar": [
           {
            "error_x": {
             "color": "#2a3f5f"
            },
            "error_y": {
             "color": "#2a3f5f"
            },
            "marker": {
             "line": {
              "color": "#E5ECF6",
              "width": 0.5
             },
             "pattern": {
              "fillmode": "overlay",
              "size": 10,
              "solidity": 0.2
             }
            },
            "type": "bar"
           }
          ],
          "barpolar": [
           {
            "marker": {
             "line": {
              "color": "#E5ECF6",
              "width": 0.5
             },
             "pattern": {
              "fillmode": "overlay",
              "size": 10,
              "solidity": 0.2
             }
            },
            "type": "barpolar"
           }
          ],
          "carpet": [
           {
            "aaxis": {
             "endlinecolor": "#2a3f5f",
             "gridcolor": "white",
             "linecolor": "white",
             "minorgridcolor": "white",
             "startlinecolor": "#2a3f5f"
            },
            "baxis": {
             "endlinecolor": "#2a3f5f",
             "gridcolor": "white",
             "linecolor": "white",
             "minorgridcolor": "white",
             "startlinecolor": "#2a3f5f"
            },
            "type": "carpet"
           }
          ],
          "choropleth": [
           {
            "colorbar": {
             "outlinewidth": 0,
             "ticks": ""
            },
            "type": "choropleth"
           }
          ],
          "contour": [
           {
            "colorbar": {
             "outlinewidth": 0,
             "ticks": ""
            },
            "colorscale": [
             [
              0,
              "#0d0887"
             ],
             [
              0.1111111111111111,
              "#46039f"
             ],
             [
              0.2222222222222222,
              "#7201a8"
             ],
             [
              0.3333333333333333,
              "#9c179e"
             ],
             [
              0.4444444444444444,
              "#bd3786"
             ],
             [
              0.5555555555555556,
              "#d8576b"
             ],
             [
              0.6666666666666666,
              "#ed7953"
             ],
             [
              0.7777777777777778,
              "#fb9f3a"
             ],
             [
              0.8888888888888888,
              "#fdca26"
             ],
             [
              1,
              "#f0f921"
             ]
            ],
            "type": "contour"
           }
          ],
          "contourcarpet": [
           {
            "colorbar": {
             "outlinewidth": 0,
             "ticks": ""
            },
            "type": "contourcarpet"
           }
          ],
          "heatmap": [
           {
            "colorbar": {
             "outlinewidth": 0,
             "ticks": ""
            },
            "colorscale": [
             [
              0,
              "#0d0887"
             ],
             [
              0.1111111111111111,
              "#46039f"
             ],
             [
              0.2222222222222222,
              "#7201a8"
             ],
             [
              0.3333333333333333,
              "#9c179e"
             ],
             [
              0.4444444444444444,
              "#bd3786"
             ],
             [
              0.5555555555555556,
              "#d8576b"
             ],
             [
              0.6666666666666666,
              "#ed7953"
             ],
             [
              0.7777777777777778,
              "#fb9f3a"
             ],
             [
              0.8888888888888888,
              "#fdca26"
             ],
             [
              1,
              "#f0f921"
             ]
            ],
            "type": "heatmap"
           }
          ],
          "heatmapgl": [
           {
            "colorbar": {
             "outlinewidth": 0,
             "ticks": ""
            },
            "colorscale": [
             [
              0,
              "#0d0887"
             ],
             [
              0.1111111111111111,
              "#46039f"
             ],
             [
              0.2222222222222222,
              "#7201a8"
             ],
             [
              0.3333333333333333,
              "#9c179e"
             ],
             [
              0.4444444444444444,
              "#bd3786"
             ],
             [
              0.5555555555555556,
              "#d8576b"
             ],
             [
              0.6666666666666666,
              "#ed7953"
             ],
             [
              0.7777777777777778,
              "#fb9f3a"
             ],
             [
              0.8888888888888888,
              "#fdca26"
             ],
             [
              1,
              "#f0f921"
             ]
            ],
            "type": "heatmapgl"
           }
          ],
          "histogram": [
           {
            "marker": {
             "pattern": {
              "fillmode": "overlay",
              "size": 10,
              "solidity": 0.2
             }
            },
            "type": "histogram"
           }
          ],
          "histogram2d": [
           {
            "colorbar": {
             "outlinewidth": 0,
             "ticks": ""
            },
            "colorscale": [
             [
              0,
              "#0d0887"
             ],
             [
              0.1111111111111111,
              "#46039f"
             ],
             [
              0.2222222222222222,
              "#7201a8"
             ],
             [
              0.3333333333333333,
              "#9c179e"
             ],
             [
              0.4444444444444444,
              "#bd3786"
             ],
             [
              0.5555555555555556,
              "#d8576b"
             ],
             [
              0.6666666666666666,
              "#ed7953"
             ],
             [
              0.7777777777777778,
              "#fb9f3a"
             ],
             [
              0.8888888888888888,
              "#fdca26"
             ],
             [
              1,
              "#f0f921"
             ]
            ],
            "type": "histogram2d"
           }
          ],
          "histogram2dcontour": [
           {
            "colorbar": {
             "outlinewidth": 0,
             "ticks": ""
            },
            "colorscale": [
             [
              0,
              "#0d0887"
             ],
             [
              0.1111111111111111,
              "#46039f"
             ],
             [
              0.2222222222222222,
              "#7201a8"
             ],
             [
              0.3333333333333333,
              "#9c179e"
             ],
             [
              0.4444444444444444,
              "#bd3786"
             ],
             [
              0.5555555555555556,
              "#d8576b"
             ],
             [
              0.6666666666666666,
              "#ed7953"
             ],
             [
              0.7777777777777778,
              "#fb9f3a"
             ],
             [
              0.8888888888888888,
              "#fdca26"
             ],
             [
              1,
              "#f0f921"
             ]
            ],
            "type": "histogram2dcontour"
           }
          ],
          "mesh3d": [
           {
            "colorbar": {
             "outlinewidth": 0,
             "ticks": ""
            },
            "type": "mesh3d"
           }
          ],
          "parcoords": [
           {
            "line": {
             "colorbar": {
              "outlinewidth": 0,
              "ticks": ""
             }
            },
            "type": "parcoords"
           }
          ],
          "pie": [
           {
            "automargin": true,
            "type": "pie"
           }
          ],
          "scatter": [
           {
            "fillpattern": {
             "fillmode": "overlay",
             "size": 10,
             "solidity": 0.2
            },
            "type": "scatter"
           }
          ],
          "scatter3d": [
           {
            "line": {
             "colorbar": {
              "outlinewidth": 0,
              "ticks": ""
             }
            },
            "marker": {
             "colorbar": {
              "outlinewidth": 0,
              "ticks": ""
             }
            },
            "type": "scatter3d"
           }
          ],
          "scattercarpet": [
           {
            "marker": {
             "colorbar": {
              "outlinewidth": 0,
              "ticks": ""
             }
            },
            "type": "scattercarpet"
           }
          ],
          "scattergeo": [
           {
            "marker": {
             "colorbar": {
              "outlinewidth": 0,
              "ticks": ""
             }
            },
            "type": "scattergeo"
           }
          ],
          "scattergl": [
           {
            "marker": {
             "colorbar": {
              "outlinewidth": 0,
              "ticks": ""
             }
            },
            "type": "scattergl"
           }
          ],
          "scattermapbox": [
           {
            "marker": {
             "colorbar": {
              "outlinewidth": 0,
              "ticks": ""
             }
            },
            "type": "scattermapbox"
           }
          ],
          "scatterpolar": [
           {
            "marker": {
             "colorbar": {
              "outlinewidth": 0,
              "ticks": ""
             }
            },
            "type": "scatterpolar"
           }
          ],
          "scatterpolargl": [
           {
            "marker": {
             "colorbar": {
              "outlinewidth": 0,
              "ticks": ""
             }
            },
            "type": "scatterpolargl"
           }
          ],
          "scatterternary": [
           {
            "marker": {
             "colorbar": {
              "outlinewidth": 0,
              "ticks": ""
             }
            },
            "type": "scatterternary"
           }
          ],
          "surface": [
           {
            "colorbar": {
             "outlinewidth": 0,
             "ticks": ""
            },
            "colorscale": [
             [
              0,
              "#0d0887"
             ],
             [
              0.1111111111111111,
              "#46039f"
             ],
             [
              0.2222222222222222,
              "#7201a8"
             ],
             [
              0.3333333333333333,
              "#9c179e"
             ],
             [
              0.4444444444444444,
              "#bd3786"
             ],
             [
              0.5555555555555556,
              "#d8576b"
             ],
             [
              0.6666666666666666,
              "#ed7953"
             ],
             [
              0.7777777777777778,
              "#fb9f3a"
             ],
             [
              0.8888888888888888,
              "#fdca26"
             ],
             [
              1,
              "#f0f921"
             ]
            ],
            "type": "surface"
           }
          ],
          "table": [
           {
            "cells": {
             "fill": {
              "color": "#EBF0F8"
             },
             "line": {
              "color": "white"
             }
            },
            "header": {
             "fill": {
              "color": "#C8D4E3"
             },
             "line": {
              "color": "white"
             }
            },
            "type": "table"
           }
          ]
         },
         "layout": {
          "annotationdefaults": {
           "arrowcolor": "#2a3f5f",
           "arrowhead": 0,
           "arrowwidth": 1
          },
          "autotypenumbers": "strict",
          "coloraxis": {
           "colorbar": {
            "outlinewidth": 0,
            "ticks": ""
           }
          },
          "colorscale": {
           "diverging": [
            [
             0,
             "#8e0152"
            ],
            [
             0.1,
             "#c51b7d"
            ],
            [
             0.2,
             "#de77ae"
            ],
            [
             0.3,
             "#f1b6da"
            ],
            [
             0.4,
             "#fde0ef"
            ],
            [
             0.5,
             "#f7f7f7"
            ],
            [
             0.6,
             "#e6f5d0"
            ],
            [
             0.7,
             "#b8e186"
            ],
            [
             0.8,
             "#7fbc41"
            ],
            [
             0.9,
             "#4d9221"
            ],
            [
             1,
             "#276419"
            ]
           ],
           "sequential": [
            [
             0,
             "#0d0887"
            ],
            [
             0.1111111111111111,
             "#46039f"
            ],
            [
             0.2222222222222222,
             "#7201a8"
            ],
            [
             0.3333333333333333,
             "#9c179e"
            ],
            [
             0.4444444444444444,
             "#bd3786"
            ],
            [
             0.5555555555555556,
             "#d8576b"
            ],
            [
             0.6666666666666666,
             "#ed7953"
            ],
            [
             0.7777777777777778,
             "#fb9f3a"
            ],
            [
             0.8888888888888888,
             "#fdca26"
            ],
            [
             1,
             "#f0f921"
            ]
           ],
           "sequentialminus": [
            [
             0,
             "#0d0887"
            ],
            [
             0.1111111111111111,
             "#46039f"
            ],
            [
             0.2222222222222222,
             "#7201a8"
            ],
            [
             0.3333333333333333,
             "#9c179e"
            ],
            [
             0.4444444444444444,
             "#bd3786"
            ],
            [
             0.5555555555555556,
             "#d8576b"
            ],
            [
             0.6666666666666666,
             "#ed7953"
            ],
            [
             0.7777777777777778,
             "#fb9f3a"
            ],
            [
             0.8888888888888888,
             "#fdca26"
            ],
            [
             1,
             "#f0f921"
            ]
           ]
          },
          "colorway": [
           "#636efa",
           "#EF553B",
           "#00cc96",
           "#ab63fa",
           "#FFA15A",
           "#19d3f3",
           "#FF6692",
           "#B6E880",
           "#FF97FF",
           "#FECB52"
          ],
          "font": {
           "color": "#2a3f5f"
          },
          "geo": {
           "bgcolor": "white",
           "lakecolor": "white",
           "landcolor": "#E5ECF6",
           "showlakes": true,
           "showland": true,
           "subunitcolor": "white"
          },
          "hoverlabel": {
           "align": "left"
          },
          "hovermode": "closest",
          "mapbox": {
           "style": "light"
          },
          "paper_bgcolor": "white",
          "plot_bgcolor": "#E5ECF6",
          "polar": {
           "angularaxis": {
            "gridcolor": "white",
            "linecolor": "white",
            "ticks": ""
           },
           "bgcolor": "#E5ECF6",
           "radialaxis": {
            "gridcolor": "white",
            "linecolor": "white",
            "ticks": ""
           }
          },
          "scene": {
           "xaxis": {
            "backgroundcolor": "#E5ECF6",
            "gridcolor": "white",
            "gridwidth": 2,
            "linecolor": "white",
            "showbackground": true,
            "ticks": "",
            "zerolinecolor": "white"
           },
           "yaxis": {
            "backgroundcolor": "#E5ECF6",
            "gridcolor": "white",
            "gridwidth": 2,
            "linecolor": "white",
            "showbackground": true,
            "ticks": "",
            "zerolinecolor": "white"
           },
           "zaxis": {
            "backgroundcolor": "#E5ECF6",
            "gridcolor": "white",
            "gridwidth": 2,
            "linecolor": "white",
            "showbackground": true,
            "ticks": "",
            "zerolinecolor": "white"
           }
          },
          "shapedefaults": {
           "line": {
            "color": "#2a3f5f"
           }
          },
          "ternary": {
           "aaxis": {
            "gridcolor": "white",
            "linecolor": "white",
            "ticks": ""
           },
           "baxis": {
            "gridcolor": "white",
            "linecolor": "white",
            "ticks": ""
           },
           "bgcolor": "#E5ECF6",
           "caxis": {
            "gridcolor": "white",
            "linecolor": "white",
            "ticks": ""
           }
          },
          "title": {
           "x": 0.05
          },
          "xaxis": {
           "automargin": true,
           "gridcolor": "white",
           "linecolor": "white",
           "ticks": "",
           "title": {
            "standoff": 15
           },
           "zerolinecolor": "white",
           "zerolinewidth": 2
          },
          "yaxis": {
           "automargin": true,
           "gridcolor": "white",
           "linecolor": "white",
           "ticks": "",
           "title": {
            "standoff": 15
           },
           "zerolinecolor": "white",
           "zerolinewidth": 2
          }
         }
        },
        "xaxis": {
         "range": [
          0,
          180000
         ],
         "tickfont": {
          "size": 16
         },
         "tickmode": "array",
         "ticktext": [
          "0",
          "1",
          "2",
          "3",
          "4",
          "5",
          "6",
          "7",
          "8",
          "9",
          "10",
          "11",
          "12",
          "13",
          "14",
          "15",
          "16",
          "17",
          "18",
          "19",
          "20",
          "21",
          "22",
          "23",
          "24",
          "25",
          "26",
          "27",
          "28",
          "29",
          "30",
          "31",
          "32",
          "33",
          "34",
          "35",
          "36",
          "37",
          "38",
          "39",
          "40",
          "41",
          "42",
          "43",
          "44",
          "45",
          "46",
          "47",
          "48",
          "49",
          "50",
          "51",
          "52",
          "53",
          "54",
          "55",
          "56",
          "57",
          "58",
          "59"
         ],
         "tickvals": [
          0,
          3600,
          7200,
          10800,
          14400,
          18000,
          21600,
          25200,
          28800,
          32400,
          36000,
          39600,
          43200,
          46800,
          50400,
          54000,
          57600,
          61200,
          64800,
          68400,
          72000,
          75600,
          79200,
          82800,
          86400,
          90000,
          93600,
          97200,
          100800,
          104400,
          108000,
          111600,
          115200,
          118800,
          122400,
          126000,
          129600,
          133200,
          136800,
          140400,
          144000,
          147600,
          151200,
          154800,
          158400,
          162000,
          165600,
          169200,
          172800,
          176400,
          180000,
          183600,
          187200,
          190800,
          194400,
          198000,
          201600,
          205200,
          208800,
          212400
         ],
         "title": {
          "text": "测试时长(小时)"
         }
        },
        "yaxis": {
         "tickfont": {
          "size": 20
         }
        }
       }
      },
      "text/html": [
       "<div>                            <div id=\"30bf56e5-7ed5-49de-af14-80acf565a228\" class=\"plotly-graph-div\" style=\"height:525px; width:100%;\"></div>            <script type=\"text/javascript\">                require([\"plotly\"], function(Plotly) {                    window.PLOTLYENV=window.PLOTLYENV || {};                                    if (document.getElementById(\"30bf56e5-7ed5-49de-af14-80acf565a228\")) {                    Plotly.newPlot(                        \"30bf56e5-7ed5-49de-af14-80acf565a228\",                        [{\"boxpoints\":\"all\",\"name\":\"\\u7efc\\u5408\\u8d5b\",\"x\":[30309.41,20697.89,150979.41,153860.31,19401.04,20189.23,46540.62,160850.48,161795.29,30351.81,143858.71,121278.76,144338.52,120958.63,28052.99,140753.26,23456.54,27298.88,27237.39,35305.82,163312.15,27616.0,29081.87,43376.94,105760.59,31088.99,32117.56,26687.46,37986.3,31845.44,29239.61,51647.73,46757.54,134581.58,36763.14,30240.01,26796.33,71978.54,54518.89,66877.36,41772.83,77739.31,176212.2,244985.63,35596.84,53077.64,66272.34,103603.27,99644.55,35550.25,139685.88,34329.04,39274.9,95866.8,55252.03,106154.71,42456.82,37326.55,75645.05,98594.94,36098.5,55322.63,93492.98,81222.2,58234.19,51597.87,101167.13,36393.88,35821.1,65310.57,24385.89,27814.95],\"type\":\"box\"},{\"boxpoints\":\"all\",\"name\":\"\\u9ad8\\u901f\\u8def\\u57fa\\u672c\\u6bb5\\u4e13\\u9879\\u8d5b\",\"x\":[18816.96,11375.96,10026.28,10076.92,10868.9,12859.65,31284.23,10013.84,10490.25,11237.86,10438.01,9623.11,9874.16,10813.43,20121.12,9921.76,10875.58,24874.84,41448.15,41474.41,10961.48,10294.37,48544.73,48383.5,48377.65,10971.9,10020.13,59305.82,15387.87,59288.42,60120.04,15382.56,31200.42,9509.14,17298.3,10008.96,10082.24,9362.49,9528.1,9405.66,9548.88,9565.3,25365.48,18487.8,9570.71,29000.27,9720.96,9667.4,25249.4,25729.57,9747.65,9644.63,9716.82,9994.94,16260.77,9815.23,9788.69,9759.71,27418.3,22053.0,23265.04,23248.93,14873.64,24646.43,24557.87,14981.16,13142.99,12939.37,14056.71,143870.47,9832.8,15776.08,83957.59,10930.59,19520.31,19634.69,22932.56,18993.52,13257.94,20901.77,14678.7,12564.78,13039.87,13696.53,21955.0,16372.5,33929.1,17477.24,24052.87,15797.28,27417.57,16456.61,25006.28,31527.61,14082.42,22850.22,20890.06,14611.58,95322.5,20289.01,10475.88,11335.93,16792.5,10622.98,80625.02,10977.7,19115.86,26722.62,42119.84,13599.6,44288.82,15320.24,24283.86,24908.01,24799.48,16686.95,16468.75,16423.0,61905.91,23615.92,15644.17,23584.6,30451.84,19793.07,28058.4,54755.32,18202.62,17250.65,32169.72,33544.16,17206.02,25013.52,54435.99,16856.74,25968.53,148936.57,14440.21,27019.75,39820.16,15115.62,16288.87,16154.0,25291.14,29031.07,17442.22,17559.7,17300.59,17564.42,16779.25,114668.4,55701.94,58597.37,28394.92,31270.22,26736.55,17171.96,25319.67,17552.25,38474.59,38328.99,15687.71,28542.0,17970.99,32509.86,31269.61,16135.54,38336.38,16381.43,27193.18,23762.85,47557.15,24087.79,50741.1,16547.57,13279.32,31110.05,38912.12,32941.91,28707.57,30026.45,60933.78,24684.35,24725.91,16542.15,27533.48,24325.86,16541.32,33933.23,30330.77,24180.79,31706.61,34214.45,15949.47,32343.55,29865.59,24182.28,28764.99,15558.46,17743.41,21213.47,20843.42,20121.52,26018.46],\"type\":\"box\"},{\"boxpoints\":\"all\",\"name\":\"\\u9ad8\\u901f\\u8def\\u6c47\\u5165\\u6c47\\u51fa\\u533a\\u4e13\\u9879\\u8d5b\",\"x\":[12111.62,8892.88,13430.71,8461.08,17849.91,9956.4,14678.87,11808.63,9450.57,7688.17,10161.2,10966.39,10477.67,11408.92,19041.68,9261.25,18478.7,80183.45,15292.79,13223.46,12902.01,17968.68,30149.22,14302.52,28916.27,25562.14,29459.54,74497.02,2262.59,21626.1,27924.57,41469.77,29565.93,55221.98,31723.16,86215.84,29890.86,31726.84,14736.77,2169.76,66293.91,29981.01,30027.5,19237.47,16574.98,39386.94,29035.58,24406.54,16891.05,179490.03,19181.97,24781.53,56606.46,27809.01,15701.4,30155.19,28657.77,15420.88,14078.8,15186.22,28154.03,27933.26,19100.88,17798.68,9068.35],\"type\":\"box\"},{\"boxpoints\":\"all\",\"name\":\"\\u4ea4\\u53c9\\u53e3\\u4e13\\u9879\\u8d5b\",\"x\":[2007.18,1088.98,2830.77,2713.37,980.34,994.56,3303.26,3202.43,3179.8,1236.82,841.97,845.07,2556.48,2669.09,3408.3,2666.04,1004.87,2584.49,2285.99,2356.55,3021.79,3503.98,1329.52,3402.52,1397.11,3639.45,4529.86,6182.96,4941.23,1737.23,2751.56,2647.0,2551.21,3132.25,3106.35,1437.57,465.65,523.68,917.44,7088.9,1845.12,1701.91,1056.85,32875.44,9026.01,1903.71,1645.23,2298.96,1534.32,6961.62,1971.25,148747.98,9627.24,1797.49,2282.88,14799.68,49422.77,2007.11,2388.42,1408.23,1893.72,2739.1,1832.88,2626.67,662.16,1583.53,2403.76,3378.86,77725.27,6833.43,6474.61,1740.73,5389.53,1551.56,2163.65,2476.97,2141.88,5089.11,12035.91,5298.73,4044.63,2214.74,8167.73,3689.19,2437.85,2464.15,6964.27,1820.44,11248.0,16948.73,1711.14,1742.3,1595.84],\"type\":\"box\"}],                        {\"template\":{\"data\":{\"histogram2dcontour\":[{\"type\":\"histogram2dcontour\",\"colorbar\":{\"outlinewidth\":0,\"ticks\":\"\"},\"colorscale\":[[0.0,\"#0d0887\"],[0.1111111111111111,\"#46039f\"],[0.2222222222222222,\"#7201a8\"],[0.3333333333333333,\"#9c179e\"],[0.4444444444444444,\"#bd3786\"],[0.5555555555555556,\"#d8576b\"],[0.6666666666666666,\"#ed7953\"],[0.7777777777777778,\"#fb9f3a\"],[0.8888888888888888,\"#fdca26\"],[1.0,\"#f0f921\"]]}],\"choropleth\":[{\"type\":\"choropleth\",\"colorbar\":{\"outlinewidth\":0,\"ticks\":\"\"}}],\"histogram2d\":[{\"type\":\"histogram2d\",\"colorbar\":{\"outlinewidth\":0,\"ticks\":\"\"},\"colorscale\":[[0.0,\"#0d0887\"],[0.1111111111111111,\"#46039f\"],[0.2222222222222222,\"#7201a8\"],[0.3333333333333333,\"#9c179e\"],[0.4444444444444444,\"#bd3786\"],[0.5555555555555556,\"#d8576b\"],[0.6666666666666666,\"#ed7953\"],[0.7777777777777778,\"#fb9f3a\"],[0.8888888888888888,\"#fdca26\"],[1.0,\"#f0f921\"]]}],\"heatmap\":[{\"type\":\"heatmap\",\"colorbar\":{\"outlinewidth\":0,\"ticks\":\"\"},\"colorscale\":[[0.0,\"#0d0887\"],[0.1111111111111111,\"#46039f\"],[0.2222222222222222,\"#7201a8\"],[0.3333333333333333,\"#9c179e\"],[0.4444444444444444,\"#bd3786\"],[0.5555555555555556,\"#d8576b\"],[0.6666666666666666,\"#ed7953\"],[0.7777777777777778,\"#fb9f3a\"],[0.8888888888888888,\"#fdca26\"],[1.0,\"#f0f921\"]]}],\"heatmapgl\":[{\"type\":\"heatmapgl\",\"colorbar\":{\"outlinewidth\":0,\"ticks\":\"\"},\"colorscale\":[[0.0,\"#0d0887\"],[0.1111111111111111,\"#46039f\"],[0.2222222222222222,\"#7201a8\"],[0.3333333333333333,\"#9c179e\"],[0.4444444444444444,\"#bd3786\"],[0.5555555555555556,\"#d8576b\"],[0.6666666666666666,\"#ed7953\"],[0.7777777777777778,\"#fb9f3a\"],[0.8888888888888888,\"#fdca26\"],[1.0,\"#f0f921\"]]}],\"contourcarpet\":[{\"type\":\"contourcarpet\",\"colorbar\":{\"outlinewidth\":0,\"ticks\":\"\"}}],\"contour\":[{\"type\":\"contour\",\"colorbar\":{\"outlinewidth\":0,\"ticks\":\"\"},\"colorscale\":[[0.0,\"#0d0887\"],[0.1111111111111111,\"#46039f\"],[0.2222222222222222,\"#7201a8\"],[0.3333333333333333,\"#9c179e\"],[0.4444444444444444,\"#bd3786\"],[0.5555555555555556,\"#d8576b\"],[0.6666666666666666,\"#ed7953\"],[0.7777777777777778,\"#fb9f3a\"],[0.8888888888888888,\"#fdca26\"],[1.0,\"#f0f921\"]]}],\"surface\":[{\"type\":\"surface\",\"colorbar\":{\"outlinewidth\":0,\"ticks\":\"\"},\"colorscale\":[[0.0,\"#0d0887\"],[0.1111111111111111,\"#46039f\"],[0.2222222222222222,\"#7201a8\"],[0.3333333333333333,\"#9c179e\"],[0.4444444444444444,\"#bd3786\"],[0.5555555555555556,\"#d8576b\"],[0.6666666666666666,\"#ed7953\"],[0.7777777777777778,\"#fb9f3a\"],[0.8888888888888888,\"#fdca26\"],[1.0,\"#f0f921\"]]}],\"mesh3d\":[{\"type\":\"mesh3d\",\"colorbar\":{\"outlinewidth\":0,\"ticks\":\"\"}}],\"scatter\":[{\"fillpattern\":{\"fillmode\":\"overlay\",\"size\":10,\"solidity\":0.2},\"type\":\"scatter\"}],\"parcoords\":[{\"type\":\"parcoords\",\"line\":{\"colorbar\":{\"outlinewidth\":0,\"ticks\":\"\"}}}],\"scatterpolargl\":[{\"type\":\"scatterpolargl\",\"marker\":{\"colorbar\":{\"outlinewidth\":0,\"ticks\":\"\"}}}],\"bar\":[{\"error_x\":{\"color\":\"#2a3f5f\"},\"error_y\":{\"color\":\"#2a3f5f\"},\"marker\":{\"line\":{\"color\":\"#E5ECF6\",\"width\":0.5},\"pattern\":{\"fillmode\":\"overlay\",\"size\":10,\"solidity\":0.2}},\"type\":\"bar\"}],\"scattergeo\":[{\"type\":\"scattergeo\",\"marker\":{\"colorbar\":{\"outlinewidth\":0,\"ticks\":\"\"}}}],\"scatterpolar\":[{\"type\":\"scatterpolar\",\"marker\":{\"colorbar\":{\"outlinewidth\":0,\"ticks\":\"\"}}}],\"histogram\":[{\"marker\":{\"pattern\":{\"fillmode\":\"overlay\",\"size\":10,\"solidity\":0.2}},\"type\":\"histogram\"}],\"scattergl\":[{\"type\":\"scattergl\",\"marker\":{\"colorbar\":{\"outlinewidth\":0,\"ticks\":\"\"}}}],\"scatter3d\":[{\"type\":\"scatter3d\",\"line\":{\"colorbar\":{\"outlinewidth\":0,\"ticks\":\"\"}},\"marker\":{\"colorbar\":{\"outlinewidth\":0,\"ticks\":\"\"}}}],\"scattermapbox\":[{\"type\":\"scattermapbox\",\"marker\":{\"colorbar\":{\"outlinewidth\":0,\"ticks\":\"\"}}}],\"scatterternary\":[{\"type\":\"scatterternary\",\"marker\":{\"colorbar\":{\"outlinewidth\":0,\"ticks\":\"\"}}}],\"scattercarpet\":[{\"type\":\"scattercarpet\",\"marker\":{\"colorbar\":{\"outlinewidth\":0,\"ticks\":\"\"}}}],\"carpet\":[{\"aaxis\":{\"endlinecolor\":\"#2a3f5f\",\"gridcolor\":\"white\",\"linecolor\":\"white\",\"minorgridcolor\":\"white\",\"startlinecolor\":\"#2a3f5f\"},\"baxis\":{\"endlinecolor\":\"#2a3f5f\",\"gridcolor\":\"white\",\"linecolor\":\"white\",\"minorgridcolor\":\"white\",\"startlinecolor\":\"#2a3f5f\"},\"type\":\"carpet\"}],\"table\":[{\"cells\":{\"fill\":{\"color\":\"#EBF0F8\"},\"line\":{\"color\":\"white\"}},\"header\":{\"fill\":{\"color\":\"#C8D4E3\"},\"line\":{\"color\":\"white\"}},\"type\":\"table\"}],\"barpolar\":[{\"marker\":{\"line\":{\"color\":\"#E5ECF6\",\"width\":0.5},\"pattern\":{\"fillmode\":\"overlay\",\"size\":10,\"solidity\":0.2}},\"type\":\"barpolar\"}],\"pie\":[{\"automargin\":true,\"type\":\"pie\"}]},\"layout\":{\"autotypenumbers\":\"strict\",\"colorway\":[\"#636efa\",\"#EF553B\",\"#00cc96\",\"#ab63fa\",\"#FFA15A\",\"#19d3f3\",\"#FF6692\",\"#B6E880\",\"#FF97FF\",\"#FECB52\"],\"font\":{\"color\":\"#2a3f5f\"},\"hovermode\":\"closest\",\"hoverlabel\":{\"align\":\"left\"},\"paper_bgcolor\":\"white\",\"plot_bgcolor\":\"#E5ECF6\",\"polar\":{\"bgcolor\":\"#E5ECF6\",\"angularaxis\":{\"gridcolor\":\"white\",\"linecolor\":\"white\",\"ticks\":\"\"},\"radialaxis\":{\"gridcolor\":\"white\",\"linecolor\":\"white\",\"ticks\":\"\"}},\"ternary\":{\"bgcolor\":\"#E5ECF6\",\"aaxis\":{\"gridcolor\":\"white\",\"linecolor\":\"white\",\"ticks\":\"\"},\"baxis\":{\"gridcolor\":\"white\",\"linecolor\":\"white\",\"ticks\":\"\"},\"caxis\":{\"gridcolor\":\"white\",\"linecolor\":\"white\",\"ticks\":\"\"}},\"coloraxis\":{\"colorbar\":{\"outlinewidth\":0,\"ticks\":\"\"}},\"colorscale\":{\"sequential\":[[0.0,\"#0d0887\"],[0.1111111111111111,\"#46039f\"],[0.2222222222222222,\"#7201a8\"],[0.3333333333333333,\"#9c179e\"],[0.4444444444444444,\"#bd3786\"],[0.5555555555555556,\"#d8576b\"],[0.6666666666666666,\"#ed7953\"],[0.7777777777777778,\"#fb9f3a\"],[0.8888888888888888,\"#fdca26\"],[1.0,\"#f0f921\"]],\"sequentialminus\":[[0.0,\"#0d0887\"],[0.1111111111111111,\"#46039f\"],[0.2222222222222222,\"#7201a8\"],[0.3333333333333333,\"#9c179e\"],[0.4444444444444444,\"#bd3786\"],[0.5555555555555556,\"#d8576b\"],[0.6666666666666666,\"#ed7953\"],[0.7777777777777778,\"#fb9f3a\"],[0.8888888888888888,\"#fdca26\"],[1.0,\"#f0f921\"]],\"diverging\":[[0,\"#8e0152\"],[0.1,\"#c51b7d\"],[0.2,\"#de77ae\"],[0.3,\"#f1b6da\"],[0.4,\"#fde0ef\"],[0.5,\"#f7f7f7\"],[0.6,\"#e6f5d0\"],[0.7,\"#b8e186\"],[0.8,\"#7fbc41\"],[0.9,\"#4d9221\"],[1,\"#276419\"]]},\"xaxis\":{\"gridcolor\":\"white\",\"linecolor\":\"white\",\"ticks\":\"\",\"title\":{\"standoff\":15},\"zerolinecolor\":\"white\",\"automargin\":true,\"zerolinewidth\":2},\"yaxis\":{\"gridcolor\":\"white\",\"linecolor\":\"white\",\"ticks\":\"\",\"title\":{\"standoff\":15},\"zerolinecolor\":\"white\",\"automargin\":true,\"zerolinewidth\":2},\"scene\":{\"xaxis\":{\"backgroundcolor\":\"#E5ECF6\",\"gridcolor\":\"white\",\"linecolor\":\"white\",\"showbackground\":true,\"ticks\":\"\",\"zerolinecolor\":\"white\",\"gridwidth\":2},\"yaxis\":{\"backgroundcolor\":\"#E5ECF6\",\"gridcolor\":\"white\",\"linecolor\":\"white\",\"showbackground\":true,\"ticks\":\"\",\"zerolinecolor\":\"white\",\"gridwidth\":2},\"zaxis\":{\"backgroundcolor\":\"#E5ECF6\",\"gridcolor\":\"white\",\"linecolor\":\"white\",\"showbackground\":true,\"ticks\":\"\",\"zerolinecolor\":\"white\",\"gridwidth\":2}},\"shapedefaults\":{\"line\":{\"color\":\"#2a3f5f\"}},\"annotationdefaults\":{\"arrowcolor\":\"#2a3f5f\",\"arrowhead\":0,\"arrowwidth\":1},\"geo\":{\"bgcolor\":\"white\",\"landcolor\":\"#E5ECF6\",\"subunitcolor\":\"white\",\"showland\":true,\"showlakes\":true,\"lakecolor\":\"white\"},\"title\":{\"x\":0.05},\"mapbox\":{\"style\":\"light\"}}},\"xaxis\":{\"tickfont\":{\"size\":16},\"range\":[0,180000],\"tickmode\":\"array\",\"tickvals\":[0,3600,7200,10800,14400,18000,21600,25200,28800,32400,36000,39600,43200,46800,50400,54000,57600,61200,64800,68400,72000,75600,79200,82800,86400,90000,93600,97200,100800,104400,108000,111600,115200,118800,122400,126000,129600,133200,136800,140400,144000,147600,151200,154800,158400,162000,165600,169200,172800,176400,180000,183600,187200,190800,194400,198000,201600,205200,208800,212400],\"ticktext\":[\"0\",\"1\",\"2\",\"3\",\"4\",\"5\",\"6\",\"7\",\"8\",\"9\",\"10\",\"11\",\"12\",\"13\",\"14\",\"15\",\"16\",\"17\",\"18\",\"19\",\"20\",\"21\",\"22\",\"23\",\"24\",\"25\",\"26\",\"27\",\"28\",\"29\",\"30\",\"31\",\"32\",\"33\",\"34\",\"35\",\"36\",\"37\",\"38\",\"39\",\"40\",\"41\",\"42\",\"43\",\"44\",\"45\",\"46\",\"47\",\"48\",\"49\",\"50\",\"51\",\"52\",\"53\",\"54\",\"55\",\"56\",\"57\",\"58\",\"59\"],\"title\":{\"text\":\"\\u6d4b\\u8bd5\\u65f6\\u957f(\\u5c0f\\u65f6)\"}},\"yaxis\":{\"tickfont\":{\"size\":20}}},                        {\"responsive\": true}                    ).then(function(){\n",
       "                            \n",
       "var gd = document.getElementById('30bf56e5-7ed5-49de-af14-80acf565a228');\n",
       "var x = new MutationObserver(function (mutations, observer) {{\n",
       "        var display = window.getComputedStyle(gd).display;\n",
       "        if (!display || display === 'none') {{\n",
       "            console.log([gd, 'removed!']);\n",
       "            Plotly.purge(gd);\n",
       "            observer.disconnect();\n",
       "        }}\n",
       "}});\n",
       "\n",
       "// Listen for the removal of the full notebook cells\n",
       "var notebookContainer = gd.closest('#notebook-container');\n",
       "if (notebookContainer) {{\n",
       "    x.observe(notebookContainer, {childList: true});\n",
       "}}\n",
       "\n",
       "// Listen for the clearing of the current output cell\n",
       "var outputEl = gd.closest('.output');\n",
       "if (outputEl) {{\n",
       "    x.observe(outputEl, {childList: true});\n",
       "}}\n",
       "\n",
       "                        })                };                });            </script>        </div>"
      ]
     },
     "metadata": {},
     "output_type": "display_data"
    },
    {
     "data": {
      "text/plain": [
       "'./result/html/测试时长分布.html'"
      ]
     },
     "execution_count": 28,
     "metadata": {},
     "output_type": "execute_result"
    }
   ],
   "source": [
    "import plotly\n",
    "import plotly.graph_objects as go\n",
    "import pandas as pd\n",
    "import json\n",
    "\n",
    "def convert_time(time_str):\n",
    "    h, m, s = time_str.split(':')\n",
    "    return int(h) * 3600 + int(m) * 60 + int(s)\n",
    "\n",
    "def cal_avg_time(time_list):\n",
    "    avg = sum(time_list) / len(time_list)\n",
    "    h = int(avg / 3600)\n",
    "    m = int((avg - h * 3600) / 60)\n",
    "    s = int(avg - h * 3600 - m * 60)\n",
    "    return f\"{h:02d}:{m:02d}:{s:02d}\"\n",
    "\n",
    "scirpt = f\"SELECT * FROM submit WHERE competitionId IN ({', '.join(COMPETITIONS)}) AND paperType='B' AND status='SUCCESS'\"\n",
    "tests = database._db_fetch(scirpt)\n",
    "tests_df = pd.DataFrame(tests, columns=database.columns)\n",
    "\n",
    "fig = go.Figure()\n",
    "for competitionId, rows in tests_df.groupby('competitionId'):\n",
    "    competition_name = database._get_value(table='competition', field='competitionName', logic='AND', competitionId=competitionId)[0][0]\n",
    "    fig.add_trace(go.Box(\n",
    "                        x=[float(json.loads(test_info)['test']['cost']) for test_info in rows.testDetail],\n",
    "                        name=competition_name[19:-1],\n",
    "                        # boxpoints=\"suspectedoutliers\",\n",
    "                        # boxpoints=False,\n",
    "                        boxpoints=\"all\",\n",
    "                    ))\n",
    "fig.update_layout(\n",
    "    xaxis=dict(\n",
    "        range=[0, 180000],\n",
    "        tickmode='array',\n",
    "        tickvals=[i*3600 for i in range(0, 60, 1)],\n",
    "        ticktext=[f\"{i}\" for i in range(0, 60, 1)],\n",
    "        tickfont=dict(size=16),\n",
    "        title='测试时长(小时)',\n",
    "    ),\n",
    "    yaxis=dict(tickfont=dict(size=20)),\n",
    ")\n",
    "fig.show()\n",
    "# fig.write_image(\"./analyze_result/test_cost.svg\", engine=\"kaleido\")\n",
    "plotly.offline.plot(fig, filename='./result/html/测试时长分布.html')"
   ]
  },
  {
   "attachments": {},
   "cell_type": "markdown",
   "metadata": {},
   "source": [
    "#### 测试超时情况统计\n",
    "> 输出文件：`测试超时名单.csv`"
   ]
  },
  {
   "cell_type": "code",
   "execution_count": 34,
   "metadata": {},
   "outputs": [],
   "source": [
    "import json\n",
    "import pandas as pd\n",
    "\n",
    "competition_map = dict(zip(COMPETITIONS, [database._get_value(table='competition', field='competitionName', logic='AND', competitionId=competitionId)[0][0] for competitionId in COMPETITIONS]))\n",
    "\n",
    "def convert_time(test_time):\n",
    "    h = int(test_time / 3600)\n",
    "    m = int((test_time - h * 3600) / 60)\n",
    "    s = int(test_time - h * 3600 - m * 60)\n",
    "    return f\"{h:02d}:{m:02d}:{s:02d}\"\n",
    "\n",
    "def get_user_info(submitterId):\n",
    "    return database._get_value(table='user', field='userName, mobile, email', logic='AND', userId=submitterId)[0]\n",
    "\n",
    "def is_best(submitterId, competitionId, cur_score):\n",
    "    scores = []\n",
    "    if cur_score:\n",
    "        for score in database._get_value(table='submit', field='score', logic='AND', submitterId=submitterId, competitionId=competitionId):\n",
    "            if score[0]:\n",
    "                scores.append(score[0])\n",
    "        return max(scores) == cur_score\n",
    "    else:\n",
    "        return False\n",
    "\n",
    "scirpt = f\"SELECT * FROM submit WHERE competitionId IN ({', '.join(COMPETITIONS)}) AND paperType='B' AND status='SUCCESS'\"\n",
    "tests = database._db_fetch(scirpt)\n",
    "\n",
    "timeouts = []\n",
    "for submit in database._db_fetch(scirpt):\n",
    "    try:\n",
    "        test_detail = json.loads(submit[-1])\n",
    "        test_time = float(test_detail[\"test\"][\"cost\"])\n",
    "    except:\n",
    "        continue\n",
    "    if submit[2] == '2023031405':\n",
    "        # if test_time >= 3600 * 30 and is_best(submit[1], submit[2], submit[5]):\n",
    "        if test_time >= 3600 * 30:\n",
    "            userName, mobile, email = get_user_info(submit[1])\n",
    "            timeouts.append([submit[0], submit[3], competition_map[submit[2]], userName, mobile, email, convert_time(test_time), submit[5], is_best(submit[1], submit[2], submit[5])])\n",
    "    elif submit[2] == '2023031901' or submit[2] == '2023031902' or submit[2] == '2023031903':\n",
    "        # if test_time >= 3600 * 10 and is_best(submit[1], submit[2], submit[5]):\n",
    "        if test_time >= 3600 * 10:\n",
    "            userName, mobile, email = get_user_info(submit[1])\n",
    "            timeouts.append([submit[0], submit[3], competition_map[submit[2]], userName, mobile, email, convert_time(test_time), submit[5], is_best(submit[1], submit[2], submit[5])])\n",
    "\n",
    "pd.DataFrame(timeouts, columns=['submitId', '提交时间', '赛道', '用户', '手机号', '邮箱', '测试耗时', '得分', '是否为本人最高分']).to_csv('./result/csv/测试超时名单.csv', index=False, encoding='gbk')"
   ]
  },
  {
   "attachments": {},
   "cell_type": "markdown",
   "metadata": {},
   "source": [
    "### 获奖队伍词云生成\n",
    "\n",
    "> 输入文件: tester/tools/test_C中生成的`leaderboard_final.xlsx`\n",
    "\n",
    "> 输出文件: parser/result/word_cloud中的png文件"
   ]
  },
  {
   "cell_type": "code",
   "execution_count": 2,
   "metadata": {},
   "outputs": [
    {
     "name": "stderr",
     "output_type": "stream",
     "text": [
      "/tmp/ipykernel_1380028/2651595557.py:24: DeprecationWarning: Starting with ImageIO v3 the behavior of this function will switch to that of iio.v3.imread. To keep the current behavior (and make this warning disappear) use `import imageio.v2 as imageio` or call `imageio.v2.imread` directly.\n",
      "  wordcloud = WordCloud(background_color='white', font_path=font_path, mask=imageio.imread(mask_path),\n"
     ]
    },
    {
     "data": {
      "text/plain": [
       "<wordcloud.wordcloud.WordCloud at 0x7fb9b9a12dc0>"
      ]
     },
     "execution_count": 2,
     "metadata": {},
     "output_type": "execute_result"
    }
   ],
   "source": [
    "from wordcloud import WordCloud\n",
    "import pandas as pd\n",
    "import imageio\n",
    "\n",
    "mask_path = r\"/home/ubuntu/onsite-test-server/parser/src/wordcloud_mask_car.png\"\n",
    "font_path = r\"/home/ubuntu/onsite-test-server/parser/src/shangshoubaihushufati.ttf\"\n",
    "leaderboard_path = r\"/home/ubuntu/onsite-test-server/tester/tools/test_C/leaderboard_final.xlsx\"\n",
    "\n",
    "leaderboard = pd.read_excel(leaderboard_path, sheet_name=None)\n",
    "\n",
    "texts = []\n",
    "for competitionName, rows in leaderboard.items():\n",
    "    texts.extend(rows.head(10)['学校'].tolist())\n",
    "\n",
    "texts = list(set(texts))\n",
    "texts.extend(['同济大学']*2)\n",
    "texts.extend(['清华大学'])\n",
    "texts.extend(['长安大学'])\n",
    "texts.extend(['东南大学'])\n",
    "texts.extend(['浙江大学'])\n",
    "text = ' '.join(texts)\n",
    "\n",
    "# 创建词云对象\n",
    "wordcloud = WordCloud(background_color='white', font_path=font_path, mask=imageio.imread(mask_path),\n",
    "                      max_font_size=130, min_font_size=40, colormap='bone').generate(text)\n",
    "\n",
    "# 将词云保存为图片文件\n",
    "wordcloud.to_file('./result/word_cloud/my_wordcloud_9.png')"
   ]
  },
  {
   "cell_type": "code",
   "execution_count": 9,
   "metadata": {},
   "outputs": [],
   "source": [
    "import pandas as pd\n",
    "leaderboard_path = r\"/home/ubuntu/onsite-test-server/tester/tools/test_C/leaderboard_final.xlsx\"\n",
    "\n",
    "leaderboard = pd.read_excel(leaderboard_path, sheet_name=None)\n",
    "\n",
    "school_info = {}\n",
    "\n",
    "for competitionName, rows in leaderboard.items():\n",
    "    for index, row in rows.head(10).iterrows():\n",
    "        school_info.setdefault(row['学校'], 0)\n",
    "        school_info[row.学校] += 1\n",
    "school_info_df = pd.DataFrame(zip(school_info.keys(), school_info.values()), columns=['学校', '入围次数'])\n",
    "school_info_df.sort_values(by='入围次数', ascending=False, inplace=True)\n",
    "school_info_df.to_csv('./result/word_cloud/高校前十入围次数.csv', index=False, encoding='utf-8')"
   ]
  },
  {
   "attachments": {},
   "cell_type": "markdown",
   "metadata": {},
   "source": [
    "### 各赛道排行榜变化趋势"
   ]
  },
  {
   "attachments": {},
   "cell_type": "markdown",
   "metadata": {},
   "source": [
    "#### 用户排行及分数变化\n",
    "> 输出文件：`./result/leaderboard_change/{赛道名}_排行榜变化.csv`"
   ]
  },
  {
   "cell_type": "code",
   "execution_count": 5,
   "metadata": {},
   "outputs": [],
   "source": [
    "import datetime\n",
    "import pandas as pd\n",
    "\n",
    "def get_date_list():\n",
    "    dates = []\n",
    "    start_date = datetime.date(2023, 4, 1)\n",
    "    end_date = datetime.date(2023, 5, 31)\n",
    "    delta = datetime.timedelta(days=1)\n",
    "    current_date = start_date\n",
    "    while current_date <= end_date:\n",
    "        dates.append(current_date.strftime(\"%Y-%m-%d\"))\n",
    "        current_date += delta\n",
    "    return dates\n",
    "\n",
    "date_list = get_date_list()\n",
    "    \n",
    "scirpt = f\"SELECT * FROM submit WHERE competitionId IN ({', '.join(COMPETITIONS)}) AND paperType='B' AND status='SUCCESS'\"\n",
    "tests = database._db_fetch(scirpt)\n",
    "tests_df = pd.DataFrame(tests, columns=database.columns)\n",
    "\n",
    "for competitionId, competition_rows in tests_df.groupby('competitionId'):\n",
    "    leaderboard_change = {}\n",
    "    competition_name = database._get_value(table='competition', field='competitionName', logic='AND', competitionId=competitionId)[0][0]\n",
    "    competition_rows.dropna(subset=['score'], inplace=True)\n",
    "    competition_rows.sort_values(by='submitTime', inplace=True, ascending=True)\n",
    "    for userId, user_rows in competition_rows.groupby('submitterId'):\n",
    "        user_name = database._get_value(table='user', field='userName', logic='AND', userId=userId)[0][0]\n",
    "        leaderboard_change[user_name] = [0] * len(date_list)\n",
    "        user_rows['score'] = user_rows['score'].cummax()\n",
    "        user_rows['submitTime'] = user_rows['submitTime'].dt.strftime('%Y-%m-%d')\n",
    "        user_rows.drop_duplicates(subset=['submitTime'], inplace=True, keep='last')\n",
    "        last_pos = 0\n",
    "        last_score = 0\n",
    "        for index, row in user_rows.iterrows():\n",
    "            pos = date_list.index(row['submitTime'])\n",
    "            if last_pos < pos:\n",
    "                delta = (row['score'] - last_score) / (pos - last_pos)\n",
    "                for i in range(last_pos+1, pos+1):\n",
    "                    last_score += delta\n",
    "                    leaderboard_change[user_name][i] = last_score\n",
    "                last_pos = pos\n",
    "            else:\n",
    "                last_score = row['score']\n",
    "                leaderboard_change[user_name][pos] = last_score\n",
    "            # print(pos, leaderboard_change[user_name][pos], row['score'])\n",
    "        if last_pos != len(date_list) - 1:\n",
    "            for i in range(last_pos+1, len(date_list)):\n",
    "                leaderboard_change[user_name][i] = last_score\n",
    "    \n",
    "    user_change = []\n",
    "    for user_name, scores in leaderboard_change.items():\n",
    "        user_change.append([user_name, *scores])\n",
    "    # print(pd.DataFrame(user_change, columns=['userName', *date_list]))\n",
    "    user_change_df = pd.DataFrame(user_change, columns=['userName', *date_list]).round(4)\n",
    "    user_change_df.to_csv(f'./result/leaderboard_change/{competition_name[19:-1]}_排行榜变化.csv', index=False, encoding='utf-8')"
   ]
  },
  {
   "attachments": {},
   "cell_type": "markdown",
   "metadata": {},
   "source": [
    "#### 各赛道前十平均分变化趋势\n",
    "> 输出文件：`./result/leaderboard_change/排行榜前十平均分变化.csv`"
   ]
  },
  {
   "cell_type": "code",
   "execution_count": 30,
   "metadata": {},
   "outputs": [],
   "source": [
    "import os\n",
    "import pandas as pd\n",
    "\n",
    "file_dir = r\"./result/leaderboard_change/\"\n",
    "\n",
    "def get_date_list():\n",
    "    dates = []\n",
    "    start_date = datetime.date(2023, 4, 1)\n",
    "    end_date = datetime.date(2023, 5, 31)\n",
    "    delta = datetime.timedelta(days=1)\n",
    "    current_date = start_date\n",
    "    while current_date <= end_date:\n",
    "        dates.append(current_date.strftime(\"%Y-%m-%d\"))\n",
    "        current_date += delta\n",
    "    return dates\n",
    "\n",
    "date_list = get_date_list()\n",
    "\n",
    "new_df = pd.DataFrame()\n",
    "\n",
    "for competitionId in COMPETITIONS:\n",
    "    competitionName = database._get_value(table='competition', field='competitionName', logic='AND', competitionId=competitionId)[0][0]\n",
    "    df = pd.read_csv(os.path.join(file_dir, f'{competitionName[19:-1]}_排行榜变化.csv'), encoding='utf-8')\n",
    "    df.drop(columns=['userName'], inplace=True)\n",
    "    top_mean = df.apply(lambda x: x.nlargest(10).mean(), axis=0)\n",
    "    top_mean_df = pd.DataFrame([competitionName[19:-1], *top_mean]).T\n",
    "    # print(top_mean_df)\n",
    "    new_df = pd.concat([new_df, top_mean_df], axis=0, ignore_index=True)\n",
    "    \n",
    "new_df.columns = ['比赛名称', *date_list]\n",
    "new_df.to_csv('./result/leaderboard_change/排行榜前十平均分变化.csv', index=False, encoding='utf-8')"
   ]
  },
  {
   "attachments": {},
   "cell_type": "markdown",
   "metadata": {},
   "source": [
    "#### 前三名用户提交次数及分数提升"
   ]
  },
  {
   "cell_type": "code",
   "execution_count": 29,
   "metadata": {},
   "outputs": [
    {
     "name": "stdout",
     "output_type": "stream",
     "text": [
      "第一届OnSite自动驾驶算法挑战赛（交叉口专项赛）\n",
      "23.12856675\n",
      "4.752499999999998\n",
      "2.5462500000000006\n",
      "9.0097\n",
      "2.370766666666666\n",
      "2.1303000000000005\n",
      "0.192499999999999\n",
      "4.6898333333333335\n",
      "3.0201047619047623\n",
      "3.1420250000000003\n",
      "第一届OnSite自动驾驶算法挑战赛（综合赛）\n",
      "0.0\n",
      "9.177475\n",
      "25.91965\n",
      "9.57783333333333\n",
      "3.2907636363636357\n",
      "0.0\n",
      "0.0\n",
      "0.34779999999999944\n",
      "8.0414\n",
      "3.1971166666666675\n",
      "第一届OnSite自动驾驶算法挑战赛（高速路基本段专项赛）\n",
      "0.567025000000001\n",
      "1.4562428571428572\n",
      "0.160420000000002\n",
      "0.7569000000000017\n",
      "0.0\n",
      "1.6675999999999993\n",
      "5.721725000000003\n",
      "1.724474074074074\n",
      "0.9974857142857141\n",
      "0.2292500000000004\n",
      "第一届OnSite自动驾驶算法挑战赛（高速路汇入汇出区专项赛）\n",
      "0.2874833333333342\n",
      "0.0920000000000023\n",
      "6.227099999999993\n",
      "1.1987714285714293\n",
      "1.4486500000000007\n",
      "0.0\n",
      "0.5465333333333314\n",
      "0.0\n",
      "3.076599999999999\n",
      "0.8526333333333298\n"
     ]
    },
    {
     "data": {
      "text/html": [
       "<div>\n",
       "<style scoped>\n",
       "    .dataframe tbody tr th:only-of-type {\n",
       "        vertical-align: middle;\n",
       "    }\n",
       "\n",
       "    .dataframe tbody tr th {\n",
       "        vertical-align: top;\n",
       "    }\n",
       "\n",
       "    .dataframe thead th {\n",
       "        text-align: right;\n",
       "    }\n",
       "</style>\n",
       "<table border=\"1\" class=\"dataframe\">\n",
       "  <thead>\n",
       "    <tr style=\"text-align: right;\">\n",
       "      <th></th>\n",
       "      <th>submitId</th>\n",
       "      <th>submitterId</th>\n",
       "      <th>competitionId</th>\n",
       "      <th>submitTime</th>\n",
       "      <th>testTime</th>\n",
       "      <th>score</th>\n",
       "      <th>dockerId</th>\n",
       "      <th>paperType</th>\n",
       "      <th>resultLink</th>\n",
       "      <th>status</th>\n",
       "      <th>testDetail</th>\n",
       "    </tr>\n",
       "  </thead>\n",
       "  <tbody>\n",
       "    <tr>\n",
       "      <th>0</th>\n",
       "      <td>s_20230529234746_20230427032549</td>\n",
       "      <td>20230427032549</td>\n",
       "      <td>2023031902</td>\n",
       "      <td>2023-05-29 23:47:46</td>\n",
       "      <td>2023-05-30 09:30:35</td>\n",
       "      <td>NaN</td>\n",
       "      <td>lvan1949/transformer_trajectory_planning:0.0.2</td>\n",
       "      <td>B</td>\n",
       "      <td>https://resource.onsite.run/results/2023031902...</td>\n",
       "      <td>SUCCESS</td>\n",
       "      <td>{\"pid\": 1633257, \"pull\": {\"cost\": \"0.89\", \"sta...</td>\n",
       "    </tr>\n",
       "    <tr>\n",
       "      <th>1</th>\n",
       "      <td>s_20230530215214_20230427032549</td>\n",
       "      <td>20230427032549</td>\n",
       "      <td>2023031902</td>\n",
       "      <td>2023-05-30 21:52:15</td>\n",
       "      <td>2023-06-04 10:02:17</td>\n",
       "      <td>65.8435</td>\n",
       "      <td>lvan1949/transformer_trajectory_planning:0.0.3</td>\n",
       "      <td>B</td>\n",
       "      <td>https://resource.onsite.run/results/2023031902...</td>\n",
       "      <td>SUCCESS</td>\n",
       "      <td>{\"pid\": 1633266, \"pull\": {\"cost\": \"1.32\", \"sta...</td>\n",
       "    </tr>\n",
       "    <tr>\n",
       "      <th>2</th>\n",
       "      <td>s_20230531223833_20230427032549</td>\n",
       "      <td>20230427032549</td>\n",
       "      <td>2023031902</td>\n",
       "      <td>2023-05-31 22:38:34</td>\n",
       "      <td>2023-06-04 09:59:37</td>\n",
       "      <td>68.4014</td>\n",
       "      <td>lvan1949/transformer_trajectory_planning:0.0.5</td>\n",
       "      <td>B</td>\n",
       "      <td>https://resource.onsite.run/results/2023031902...</td>\n",
       "      <td>SUCCESS</td>\n",
       "      <td>{\"pid\": 1633259, \"pull\": {\"cost\": \"4.23\", \"sta...</td>\n",
       "    </tr>\n",
       "  </tbody>\n",
       "</table>\n",
       "</div>"
      ],
      "text/plain": [
       "                          submitId     submitterId competitionId   \n",
       "0  s_20230529234746_20230427032549  20230427032549    2023031902  \\\n",
       "1  s_20230530215214_20230427032549  20230427032549    2023031902   \n",
       "2  s_20230531223833_20230427032549  20230427032549    2023031902   \n",
       "\n",
       "           submitTime            testTime    score   \n",
       "0 2023-05-29 23:47:46 2023-05-30 09:30:35      NaN  \\\n",
       "1 2023-05-30 21:52:15 2023-06-04 10:02:17  65.8435   \n",
       "2 2023-05-31 22:38:34 2023-06-04 09:59:37  68.4014   \n",
       "\n",
       "                                         dockerId paperType   \n",
       "0  lvan1949/transformer_trajectory_planning:0.0.2         B  \\\n",
       "1  lvan1949/transformer_trajectory_planning:0.0.3         B   \n",
       "2  lvan1949/transformer_trajectory_planning:0.0.5         B   \n",
       "\n",
       "                                          resultLink   status   \n",
       "0  https://resource.onsite.run/results/2023031902...  SUCCESS  \\\n",
       "1  https://resource.onsite.run/results/2023031902...  SUCCESS   \n",
       "2  https://resource.onsite.run/results/2023031902...  SUCCESS   \n",
       "\n",
       "                                          testDetail  \n",
       "0  {\"pid\": 1633257, \"pull\": {\"cost\": \"0.89\", \"sta...  \n",
       "1  {\"pid\": 1633266, \"pull\": {\"cost\": \"1.32\", \"sta...  \n",
       "2  {\"pid\": 1633259, \"pull\": {\"cost\": \"4.23\", \"sta...  "
      ]
     },
     "execution_count": 29,
     "metadata": {},
     "output_type": "execute_result"
    }
   ],
   "source": [
    "import pandas as pd\n",
    "leaderboard_path = r\"/home/ubuntu/onsite-test-server/tester/tools/test_C/leaderboard_final.xlsx\"\n",
    "\n",
    "leaderboard = pd.read_excel(leaderboard_path, sheet_name=None)\n",
    "\n",
    "for competitionName, competition_rows in leaderboard.items():\n",
    "    competitionId = database._get_value(table='competition', field='competitionId', logic='AND', competitionName=competitionName)[0][0]\n",
    "    print(competitionName)\n",
    "    for index, user_row in competition_rows.head(10).iterrows():\n",
    "        userName = user_row['主用户名']\n",
    "        userId = database._get_value(table='user', field='userId', logic='AND', userName=userName)[0][0]\n",
    "        user_submits = database._get_value(table='submit', field='*', logic='AND', competitionId=competitionId, submitterId=userId, status='SUCCESS', paperType='B')\n",
    "        user_submits_df = pd.DataFrame(user_submits, columns=database.columns)\n",
    "        # user_submits_df.dropna(subset=['score'], inplace=True)\n",
    "        # user_submits_df.sort_values(by='submitTime', inplace=True, ascending=True)\n",
    "        print((user_submits_df['score'].max()-user_submits_df['score'].min())/user_submits_df['dockerId'].nunique())\n",
    "user_submits_df"
   ]
  }
 ],
 "metadata": {
  "kernelspec": {
   "display_name": "tester",
   "language": "python",
   "name": "python3"
  },
  "language_info": {
   "codemirror_mode": {
    "name": "ipython",
    "version": 3
   },
   "file_extension": ".py",
   "mimetype": "text/x-python",
   "name": "python",
   "nbconvert_exporter": "python",
   "pygments_lexer": "ipython3",
   "version": "3.8.16"
  },
  "orig_nbformat": 4
 },
 "nbformat": 4,
 "nbformat_minor": 2
}
